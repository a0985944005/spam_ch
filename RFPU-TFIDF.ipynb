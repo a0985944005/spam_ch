{
 "cells": [
  {
   "cell_type": "markdown",
   "metadata": {},
   "source": [
    "# 匯入一些套件還有匯入文檔"
   ]
  },
  {
   "cell_type": "code",
   "execution_count": 2,
   "metadata": {},
   "outputs": [
    {
     "name": "stdout",
     "output_type": "stream",
     "text": [
      "Populating the interactive namespace from numpy and matplotlib\n",
      "spam total： 7775\n",
      "ham total： 7063\n"
     ]
    }
   ],
   "source": [
    "%pylab inline\n",
    "import time\n",
    "import re\n",
    "import matplotlib.pyplot as plt\n",
    "import pandas as pd\n",
    "import string\n",
    "import codecs\n",
    "import os\n",
    "import jieba\n",
    "from sklearn.feature_extraction.text import CountVectorizer\n",
    "from wordcloud import WordCloud\n",
    "from sklearn import naive_bayes as bayes\n",
    "from sklearn.model_selection import train_test_split\n",
    "#簡轉繁\n",
    "from hanziconv import HanziConv\n",
    "\n",
    "#ham與spam的每封郵件list\n",
    "ham_text = []\n",
    "spam_text = []\n",
    "#ham與spam的數據集\n",
    "ham_data = []\n",
    "spam_data = []\n",
    "#取得目前工作目錄\n",
    "SaveDirectory = os.getcwd() \n",
    "#獲得文檔列表\n",
    "listham = os.listdir(SaveDirectory+'\\\\data\\\\normal')\n",
    "listspam = os.listdir(SaveDirectory+'\\\\data\\\\spam')\n",
    "#數據集數量\n",
    "\n",
    "print('spam total：',len(listspam))\n",
    "print('ham total：',len(listham))\n"
   ]
  },
  {
   "cell_type": "markdown",
   "metadata": {},
   "source": [
    "# 先匯入HAM文檔並給予label = 0"
   ]
  },
  {
   "cell_type": "code",
   "execution_count": 38,
   "metadata": {},
   "outputs": [
    {
     "data": {
      "text/html": [
       "<div>\n",
       "<style scoped>\n",
       "    .dataframe tbody tr th:only-of-type {\n",
       "        vertical-align: middle;\n",
       "    }\n",
       "\n",
       "    .dataframe tbody tr th {\n",
       "        vertical-align: top;\n",
       "    }\n",
       "\n",
       "    .dataframe thead th {\n",
       "        text-align: right;\n",
       "    }\n",
       "</style>\n",
       "<table border=\"1\" class=\"dataframe\">\n",
       "  <thead>\n",
       "    <tr style=\"text-align: right;\">\n",
       "      <th></th>\n",
       "      <th>text</th>\n",
       "      <th>label</th>\n",
       "    </tr>\n",
       "  </thead>\n",
       "  <tbody>\n",
       "    <tr>\n",
       "      <th>0</th>\n",
       "      <td>這事兒還有續集 因為我姐她們買房子後來裝修的時候沒錢她婆婆他們就贊助瞭萬塊 這下一吵她婆婆就...</td>\n",
       "      <td>0</td>\n",
       "    </tr>\n",
       "    <tr>\n",
       "      <th>1</th>\n",
       "      <td>越發覺得這個姐夫不錯瞭 那萬還是趕緊還瞭吧 標題姐姐快要生孩子瞭很感慨 發信站水木社區站內 ...</td>\n",
       "      <td>0</td>\n",
       "    </tr>\n",
       "    <tr>\n",
       "      <th>2</th>\n",
       "      <td>或許某些農村吧 在一個當性彆勞動力富裕程度的地方還是可以理解的 標題姐姐快要生孩子瞭很感慨 ...</td>\n",
       "      <td>0</td>\n",
       "    </tr>\n",
       "    <tr>\n",
       "      <th>3</th>\n",
       "      <td>最近經常看到你說一些很武斷的話 所謂保胎確實是要躺在床上不能動的尤其是先兆流産有齣血的時候 ...</td>\n",
       "      <td>0</td>\n",
       "    </tr>\n",
       "    <tr>\n",
       "      <th>4</th>\n",
       "      <td>他們分手是說性格不閤 沒多久然後我們交往 還算比較愉快 當初因為他經常和聯係我曾跟他吵過多次...</td>\n",
       "      <td>0</td>\n",
       "    </tr>\n",
       "  </tbody>\n",
       "</table>\n",
       "</div>"
      ],
      "text/plain": [
       "                                                text label\n",
       "0  這事兒還有續集 因為我姐她們買房子後來裝修的時候沒錢她婆婆他們就贊助瞭萬塊 這下一吵她婆婆就...     0\n",
       "1  越發覺得這個姐夫不錯瞭 那萬還是趕緊還瞭吧 標題姐姐快要生孩子瞭很感慨 發信站水木社區站內 ...     0\n",
       "2  或許某些農村吧 在一個當性彆勞動力富裕程度的地方還是可以理解的 標題姐姐快要生孩子瞭很感慨 ...     0\n",
       "3  最近經常看到你說一些很武斷的話 所謂保胎確實是要躺在床上不能動的尤其是先兆流産有齣血的時候 ...     0\n",
       "4  他們分手是說性格不閤 沒多久然後我們交往 還算比較愉快 當初因為他經常和聯係我曾跟他吵過多次...     0"
      ]
     },
     "execution_count": 38,
     "metadata": {},
     "output_type": "execute_result"
    }
   ],
   "source": [
    "for fileName in listham:\n",
    "        with open('data/normal/'+fileName, 'r',encoding='gbk') as f:\n",
    "            #文本每一列儲存\n",
    "            text=[]\n",
    "            # 過濾非中文字符，正規化\n",
    "            for line in f.readlines():\n",
    "                pattern = re.compile('[^\\u4e00-\\u9fa5]') #正規化(去除非中文字符)\n",
    "                line = pattern.sub(\"\", line) #將其他字符取代為\"\"\n",
    "                content = line.strip().split() #去除一些空白.換行\n",
    "                text = text+content #儲存這個文本的內容\n",
    "            text = \" \".join(text) #將文本內容list加入全部文本的list\n",
    "            ham_text.append(HanziConv.toTraditional(text)) #簡轉繁\n",
    "ham_data = pd.DataFrame(ham_text,columns=['text']) #將list改成dataframe\n",
    "ham_data['label']='0' #將資料類別加上 0:ham 1:spam\n",
    "ham_data.head()\n"
   ]
  },
  {
   "cell_type": "markdown",
   "metadata": {},
   "source": [
    "# 先匯入SPAM文檔並給予label = 1"
   ]
  },
  {
   "cell_type": "code",
   "execution_count": 39,
   "metadata": {},
   "outputs": [
    {
     "data": {
      "text/html": [
       "<div>\n",
       "<style scoped>\n",
       "    .dataframe tbody tr th:only-of-type {\n",
       "        vertical-align: middle;\n",
       "    }\n",
       "\n",
       "    .dataframe tbody tr th {\n",
       "        vertical-align: top;\n",
       "    }\n",
       "\n",
       "    .dataframe thead th {\n",
       "        text-align: right;\n",
       "    }\n",
       "</style>\n",
       "<table border=\"1\" class=\"dataframe\">\n",
       "  <thead>\n",
       "    <tr style=\"text-align: right;\">\n",
       "      <th></th>\n",
       "      <th>text</th>\n",
       "      <th>label</th>\n",
       "    </tr>\n",
       "  </thead>\n",
       "  <tbody>\n",
       "    <tr>\n",
       "      <th>0</th>\n",
       "      <td>會員注冊邀請書 全國最低價域名空間大放送 國際頂級域名注冊驚暴價元年元年連續注冊年以上 國傢...</td>\n",
       "      <td>1</td>\n",
       "    </tr>\n",
       "    <tr>\n",
       "      <th>1</th>\n",
       "      <td>你好 以茶會友以茶聯誼喝茶就喝安溪鐵觀音 本廠是專業生産批發各等級鐵觀音茶葉的購買聯係 在綫...</td>\n",
       "      <td>1</td>\n",
       "    </tr>\n",
       "    <tr>\n",
       "      <th>2</th>\n",
       "      <td>尊敬的先生小姐 您好 首先感謝您抽時間查看以下信息 我公司一直緻力於研發生産銷售施工環氧樹脂...</td>\n",
       "      <td>1</td>\n",
       "    </tr>\n",
       "    <tr>\n",
       "      <th>3</th>\n",
       "      <td>先生 你好 批發麻醉藥催情藥墮胎藥避孕藥飲料型噴霧型香煙型揮發型等各類國際國內製藥企業推齣的...</td>\n",
       "      <td>1</td>\n",
       "    </tr>\n",
       "    <tr>\n",
       "      <th>4</th>\n",
       "      <td>貴公司負責人經理財務您好 我是深圳市創偉實業有限公司的我司實力雄厚有著良 好的社會關係也有部...</td>\n",
       "      <td>1</td>\n",
       "    </tr>\n",
       "  </tbody>\n",
       "</table>\n",
       "</div>"
      ],
      "text/plain": [
       "                                                text label\n",
       "0  會員注冊邀請書 全國最低價域名空間大放送 國際頂級域名注冊驚暴價元年元年連續注冊年以上 國傢...     1\n",
       "1  你好 以茶會友以茶聯誼喝茶就喝安溪鐵觀音 本廠是專業生産批發各等級鐵觀音茶葉的購買聯係 在綫...     1\n",
       "2  尊敬的先生小姐 您好 首先感謝您抽時間查看以下信息 我公司一直緻力於研發生産銷售施工環氧樹脂...     1\n",
       "3  先生 你好 批發麻醉藥催情藥墮胎藥避孕藥飲料型噴霧型香煙型揮發型等各類國際國內製藥企業推齣的...     1\n",
       "4  貴公司負責人經理財務您好 我是深圳市創偉實業有限公司的我司實力雄厚有著良 好的社會關係也有部...     1"
      ]
     },
     "execution_count": 39,
     "metadata": {},
     "output_type": "execute_result"
    }
   ],
   "source": [
    "for fileName in listspam:\n",
    "        with open('data/spam/'+fileName, 'r',encoding='gbk') as f:\n",
    "            text=[]\n",
    "            # 过滤掉非中文字符\n",
    "            for line in f.readlines():\n",
    "                pattern = re.compile('[^\\u4e00-\\u9fa5]')\n",
    "                line = pattern.sub(\"\", line)\n",
    "                content = line.strip().split()\n",
    "                text = text+content\n",
    "            text = \" \".join(text)\n",
    "            spam_text.append(HanziConv.toTraditional(text))\n",
    "spam_data = pd.DataFrame(spam_text,columns=['text'])\n",
    "spam_data['label']='1'\n",
    "spam_data.head()"
   ]
  },
  {
   "cell_type": "markdown",
   "metadata": {},
   "source": [
    "# 把匯入的 SPAM與HAM結合並打亂"
   ]
  },
  {
   "cell_type": "code",
   "execution_count": 40,
   "metadata": {},
   "outputs": [
    {
     "name": "stdout",
     "output_type": "stream",
     "text": [
      "data shape： (14838, 2)\n",
      "spams in rows： 7775\n",
      "hams in rows： 7063\n"
     ]
    },
    {
     "data": {
      "text/html": [
       "<div>\n",
       "<style scoped>\n",
       "    .dataframe tbody tr th:only-of-type {\n",
       "        vertical-align: middle;\n",
       "    }\n",
       "\n",
       "    .dataframe tbody tr th {\n",
       "        vertical-align: top;\n",
       "    }\n",
       "\n",
       "    .dataframe thead th {\n",
       "        text-align: right;\n",
       "    }\n",
       "</style>\n",
       "<table border=\"1\" class=\"dataframe\">\n",
       "  <thead>\n",
       "    <tr style=\"text-align: right;\">\n",
       "      <th></th>\n",
       "      <th>text</th>\n",
       "      <th>label</th>\n",
       "    </tr>\n",
       "  </thead>\n",
       "  <tbody>\n",
       "    <tr>\n",
       "      <th>0</th>\n",
       "      <td>一般的房子除瞭房租和取暖費其他的費用要多少錢包括水電氣閉路寬帶一個月大概花多少我和另人閤租的...</td>\n",
       "      <td>0</td>\n",
       "    </tr>\n",
       "    <tr>\n",
       "      <th>1</th>\n",
       "      <td>貴公司負責人經理財務您好 我是深圳市粵佳實業有限公司的廣州東莞等市有分公司 我司實力雄厚有著...</td>\n",
       "      <td>1</td>\n",
       "    </tr>\n",
       "    <tr>\n",
       "      <th>2</th>\n",
       "      <td>這個男人也算不上什麼成功吧我看他娶我朋友倒是他生活的成功開始纔對早年名牌大學畢業但走瞭十年的...</td>\n",
       "      <td>0</td>\n",
       "    </tr>\n",
       "    <tr>\n",
       "      <th>3</th>\n",
       "      <td>寒尤其是第二個 手洗更洗不乾淨的怎麼辦 自從確認懷孕瞭以後我的苦日子就開始瞭因為老婆撂瞭挑子...</td>\n",
       "      <td>0</td>\n",
       "    </tr>\n",
       "    <tr>\n",
       "      <th>4</th>\n",
       "      <td>尊敬的新老客戶 您們好 深圳市中泰實業有限公司國內設有多傢分公司實力雄厚有著良 好的社會關係...</td>\n",
       "      <td>1</td>\n",
       "    </tr>\n",
       "    <tr>\n",
       "      <th>5</th>\n",
       "      <td>上海輝然華貿易有限公司是一傢集産品研究開發生産代理銷售電子商務於一體的多元化貿易企業其所屬産...</td>\n",
       "      <td>1</td>\n",
       "    </tr>\n",
       "  </tbody>\n",
       "</table>\n",
       "</div>"
      ],
      "text/plain": [
       "                                                text label\n",
       "0  一般的房子除瞭房租和取暖費其他的費用要多少錢包括水電氣閉路寬帶一個月大概花多少我和另人閤租的...     0\n",
       "1  貴公司負責人經理財務您好 我是深圳市粵佳實業有限公司的廣州東莞等市有分公司 我司實力雄厚有著...     1\n",
       "2  這個男人也算不上什麼成功吧我看他娶我朋友倒是他生活的成功開始纔對早年名牌大學畢業但走瞭十年的...     0\n",
       "3  寒尤其是第二個 手洗更洗不乾淨的怎麼辦 自從確認懷孕瞭以後我的苦日子就開始瞭因為老婆撂瞭挑子...     0\n",
       "4  尊敬的新老客戶 您們好 深圳市中泰實業有限公司國內設有多傢分公司實力雄厚有著良 好的社會關係...     1\n",
       "5  上海輝然華貿易有限公司是一傢集産品研究開發生産代理銷售電子商務於一體的多元化貿易企業其所屬産...     1"
      ]
     },
     "execution_count": 40,
     "metadata": {},
     "output_type": "execute_result"
    }
   ],
   "source": [
    "all_data = pd.concat([spam_data,ham_data],axis=0, ignore_index=True)  #將ham lsit與spam list串起來\n",
    "all_data = all_data.sample(frac=1).reset_index(drop=True) #sample frac = 1 是把數據都打亂 resr_index是把index也重設\n",
    "print('data shape：',all_data.shape)\n",
    "print('spams in rows：',all_data.loc[all_data['label']==\"1\"].shape[0])\n",
    "print('hams in rows：',all_data.loc[all_data['label']==\"0\"].shape[0])\n",
    "all_data.head(6)"
   ]
  },
  {
   "cell_type": "markdown",
   "metadata": {},
   "source": [
    "# 接著載入停詞表及斷詞"
   ]
  },
  {
   "cell_type": "code",
   "execution_count": 41,
   "metadata": {},
   "outputs": [],
   "source": [
    "#載入 停用詞 (stopwords) 自動過濾掉某些字或詞\n",
    "stopwords = codecs.open(os.path.join(SaveDirectory+'\\data', 'stopwords_tr.txt'), 'r', 'utf-8').read().split('\\r\\n')\n",
    "#下面斷詞\n",
    "processed_texts = []\n",
    "for text in all_data[\"text\"]:\n",
    "    words = []\n",
    "    seg_list = jieba.cut(text) #利用Jieba斷詞\n",
    "    for seg in seg_list: \n",
    "        # isalpha()檢測詞是否由字符組成，且不在停用詞的list中\n",
    "        if (seg.isalpha()) & (seg not in stopwords):\n",
    "            words.append(seg)\n",
    "    sentence = \" \".join(words)\n",
    "    processed_texts.append(sentence)\n",
    "all_data[\"text\"] = processed_texts #利用過濾且斷好的詞取代文本\n"
   ]
  },
  {
   "cell_type": "markdown",
   "metadata": {},
   "source": [
    "# 接著將資料切成訓練及與測試集"
   ]
  },
  {
   "cell_type": "code",
   "execution_count": 42,
   "metadata": {},
   "outputs": [],
   "source": [
    "#traindate & testdata\n",
    "train_set, test_set, trainlabel, testlabel = train_test_split(all_data[\"text\"], all_data[\"label\"], test_size = 0.15)"
   ]
  },
  {
   "cell_type": "code",
   "execution_count": 43,
   "metadata": {},
   "outputs": [
    {
     "name": "stdout",
     "output_type": "stream",
     "text": [
      "train:12612\n",
      "test:2226\n"
     ]
    },
    {
     "data": {
      "text/plain": [
       "(6640,)"
      ]
     },
     "execution_count": 43,
     "metadata": {},
     "output_type": "execute_result"
    }
   ],
   "source": [
    "print(\"train:\"+str(len(train_set)))\n",
    "print(\"test:\"+str(len(test_set)))\n",
    "trainlabel[trainlabel=='1'].shape"
   ]
  },
  {
   "cell_type": "code",
   "execution_count": 44,
   "metadata": {},
   "outputs": [
    {
     "data": {
      "text/plain": [
       "(4043,)"
      ]
     },
     "execution_count": 44,
     "metadata": {},
     "output_type": "execute_result"
    }
   ],
   "source": [
    "trainlabel_orig = trainlabel.copy()\n",
    "# 取消一些標記的數據\n",
    "unlabeled_size = 2597\n",
    "#loc可以選擇數據(把上面數量的POSTIVE DATA隱藏為UNLABELED DATA)\n",
    "trainlabel.loc[\n",
    "    np.random.choice(\n",
    "        trainlabel[trainlabel == '1'].index, \n",
    "        replace = False, \n",
    "        size = unlabeled_size\n",
    "    )\n",
    "] = '0'\n",
    "trainlabel[trainlabel=='1'].shape"
   ]
  },
  {
   "cell_type": "code",
   "execution_count": 45,
   "metadata": {},
   "outputs": [
    {
     "data": {
      "text/plain": [
       "(4043, 3)"
      ]
     },
     "execution_count": 45,
     "metadata": {},
     "output_type": "execute_result"
    }
   ],
   "source": [
    "positive_train = trainlabel[trainlabel=='1'].index\n",
    "positive_data = train_set[positive_train]\n",
    "positive_spam = pd.DataFrame(\n",
    "    {\n",
    "     'text':positive_data, \n",
    "     'label':trainlabel[positive_train],\n",
    "     'truth':trainlabel_orig[positive_train]\n",
    "    })\n",
    "positive_spam.shape\n"
   ]
  },
  {
   "cell_type": "code",
   "execution_count": 46,
   "metadata": {},
   "outputs": [],
   "source": [
    "import re\n",
    "def generate_key_list(all_data, size_table=200,ignore=2):\n",
    "    dict_spam_raw = dict()\n",
    "    dict_genuine_raw = dict()\n",
    "    dict_IDF = dict()\n",
    "\n",
    "    # 去除字母外的所有內容.\n",
    "    for i in range(all_data.shape[0]):\n",
    "        finds = all_data.iloc[i].text.split(\" \")\n",
    "        if all_data.iloc[i].label == '1':\n",
    "            for find in finds:\n",
    "                if len(find)<ignore: continue\n",
    "                try:\n",
    "                    dict_spam_raw[find] = dict_spam_raw[find] + 1\n",
    "                except:\t\n",
    "                    dict_spam_raw[find] = dict_spam_raw.get(find,1) #若是新的文字因為後面get找不到這個索引會返回逗點後面的值\n",
    "                    dict_genuine_raw[find] = dict_genuine_raw.get(find,0)\n",
    "        else:\n",
    "            for find in finds:\n",
    "                if len(find)<ignore: continue\n",
    "                try:\n",
    "                    dict_genuine_raw[find] = dict_genuine_raw[find] + 1\n",
    "                except:\t\n",
    "                    dict_genuine_raw[find] = dict_genuine_raw.get(find,1)\n",
    "                    dict_spam_raw[find] = dict_spam_raw.get(find,0)\n",
    "\n",
    "        word_set = set()\n",
    "        for find in finds:\n",
    "            if not(find in word_set):\n",
    "                if len(find)<ignore: continue\n",
    "                try:\n",
    "                    dict_IDF[find] = dict_IDF[find] + 1\n",
    "                except:\t\n",
    "                    dict_IDF[find] = dict_IDF.get(find,1)\n",
    "            word_set.add(find)\n",
    "    word_df = pd.DataFrame(list(zip(dict_genuine_raw.keys(),dict_genuine_raw.values(),dict_spam_raw.values(),dict_IDF.values())))\n",
    "    word_df.columns = ['keyword','genuine','spam','IDF']\n",
    "    word_df['genuine'] = word_df['genuine'].astype('float')/all_data[all_data['label']=='0'].shape[0]\n",
    "    word_df['spam'] = word_df['spam'].astype('float')/all_data[all_data['label']=='1'].shape[0]\n",
    "    word_df['IDF'] = np.log10(word_df.shape[0]/word_df['IDF'].astype('float'))\n",
    "    word_df['genuine_IDF'] = word_df['genuine']*word_df['IDF']\n",
    "    word_df['spam_IDF'] = word_df['spam']*word_df['IDF']\n",
    "    word_df['diff']=word_df['spam_IDF']-word_df['genuine_IDF']\n",
    "    selected_spam_key = word_df.sort_values('diff',ascending=False)  \n",
    "    keyword_dict = dict()\n",
    "    i = 0\n",
    "    for word in selected_spam_key.head(size_table).keyword:\n",
    "        keyword_dict.update({word.strip():i})\n",
    "        i+=1\n",
    "    return keyword_dict   \n",
    "# build a tabu list based on the training data\n",
    "size_table = 200               # 多少特徵維度去分類SPAM\n",
    "word_len_ignored = 2            # 忽略那些比這個還要小的字詞\n",
    "keyword_dict=generate_key_list(positive_spam, size_table, word_len_ignored)"
   ]
  },
  {
   "cell_type": "code",
   "execution_count": 47,
   "metadata": {},
   "outputs": [
    {
     "name": "stdout",
     "output_type": "stream",
     "text": [
      "尊敬:0\n",
      "公司:1\n",
      "領導:2\n",
      "能為:3\n",
      "貴司:4\n",
      "代理:5\n",
      "對開:6\n",
      "增值:7\n",
      "稅發票:8\n",
      "電腦:9\n",
      "收費:10\n",
      "普通:11\n",
      "國稅:12\n",
      "建築安裝:13\n",
      "建築:14\n",
      "廣告:15\n",
      "運輸:16\n",
      "服務行業:17\n",
      "汽車:18\n",
      "維修:19\n",
      "各類:20\n",
      "專用:21\n",
      "發票:22\n",
      "數額:23\n",
      "商談歡:24\n",
      "迎來:25\n",
      "電洽:26\n",
      "謝謝:27\n",
      "本郵件:28\n",
      "無關:29\n",
      "隨手:30\n",
      "刪除:31\n",
      "造成:32\n",
      "不便:33\n",
      "歉意:34\n",
      "先生:35\n",
      "電話:36\n",
      "順祝:37\n",
      "商祺:38\n",
      "您好:39\n",
      "廣東:40\n",
      "嘉禾:41\n",
      "貿易:42\n",
      "有限公司:43\n",
      "多年:44\n",
      "發展:45\n",
      "不斷:46\n",
      "壯大現:47\n",
      "全國:48\n",
      "各省市:49\n",
      "上百:50\n",
      "有著:51\n",
      "密切:52\n",
      "業務聯:53\n",
      "優惠代:54\n",
      "開海:55\n",
      "關代徵:56\n",
      "稅專用:57\n",
      "繳款:58\n",
      "地稅代:59\n",
      "開範圍:60\n",
      "商品:61\n",
      "銷售:62\n",
      "服務:63\n",
      "餐飲:64\n",
      "定額:65\n",
      "廣東省:66\n",
      "銷售統:67\n",
      "一發票:68\n",
      "可根據:69\n",
      "所開:70\n",
      "數量:71\n",
      "額度:72\n",
      "大小:73\n",
      "衡量:74\n",
      "優惠:75\n",
      "點數本:76\n",
      "鄭重:77\n",
      "承諾:78\n",
      "所用:79\n",
      "票據:80\n",
      "單位:81\n",
      "稅務:82\n",
      "局所:83\n",
      "申領:84\n",
      "可上:85\n",
      "網查:86\n",
      "詢電話:87\n",
      "查詢:88\n",
      "局驗證:89\n",
      "業務範:90\n",
      "圍代開:91\n",
      "詳情:92\n",
      "李小姐:93\n",
      "手機:94\n",
      "傳真:95\n",
      "地址:96\n",
      "州市:97\n",
      "白雲區:98\n",
      "負責人:99\n",
      "經理:100\n",
      "財務:101\n",
      "鵬輝:102\n",
      "實業:103\n",
      "廣州:104\n",
      "東莞:105\n",
      "分公司:106\n",
      "我司:107\n",
      "實力:108\n",
      "雄厚:109\n",
      "良好:110\n",
      "社會關:111\n",
      "進項:112\n",
      "多現:113\n",
      "完成:114\n",
      "每月:115\n",
      "售額度:116\n",
      "一部分:117\n",
      "稅電腦:118\n",
      "海關:119\n",
      "左右:120\n",
      "普通商品:121\n",
      "銷售稅:122\n",
      "服務廣告:123\n",
      "交通:124\n",
      "工程:125\n",
      "優惠代開:126\n",
      "作點:127\n",
      "數較:128\n",
      "商討:129\n",
      "點數:130\n",
      "成立:131\n",
      "一直:132\n",
      "堅持:133\n",
      "以誠信:134\n",
      "中心:135\n",
      "核心思想:136\n",
      "牢固:137\n",
      "樹立:138\n",
      "真正:139\n",
      "做到:140\n",
      "閤作:141\n",
      "一次:142\n",
      "永久:143\n",
      "朋友:144\n",
      "用絕:145\n",
      "真票:146\n",
      "希望:147\n",
      "能夠:148\n",
      "機會:149\n",
      "如貴司:150\n",
      "疑慮:151\n",
      "擔心:152\n",
      "網查證:153\n",
      "直接:154\n",
      "稅務局:155\n",
      "抵扣:156\n",
      "核對:157\n",
      "信息:158\n",
      "有效:159\n",
      "如須:160\n",
      "一步:161\n",
      "洽商:162\n",
      "電小時:163\n",
      "業務:164\n",
      "郵箱:165\n",
      "人陳靜:166\n",
      "拒絕:167\n",
      "萬元:168\n",
      "投資:169\n",
      "十倍:170\n",
      "河南:171\n",
      "民間:172\n",
      "手工:173\n",
      "藝術品:174\n",
      "李莊立:175\n",
      "體畫:176\n",
      "中國:177\n",
      "文化部:178\n",
      "譽為:179\n",
      "中華:180\n",
      "一絕:181\n",
      "神奇:182\n",
      "精美:183\n",
      "立體:184\n",
      "效果:185\n",
      "所有:186\n",
      "印刷品:187\n",
      "望塵:188\n",
      "莫及:189\n",
      "三次:190\n",
      "饋贈:191\n",
      "外賓:192\n",
      "大會堂:193\n",
      "亞運村:194\n",
      "紀念館:195\n",
      "德國:196\n",
      "柏林:197\n",
      "市政:198\n",
      "大廳:199\n"
     ]
    }
   ],
   "source": [
    "#排序越前面的代表出現在SPAM的機率越大\n",
    "for key,value in keyword_dict.items():\n",
    "    print('{key}:{value}'.format(key = key, value = value))"
   ]
  },
  {
   "cell_type": "code",
   "execution_count": 48,
   "metadata": {},
   "outputs": [
    {
     "data": {
      "text/html": [
       "<div>\n",
       "<style scoped>\n",
       "    .dataframe tbody tr th:only-of-type {\n",
       "        vertical-align: middle;\n",
       "    }\n",
       "\n",
       "    .dataframe tbody tr th {\n",
       "        vertical-align: top;\n",
       "    }\n",
       "\n",
       "    .dataframe thead th {\n",
       "        text-align: right;\n",
       "    }\n",
       "</style>\n",
       "<table border=\"1\" class=\"dataframe\">\n",
       "  <thead>\n",
       "    <tr style=\"text-align: right;\">\n",
       "      <th></th>\n",
       "      <th>label</th>\n",
       "      <th>text</th>\n",
       "      <th>truth</th>\n",
       "    </tr>\n",
       "  </thead>\n",
       "  <tbody>\n",
       "    <tr>\n",
       "      <th>7091</th>\n",
       "      <td>0</td>\n",
       "      <td>祝 瞭 年前 歲 生日 傢 人 第一次 準備 瞭 生日蛋糕 心急如焚 碩鼠 如梭 蒼蠅 狂舞...</td>\n",
       "      <td>0</td>\n",
       "    </tr>\n",
       "    <tr>\n",
       "      <th>5178</th>\n",
       "      <td>0</td>\n",
       "      <td>年 最新 暢銷 圖書 特書 幾百個 品種 一律 特價書 銷售 歡迎 全國 各書 商來 電來 ...</td>\n",
       "      <td>1</td>\n",
       "    </tr>\n",
       "    <tr>\n",
       "      <th>5629</th>\n",
       "      <td>0</td>\n",
       "      <td>標題 傢 判斷 一下 那女 迴 事 發信 站 社區 站 脾氣 真好 不準 男朋友 女人 單獨...</td>\n",
       "      <td>0</td>\n",
       "    </tr>\n",
       "    <tr>\n",
       "      <th>165</th>\n",
       "      <td>0</td>\n",
       "      <td>尊敬 公司 領負 責人 經理 財務 好 佰成 實業 有限公司 我司 實力 雄厚 著艮好 社 ...</td>\n",
       "      <td>1</td>\n",
       "    </tr>\n",
       "    <tr>\n",
       "      <th>2170</th>\n",
       "      <td>0</td>\n",
       "      <td>公司 負責人 你好 公司 維 拉德 實業 有限公司 公司 現有 大量 餘額 發票 優惠代開 ...</td>\n",
       "      <td>1</td>\n",
       "    </tr>\n",
       "  </tbody>\n",
       "</table>\n",
       "</div>"
      ],
      "text/plain": [
       "     label                                               text truth\n",
       "7091     0  祝 瞭 年前 歲 生日 傢 人 第一次 準備 瞭 生日蛋糕 心急如焚 碩鼠 如梭 蒼蠅 狂舞...     0\n",
       "5178     0  年 最新 暢銷 圖書 特書 幾百個 品種 一律 特價書 銷售 歡迎 全國 各書 商來 電來 ...     1\n",
       "5629     0  標題 傢 判斷 一下 那女 迴 事 發信 站 社區 站 脾氣 真好 不準 男朋友 女人 單獨...     0\n",
       "165      0  尊敬 公司 領負 責人 經理 財務 好 佰成 實業 有限公司 我司 實力 雄厚 著艮好 社 ...     1\n",
       "2170     0  公司 負責人 你好 公司 維 拉德 實業 有限公司 公司 現有 大量 餘額 發票 優惠代開 ...     1"
      ]
     },
     "execution_count": 48,
     "metadata": {},
     "output_type": "execute_result"
    }
   ],
   "source": [
    "unlabeled_train = trainlabel[trainlabel=='0'].index\n",
    "unlabeled_data = train_set[unlabeled_train]\n",
    "unlabeled_df = pd.DataFrame(\n",
    "    {\n",
    "        'text':unlabeled_data, \n",
    "        'label':trainlabel[unlabeled_train],\n",
    "        'truth':trainlabel_orig[unlabeled_train]\n",
    "    })\n",
    "unlabeled_df.head()"
   ]
  },
  {
   "cell_type": "code",
   "execution_count": 49,
   "metadata": {},
   "outputs": [
    {
     "data": {
      "text/html": [
       "<div>\n",
       "<style scoped>\n",
       "    .dataframe tbody tr th:only-of-type {\n",
       "        vertical-align: middle;\n",
       "    }\n",
       "\n",
       "    .dataframe tbody tr th {\n",
       "        vertical-align: top;\n",
       "    }\n",
       "\n",
       "    .dataframe thead th {\n",
       "        text-align: right;\n",
       "    }\n",
       "</style>\n",
       "<table border=\"1\" class=\"dataframe\">\n",
       "  <thead>\n",
       "    <tr style=\"text-align: right;\">\n",
       "      <th></th>\n",
       "      <th>label</th>\n",
       "      <th>text</th>\n",
       "      <th>truth</th>\n",
       "    </tr>\n",
       "  </thead>\n",
       "  <tbody>\n",
       "    <tr>\n",
       "      <th>3695</th>\n",
       "      <td>0</td>\n",
       "      <td>總 想 認識 好 推銷 齣 希望 得到 幸福 可惜 男孩子 總 喜歡 知道 是不是 眼光 不...</td>\n",
       "      <td>0</td>\n",
       "    </tr>\n",
       "    <tr>\n",
       "      <th>13765</th>\n",
       "      <td>0</td>\n",
       "      <td>最最 眩手 機上 看看 雜誌 手機 幫 發無聊 時光 隻 手機 隨時 隨地 翻閱 想 雜誌</td>\n",
       "      <td>1</td>\n",
       "    </tr>\n",
       "    <tr>\n",
       "      <th>394</th>\n",
       "      <td>0</td>\n",
       "      <td>平心 願意 不願意 嶽 父 嶽 母加 小舅子 一直 常住 一起 理解 心理 傢 子 隻 血緣...</td>\n",
       "      <td>0</td>\n",
       "    </tr>\n",
       "    <tr>\n",
       "      <th>3900</th>\n",
       "      <td>0</td>\n",
       "      <td>公司 勞動 閤 裏 違約 條款 標題終 理解 公司 清華 學生 瞭 發信 站 社區 站 學期...</td>\n",
       "      <td>0</td>\n",
       "    </tr>\n",
       "    <tr>\n",
       "      <th>11289</th>\n",
       "      <td>0</td>\n",
       "      <td>北京 大地 和諧 環境 工程 技術 有限公司 傢 知名 國際 公司 代理 公司 主要 從事水...</td>\n",
       "      <td>0</td>\n",
       "    </tr>\n",
       "    <tr>\n",
       "      <th>6699</th>\n",
       "      <td>0</td>\n",
       "      <td>公司 負責人 經理 財務 您好 華隆源 實業 有限公司 廣州 東莞 市 分公司 我司 實力 ...</td>\n",
       "      <td>1</td>\n",
       "    </tr>\n",
       "    <tr>\n",
       "      <th>4898</th>\n",
       "      <td>0</td>\n",
       "      <td>公司 負責人 你好 公司 紅樹林 實業 有限公司 具有 良 好 進口 來源 剩餘 發票 廣泛...</td>\n",
       "      <td>1</td>\n",
       "    </tr>\n",
       "    <tr>\n",
       "      <th>12008</th>\n",
       "      <td>1</td>\n",
       "      <td>公司 負責人 經理 財務 您好 創達 實業 有限公司 我司 實力 雄厚 著良 好 社會關 係...</td>\n",
       "      <td>1</td>\n",
       "    </tr>\n",
       "    <tr>\n",
       "      <th>2811</th>\n",
       "      <td>0</td>\n",
       "      <td>尊敬 先生 小姐 您好 感謝 抽 時間 查看 以下 信息 公司 一直 緻 力 研 發 生 産...</td>\n",
       "      <td>1</td>\n",
       "    </tr>\n",
       "    <tr>\n",
       "      <th>12559</th>\n",
       "      <td>0</td>\n",
       "      <td>標題 追 追 多久 還沒 追上 放手 發信 站 社區 站 欲 擒 一個 女孩 錶 現 齣 親...</td>\n",
       "      <td>0</td>\n",
       "    </tr>\n",
       "  </tbody>\n",
       "</table>\n",
       "</div>"
      ],
      "text/plain": [
       "      label                                               text truth\n",
       "3695      0  總 想 認識 好 推銷 齣 希望 得到 幸福 可惜 男孩子 總 喜歡 知道 是不是 眼光 不...     0\n",
       "13765     0      最最 眩手 機上 看看 雜誌 手機 幫 發無聊 時光 隻 手機 隨時 隨地 翻閱 想 雜誌     1\n",
       "394       0  平心 願意 不願意 嶽 父 嶽 母加 小舅子 一直 常住 一起 理解 心理 傢 子 隻 血緣...     0\n",
       "3900      0  公司 勞動 閤 裏 違約 條款 標題終 理解 公司 清華 學生 瞭 發信 站 社區 站 學期...     0\n",
       "11289     0  北京 大地 和諧 環境 工程 技術 有限公司 傢 知名 國際 公司 代理 公司 主要 從事水...     0\n",
       "6699      0  公司 負責人 經理 財務 您好 華隆源 實業 有限公司 廣州 東莞 市 分公司 我司 實力 ...     1\n",
       "4898      0  公司 負責人 你好 公司 紅樹林 實業 有限公司 具有 良 好 進口 來源 剩餘 發票 廣泛...     1\n",
       "12008     1  公司 負責人 經理 財務 您好 創達 實業 有限公司 我司 實力 雄厚 著良 好 社會關 係...     1\n",
       "2811      0  尊敬 先生 小姐 您好 感謝 抽 時間 查看 以下 信息 公司 一直 緻 力 研 發 生 産...     1\n",
       "12559     0  標題 追 追 多久 還沒 追上 放手 發信 站 社區 站 欲 擒 一個 女孩 錶 現 齣 親...     0"
      ]
     },
     "execution_count": 49,
     "metadata": {},
     "output_type": "execute_result"
    }
   ],
   "source": [
    "all_data = pd.concat([positive_spam,unlabeled_df],axis=0, ignore_index=False)  #將ham lsit與spam list串起來\n",
    "all_data = all_data.sample(frac=1) #sample frac = 1 是把數據都打亂\n",
    "all_data.head(10)\n"
   ]
  },
  {
   "cell_type": "code",
   "execution_count": 50,
   "metadata": {},
   "outputs": [
    {
     "data": {
      "text/plain": [
       "(4043,)"
      ]
     },
     "execution_count": 50,
     "metadata": {},
     "output_type": "execute_result"
    }
   ],
   "source": [
    "# all_data.loc[positive_train[:]]\n",
    "all_data['truth'] = trainlabel_orig\n",
    "all_data['label'][all_data['label']==\"1\"].shape"
   ]
  },
  {
   "cell_type": "code",
   "execution_count": 51,
   "metadata": {},
   "outputs": [
    {
     "data": {
      "text/plain": [
       "(4043,)"
      ]
     },
     "execution_count": 51,
     "metadata": {},
     "output_type": "execute_result"
    }
   ],
   "source": [
    " all_data['label'][all_data['label'] == '1'].shape"
   ]
  },
  {
   "cell_type": "code",
   "execution_count": 354,
   "metadata": {},
   "outputs": [
    {
     "data": {
      "text/plain": [
       "Int64Index([10137, 10619,  4233,  1610,   260,  1961,  6570,  9738,  5929,\n",
       "             8924,\n",
       "            ...\n",
       "            12991, 11812, 13037,  7191,  4104, 10356,  3969,  6016,   840,\n",
       "             9994],\n",
       "           dtype='int64', length=3200)"
      ]
     },
     "execution_count": 354,
     "metadata": {},
     "output_type": "execute_result"
    }
   ],
   "source": [
    "unlabeled_size = 3200\n",
    "sp_index=[]\n",
    "sp_index = all_data['label'].loc[\n",
    "    np.random.choice(\n",
    "        all_data['label'][all_data['label'] == '1'].index, \n",
    "        replace = False, \n",
    "        size = unlabeled_size\n",
    "    )\n",
    "].index\n",
    "sp_index\n",
    "# all_data.loc[positive_train[:]]"
   ]
  },
  {
   "cell_type": "code",
   "execution_count": 355,
   "metadata": {},
   "outputs": [
    {
     "data": {
      "text/plain": [
       "(3200,)"
      ]
     },
     "execution_count": 355,
     "metadata": {},
     "output_type": "execute_result"
    }
   ],
   "source": [
    "all_data['label'].loc[sp_index[:]] = 0 #SP\n",
    "all_data['label'].loc[sp_index[:]].shape"
   ]
  },
  {
   "cell_type": "markdown",
   "metadata": {},
   "source": [
    "# -------------------------------SP  上面"
   ]
  },
  {
   "cell_type": "code",
   "execution_count": 356,
   "metadata": {},
   "outputs": [],
   "source": [
    "def convert_Content(text, keyword_dict):\n",
    "    #判斷是否有此特徵\n",
    "    m = len(keyword_dict) #維度數量\n",
    "    res = np.int_(np.zeros(m)) #建置一個幾維度的向量\n",
    "    finds = text.split(\" \") #將文本內容切割(類似中文斷詞)\n",
    "    for find in finds:\n",
    "        try:\n",
    "            #若比對完有此特徵則特徵改為1\n",
    "            i = keyword_dict[find] \n",
    "            res[i]=1\n",
    "        except:\n",
    "            continue\n",
    "    return res\n",
    "def raw2feature(all_data,keyword_dict):\n",
    "    n_all_data = all_data.shape[0]\n",
    "    m = len(keyword_dict)\n",
    "    X_all_data = np.zeros((n_all_data,m));\n",
    "    Y_all_data = np.int_(all_data.label=='1')\n",
    "    for i in range(n_all_data):\n",
    "        X_all_data[i,:] = convert_Content(all_data.iloc[i].text, keyword_dict)\n",
    "    return [X_all_data,Y_all_data]\n",
    "     \n",
    "all_data_matrix=raw2feature(all_data,keyword_dict)"
   ]
  },
  {
   "cell_type": "code",
   "execution_count": 357,
   "metadata": {},
   "outputs": [
    {
     "data": {
      "text/plain": [
       "(843,)"
      ]
     },
     "execution_count": 357,
     "metadata": {},
     "output_type": "execute_result"
    }
   ],
   "source": [
    "# positive_train  正樣本的index\n",
    "# unlabeled_train 未標記樣本的index\n",
    "# all_train 混合完的index\n",
    "all_data_matrix[1][all_data_matrix[1]==1].shape"
   ]
  },
  {
   "cell_type": "markdown",
   "metadata": {},
   "source": [
    "# 使用一般隨機森林計算他們的機率"
   ]
  },
  {
   "cell_type": "code",
   "execution_count": 358,
   "metadata": {},
   "outputs": [],
   "source": [
    "# 使用一般的隨機森林算法\n",
    "from sklearn.ensemble import RandomForestClassifier\n",
    "rf = RandomForestClassifier(\n",
    "    n_estimators = 1000,  # 使用1000顆決策樹\n",
    "    n_jobs = -1           # 使用全部的CPU合運算\n",
    ")\n",
    "rf.fit(all_data_matrix[0], all_data_matrix[1])\n",
    "\n",
    "# 儲存次方法給定的分數\n",
    "results = pd.DataFrame({\n",
    "    'truth'      : all_data['truth'],   # 真實標籤\n",
    "    'label'      : all_data['label'],        # 預測標籤\n",
    "    'output_std' : rf.predict_proba(all_data_matrix[0])[:,0],   # 隨機森林分數(求屬於標籤1的概率)\n",
    "}, columns = ['truth', 'label', 'output_std'])\n",
    "# print(results)"
   ]
  },
  {
   "cell_type": "markdown",
   "metadata": {},
   "source": []
  },
  {
   "cell_type": "code",
   "execution_count": null,
   "metadata": {},
   "outputs": [],
   "source": []
  },
  {
   "cell_type": "code",
   "execution_count": 359,
   "metadata": {},
   "outputs": [
    {
     "data": {
      "text/html": [
       "<div>\n",
       "<style scoped>\n",
       "    .dataframe tbody tr th:only-of-type {\n",
       "        vertical-align: middle;\n",
       "    }\n",
       "\n",
       "    .dataframe tbody tr th {\n",
       "        vertical-align: top;\n",
       "    }\n",
       "\n",
       "    .dataframe thead th {\n",
       "        text-align: right;\n",
       "    }\n",
       "</style>\n",
       "<table border=\"1\" class=\"dataframe\">\n",
       "  <thead>\n",
       "    <tr style=\"text-align: right;\">\n",
       "      <th></th>\n",
       "      <th>truth</th>\n",
       "      <th>label</th>\n",
       "      <th>output_std</th>\n",
       "    </tr>\n",
       "  </thead>\n",
       "  <tbody>\n",
       "    <tr>\n",
       "      <th>10137</th>\n",
       "      <td>1</td>\n",
       "      <td>0</td>\n",
       "      <td>0.796776</td>\n",
       "    </tr>\n",
       "    <tr>\n",
       "      <th>10619</th>\n",
       "      <td>1</td>\n",
       "      <td>0</td>\n",
       "      <td>0.941307</td>\n",
       "    </tr>\n",
       "    <tr>\n",
       "      <th>4233</th>\n",
       "      <td>1</td>\n",
       "      <td>0</td>\n",
       "      <td>1.000000</td>\n",
       "    </tr>\n",
       "    <tr>\n",
       "      <th>1610</th>\n",
       "      <td>1</td>\n",
       "      <td>0</td>\n",
       "      <td>0.999616</td>\n",
       "    </tr>\n",
       "    <tr>\n",
       "      <th>260</th>\n",
       "      <td>1</td>\n",
       "      <td>0</td>\n",
       "      <td>0.972691</td>\n",
       "    </tr>\n",
       "  </tbody>\n",
       "</table>\n",
       "</div>"
      ],
      "text/plain": [
       "      truth label  output_std\n",
       "10137     1     0    0.796776\n",
       "10619     1     0    0.941307\n",
       "4233      1     0    1.000000\n",
       "1610      1     0    0.999616\n",
       "260       1     0    0.972691"
      ]
     },
     "execution_count": 359,
     "metadata": {},
     "output_type": "execute_result"
    }
   ],
   "source": [
    "results.loc[sp_index[:]].head()\n"
   ]
  },
  {
   "cell_type": "code",
   "execution_count": 360,
   "metadata": {},
   "outputs": [
    {
     "data": {
      "image/png": "[encoded data removed]",
      "text/plain": [
       "<matplotlib.figure.Figure at 0x1fd592d3d30>"
      ]
     },
     "metadata": {},
     "output_type": "display_data"
    },
    {
     "name": "stdout",
     "output_type": "stream",
     "text": [
      "(5,)\n"
     ]
    }
   ],
   "source": [
    "from scipy import stats\n",
    "sp_data = results['output_std'].loc[sp_index[:]]\n",
    "sp_counts = len(results['output_std'].loc[sp_index[:]])\n",
    "sp_mean = results['output_std'].loc[sp_index[:]].mean()\n",
    "sp_std = results['output_std'].loc[sp_index[:]].std()\n",
    "# 绘制概率密度分布图\n",
    "x = np.arange(0, 1, 0.001)\n",
    "# PDF是概率密度函数\n",
    "y = stats.norm.pdf(x, loc=sp_mean, scale=sp_std)\n",
    "plt.plot(x, y)\n",
    "plt.hist(sp_data, bins=10, rwidth=0.9, normed=True)\n",
    "plt.show()\n",
    "print(results['output_std'].loc[sp_index[:]][results['output_std']<0.5].shape)"
   ]
  },
  {
   "cell_type": "code",
   "execution_count": null,
   "metadata": {},
   "outputs": [],
   "source": []
  },
  {
   "cell_type": "code",
   "execution_count": 361,
   "metadata": {},
   "outputs": [
    {
     "name": "stdout",
     "output_type": "stream",
     "text": [
      "(0.8099291684642691, 0.987367047004309)\n",
      "0.8754440497335702\n",
      "(0.8061843920833711, 0.9911118233852071)\n",
      "0.87545609340793\n",
      "(0.8022691784621538, 0.9950270370064243)\n",
      "0.8798727128082737\n",
      "(0.79815895896417, 0.9991372565044081)\n",
      "0.9051697766901193\n",
      "(0.7938235760890412, 1.003472639379537)\n",
      "0.9088308902395423\n",
      "(0.7892254005168855, 1.0080708149516926)\n",
      "0.9088308902395423\n",
      "(0.7843165735038253, 1.0129796419647528)\n",
      "0.9088308902395423\n",
      "(0.7790348325838052, 1.0182613828847729)\n",
      "0.9088308902395423\n",
      "(0.7732969384853752, 1.023999276983203)\n",
      "0.9088308902395423\n",
      "(0.7669878164189131, 1.030308399049665)\n",
      "0.9088308902395423\n",
      "(0.7599415154827851, 1.037354699985793)\n",
      "0.9088308902395423\n"
     ]
    }
   ],
   "source": [
    "from scipy import stats\n",
    "ci = 0.68\n",
    "for i in range(11):\n",
    "    conf_intveral = stats.norm.interval(ci, loc=sp_mean, scale=sp_std) #數字為信賴區間\n",
    "    ci += 0.02\n",
    "    print(conf_intveral)\n",
    "    t=[]\n",
    "    t = sp_data[sp_data<conf_intveral[1]]\n",
    "    t = t[t>conf_intveral[0]]\n",
    "    RN = results\n",
    "    RN = RN[(~RN.index.isin(sp_index))] #去除U中的SP\n",
    "    RN_index = RN['output_std'][RN['output_std']>=max(t)].index\n",
    "    print(1-np.int_(RN['truth'].loc[RN_index[:]]).mean())\n",
    "    \n",
    "    \n",
    "# 函数曲线下68.268949%的面积在平均数左右的一个标准差范围内\n",
    "\n",
    "# 函数曲线下95.449974%的面积在平均数左右两个标准差的范围内\n",
    "\n",
    "# 函数曲线下99.730020%的面积在平均数左右三个标准差的范围内\n",
    "\n",
    "# 函数曲线下99.993666%的面积在平均数左右四个标准差的范围内"
   ]
  },
  {
   "cell_type": "code",
   "execution_count": 362,
   "metadata": {},
   "outputs": [
    {
     "data": {
      "text/plain": [
       "1.0"
      ]
     },
     "execution_count": 362,
     "metadata": {},
     "output_type": "execute_result"
    }
   ],
   "source": [
    "max(sp_data)"
   ]
  },
  {
   "cell_type": "code",
   "execution_count": 363,
   "metadata": {},
   "outputs": [
    {
     "data": {
      "text/plain": [
       "1.0"
      ]
     },
     "execution_count": 363,
     "metadata": {},
     "output_type": "execute_result"
    }
   ],
   "source": [
    "t = sp_data[sp_data<conf_intveral[1]]\n",
    "t = t[t>conf_intveral[0]]\n",
    "max(t)"
   ]
  },
  {
   "cell_type": "code",
   "execution_count": null,
   "metadata": {},
   "outputs": [],
   "source": []
  },
  {
   "cell_type": "code",
   "execution_count": 364,
   "metadata": {},
   "outputs": [
    {
     "data": {
      "text/plain": [
       "0.9088308902395423"
      ]
     },
     "execution_count": 364,
     "metadata": {},
     "output_type": "execute_result"
    }
   ],
   "source": [
    "RN = results\n",
    "RN = RN[(~RN.index.isin(positive_train))] #去除ALL中的SP,P剩下U\n",
    "RN_index = RN['output_std'][RN['output_std']>=max(t)].index\n",
    "1-np.int_(RN['truth'].loc[RN_index[:]]).mean()"
   ]
  },
  {
   "cell_type": "code",
   "execution_count": 365,
   "metadata": {},
   "outputs": [
    {
     "data": {
      "text/plain": [
       "(2797,)"
      ]
     },
     "execution_count": 365,
     "metadata": {},
     "output_type": "execute_result"
    }
   ],
   "source": [
    "RN_index.shape"
   ]
  },
  {
   "cell_type": "markdown",
   "metadata": {},
   "source": [
    "# 下面是將test資料轉換為矩陣"
   ]
  },
  {
   "cell_type": "code",
   "execution_count": 366,
   "metadata": {},
   "outputs": [],
   "source": [
    "test_data = pd.DataFrame({\n",
    "    'text'      : test_set,   # 真實標籤\n",
    "    'label'      : testlabel,        # 預測標籤\n",
    "}, columns = ['text', 'label'])"
   ]
  },
  {
   "cell_type": "code",
   "execution_count": 367,
   "metadata": {},
   "outputs": [],
   "source": [
    "#將測試及轉為稀疏矩陣，是舊的TFIDF\n",
    "test_data_matrix = raw2feature(test_data,keyword_dict)"
   ]
  },
  {
   "cell_type": "code",
   "execution_count": 368,
   "metadata": {},
   "outputs": [
    {
     "name": "stdout",
     "output_type": "stream",
     "text": [
      "Testing Accuarcy: 49.55％ (sklearn.ensemble.forest)\n"
     ]
    }
   ],
   "source": [
    "def test_func(test,testlabel,model):\n",
    "    Y_hat = model.predict(test)\n",
    "    n=np.size(testlabel)\n",
    "    print ('Testing Accuarcy: {:.2f}％ ({})'.format(sum(np.int_(Y_hat==testlabel))*100./n,model.__module__))\n",
    "# Test Model using testing data\n",
    "\n",
    "test_func(test_data_matrix[0],test_data_matrix[1],rf)"
   ]
  },
  {
   "cell_type": "markdown",
   "metadata": {},
   "source": [
    "# 下面是提取RN後用P和RN重新訓練"
   ]
  },
  {
   "cell_type": "code",
   "execution_count": 369,
   "metadata": {},
   "outputs": [],
   "source": [
    "all_data.loc[positive_train]\n",
    "all_data.loc[RN_index]\n",
    "all_data['label'].loc[sp_index] = '1'\n",
    "new_all_data=[]\n",
    "new_all_data = pd.concat([all_data.loc[positive_train],all_data.loc[RN_index]])"
   ]
  },
  {
   "cell_type": "code",
   "execution_count": 370,
   "metadata": {},
   "outputs": [],
   "source": [
    "new_keyword_dict=generate_key_list(all_data, size_table, word_len_ignored) #TFIDF"
   ]
  },
  {
   "cell_type": "code",
   "execution_count": 371,
   "metadata": {},
   "outputs": [
    {
     "data": {
      "text/plain": [
       "RandomForestClassifier(bootstrap=True, class_weight=None, criterion='gini',\n",
       "            max_depth=None, max_features='auto', max_leaf_nodes=None,\n",
       "            min_impurity_decrease=0.0, min_impurity_split=None,\n",
       "            min_samples_leaf=1, min_samples_split=2,\n",
       "            min_weight_fraction_leaf=0.0, n_estimators=1000, n_jobs=-1,\n",
       "            oob_score=False, random_state=None, verbose=0,\n",
       "            warm_start=False)"
      ]
     },
     "execution_count": 371,
     "metadata": {},
     "output_type": "execute_result"
    }
   ],
   "source": [
    "new_all_data_matrix = raw2feature(new_all_data,keyword_dict)\n",
    "from sklearn.ensemble import RandomForestClassifier\n",
    "\n",
    "rfpu = RandomForestClassifier(\n",
    "    n_estimators = 1000,  # 使用1000顆決策樹\n",
    "    n_jobs = -1           # 使用全部的CPU合運算\n",
    ")\n",
    "rfpu.fit(new_all_data_matrix[0], new_all_data_matrix[1])"
   ]
  },
  {
   "cell_type": "code",
   "execution_count": 372,
   "metadata": {},
   "outputs": [
    {
     "name": "stdout",
     "output_type": "stream",
     "text": [
      "Testing Accuarcy: 72.91％ (sklearn.ensemble.forest)\n"
     ]
    }
   ],
   "source": [
    "test_func(test_data_matrix[0],test_data_matrix[1],rfpu)"
   ]
  },
  {
   "cell_type": "code",
   "execution_count": 373,
   "metadata": {},
   "outputs": [
    {
     "data": {
      "text/plain": [
       "(4043,)"
      ]
     },
     "execution_count": 373,
     "metadata": {},
     "output_type": "execute_result"
    }
   ],
   "source": [
    "all_data['label'][all_data['label']==\"1\"].shape"
   ]
  },
  {
   "cell_type": "code",
   "execution_count": 4,
   "metadata": {},
   "outputs": [
    {
     "data": {
      "image/png": "[encoded data removed]",
      "text/plain": [
       "<matplotlib.figure.Figure at 0x1f1b6139400>"
      ]
     },
     "metadata": {},
     "output_type": "display_data"
    }
   ],
   "source": [
    "import matplotlib.pyplot as plt\n",
    "plt.rcParams['font.size'] = 16\n",
    "plt.rcParams['figure.figsize'] = 15, 8\n",
    "x = [400, 800, 1200, 1600,2000,2400,2800,3200]\n",
    "y_std = [0.8235, 0.6990, 0.5957, 0.5539,0.5184,0.5139,0.5018,0.4982]\n",
    "y_stdpu = [0.9313, 0.9308, 0.9272, 0.8194,0.8185,0.7525,0.7543,0.7417]\n",
    "plt.xlim(0, 4000)\n",
    "plt.ylim(0.3, 1)\n",
    "plt.plot(x, y_std, marker='', mec='b', mfc='w' ,lw = 5)\n",
    "plt.plot(x, y_stdpu, marker='', mec='b', mfc='w' ,lw = 5)\n",
    "plt.legend([\n",
    "    'supervised RF', \n",
    "    'Spy-pu RF'\n",
    "])  # 让图例生效\n",
    "# plt.xticks(x, names, rotation=45)\n",
    "plt.margins(0)\n",
    "plt.subplots_adjust(bottom=0.15)\n",
    "plt.xlabel(u\"Spy Positive Data\") #X轴标签\n",
    "plt.ylabel(\"Experiment Accuracy\") #Y轴标签\n",
    "plt.title(\"Performance of the two approaches\") #标题\n",
    "plt.savefig(\"RFPU \")\n",
    "plt.grid()\n",
    "plt.show()"
   ]
  },
  {
   "cell_type": "code",
   "execution_count": 5,
   "metadata": {},
   "outputs": [
    {
     "data": {
      "image/png": "[encoded data removed]",
      "text/plain": [
       "<matplotlib.figure.Figure at 0x1f1b6438cf8>"
      ]
     },
     "metadata": {},
     "output_type": "display_data"
    }
   ],
   "source": [
    "import numpy as np\n",
    "import matplotlib.pyplot as plt\n",
    "\n",
    "np.random.seed(19680801)\n",
    "\n",
    "n_bins = 10\n",
    "x = np.random.randn(1000, 3)\n",
    "\n",
    "fig, axes = plt.subplots(nrows=2, ncols=2)\n",
    "ax0, ax1, ax2, ax3 = axes.flatten()\n",
    "\n",
    "colors = ['red', 'tan', 'lime']\n",
    "ax0.hist(x, n_bins, density=True, histtype='bar', color=colors, label=colors)\n",
    "ax0.legend(prop={'size': 10})\n",
    "ax0.set_title('bars with legend')\n",
    "\n",
    "ax1.hist(x, n_bins, density=True, histtype='bar', stacked=True)\n",
    "ax1.set_title('stacked bar')\n",
    "\n",
    "ax2.hist(x, n_bins, histtype='step', stacked=True, fill=False)\n",
    "ax2.set_title('stack step (unfilled)')\n",
    "\n",
    "# Make a multiple-histogram of data-sets with different length.\n",
    "x_multi = [np.random.randn(n) for n in [10000, 5000, 2000]]\n",
    "ax3.hist(x_multi, n_bins, histtype='bar')\n",
    "ax3.set_title('different sample sizes')\n",
    "\n",
    "fig.tight_layout()\n",
    "plt.show()"
   ]
  },
  {
   "cell_type": "code",
   "execution_count": 13,
   "metadata": {},
   "outputs": [
    {
     "data": {
      "image/png": "[encoded data removed]",
      "text/plain": [
       "<matplotlib.figure.Figure at 0x1f1b770bc18>"
      ]
     },
     "metadata": {},
     "output_type": "display_data"
    }
   ],
   "source": [
    "import matplotlib.pyplot as plt\n",
    "plt.rcParams['font.size'] = 16\n",
    "plt.rcParams['figure.figsize'] = 15, 8\n",
    "x = [400, 800, 1200, 1600,2000,2400,2800,3200]\n",
    "y_rf = [0.9412, 0.9398, 0.9352, 0.9363,0.9359,0.9386,0.9604,0.9280]\n",
    "y_logistic = [0.9412, 0.9513, 0.9497, 0.9517,0.9515,0.9592,0.9557,0.9819]\n",
    "y_NB = [0.8430, 0.8383, 0.8961, 0.8361,0.8375,0.9501,0.9391,0.8812]\n",
    "plt.xlim(0, 4000)\n",
    "plt.ylim(0.8, 1)\n",
    "plt.plot(x, y_rf, marker='', mec='b', mfc='w' ,lw = 5)\n",
    "plt.plot(x, y_logistic, marker='', mec='b', mfc='w' ,lw = 5)\n",
    "plt.plot(x, y_NB, marker='', mec='b', mfc='w' ,lw = 5)\n",
    "plt.legend([\n",
    "    'RF', \n",
    "    'logistic',\n",
    "    'NB'\n",
    "])  # 让图例生效\n",
    "# plt.xticks(x, names, rotation=45)\n",
    "plt.margins(0)\n",
    "plt.subplots_adjust(bottom=0.15)\n",
    "plt.xlabel(u\"Spy Positive Data\") #X轴标签\n",
    "plt.ylabel(\"Experiment Accuracy\") #Y轴标签\n",
    "plt.title(\"Performance of the three approaches to RN extract\") #标题\n",
    "plt.savefig(\"RN \")\n",
    "plt.grid()\n",
    "plt.show()"
   ]
  },
  {
   "cell_type": "code",
   "execution_count": 14,
   "metadata": {},
   "outputs": [
    {
     "data": {
      "image/png": "[encoded data removed]",
      "text/plain": [
       "<matplotlib.figure.Figure at 0x1f1b74cb7b8>"
      ]
     },
     "metadata": {},
     "output_type": "display_data"
    }
   ],
   "source": [
    "import matplotlib.pyplot as plt\n",
    "plt.rcParams['font.size'] = 16\n",
    "plt.rcParams['figure.figsize'] = 15, 8\n",
    "x = [400, 800, 1200, 1600,2000,2400,2800,3200]\n",
    "y_rf = [6215, 6171, 6166, 4334,4140,3342,2627,2864]\n",
    "y_logistic = [5989, 5672, 5654, 5471,4954,4690,4903,2598]\n",
    "y_NB = [7022, 7075, 6434, 7103,7096,822,3057,480]\n",
    "plt.xlim(0, 4000)\n",
    "plt.ylim(0, 8000)\n",
    "plt.plot(x, y_rf, marker='', mec='b', mfc='w' ,lw = 5)\n",
    "plt.plot(x, y_logistic, marker='', mec='b', mfc='w' ,lw = 5)\n",
    "plt.plot(x, y_NB, marker='', mec='b', mfc='w' ,lw = 5)\n",
    "plt.legend([\n",
    "    'RF', \n",
    "    'logistic',\n",
    "    'NB'\n",
    "])  # 让图例生效\n",
    "# plt.xticks(x, names, rotation=45)\n",
    "plt.margins(0)\n",
    "plt.subplots_adjust(bottom=0.15)\n",
    "plt.xlabel(u\"Spy Positive Data\") #X轴标签\n",
    "plt.ylabel(\"RN Numbers \") #Y轴标签\n",
    "plt.title(\"Performance of the three approaches to RN extract\") #标题\n",
    "plt.savefig(\"RN_Number\")\n",
    "plt.grid()\n",
    "plt.show()"
   ]
  },
  {
   "cell_type": "code",
   "execution_count": null,
   "metadata": {},
   "outputs": [],
   "source": []
  },
  {
   "cell_type": "code",
   "execution_count": null,
   "metadata": {},
   "outputs": [],
   "source": []
  },
  {
   "cell_type": "code",
   "execution_count": null,
   "metadata": {},
   "outputs": [],
   "source": []
  },
  {
   "cell_type": "code",
   "execution_count": null,
   "metadata": {},
   "outputs": [],
   "source": []
  },
  {
   "cell_type": "code",
   "execution_count": null,
   "metadata": {},
   "outputs": [],
   "source": []
  },
  {
   "cell_type": "code",
   "execution_count": null,
   "metadata": {},
   "outputs": [],
   "source": []
  },
  {
   "cell_type": "code",
   "execution_count": null,
   "metadata": {},
   "outputs": [],
   "source": []
  },
  {
   "cell_type": "code",
   "execution_count": null,
   "metadata": {},
   "outputs": [],
   "source": []
  }
 ],
 "metadata": {
  "kernelspec": {
   "display_name": "Python 3",
   "language": "python",
   "name": "python3"
  },
  "language_info": {
   "codemirror_mode": {
    "name": "ipython",
    "version": 3
   },
   "file_extension": ".py",
   "mimetype": "text/x-python",
   "name": "python",
   "nbconvert_exporter": "python",
   "pygments_lexer": "ipython3",
   "version": "3.6.4"
  }
 },
 "nbformat": 4,
 "nbformat_minor": 2
}
