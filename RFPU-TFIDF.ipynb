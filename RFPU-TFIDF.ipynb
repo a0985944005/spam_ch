{
 "cells": [
  {
   "cell_type": "markdown",
   "metadata": {},
   "source": [
    "# 匯入一些套件還有匯入文檔"
   ]
  },
  {
   "cell_type": "code",
   "execution_count": 1,
   "metadata": {},
   "outputs": [
    {
     "name": "stdout",
     "output_type": "stream",
     "text": [
      "Populating the interactive namespace from numpy and matplotlib\n",
      "spam total： 7775\n",
      "ham total： 7063\n"
     ]
    }
   ],
   "source": [
    "%pylab inline\n",
    "import time\n",
    "import re\n",
    "import matplotlib.pyplot as plt\n",
    "import pandas as pd\n",
    "import string\n",
    "import codecs\n",
    "import os\n",
    "import jieba\n",
    "from sklearn.feature_extraction.text import CountVectorizer\n",
    "from wordcloud import WordCloud\n",
    "from sklearn import naive_bayes as bayes\n",
    "from sklearn.model_selection import train_test_split\n",
    "#簡轉繁\n",
    "from hanziconv import HanziConv\n",
    "\n",
    "#ham與spam的每封郵件list\n",
    "ham_text = []\n",
    "spam_text = []\n",
    "#ham與spam的數據集\n",
    "ham_data = []\n",
    "spam_data = []\n",
    "#取得目前工作目錄\n",
    "SaveDirectory = os.getcwd() \n",
    "#獲得文檔列表\n",
    "listham = os.listdir(SaveDirectory+'\\\\data\\\\normal')\n",
    "listspam = os.listdir(SaveDirectory+'\\\\data\\\\spam')\n",
    "#數據集數量\n",
    "\n",
    "print('spam total：',len(listspam))\n",
    "print('ham total：',len(listham))\n"
   ]
  },
  {
   "cell_type": "markdown",
   "metadata": {},
   "source": [
    "# 先匯入HAM文檔並給予label = 0"
   ]
  },
  {
   "cell_type": "code",
   "execution_count": 2,
   "metadata": {},
   "outputs": [
    {
     "data": {
      "text/html": [
       "<div>\n",
       "<style scoped>\n",
       "    .dataframe tbody tr th:only-of-type {\n",
       "        vertical-align: middle;\n",
       "    }\n",
       "\n",
       "    .dataframe tbody tr th {\n",
       "        vertical-align: top;\n",
       "    }\n",
       "\n",
       "    .dataframe thead th {\n",
       "        text-align: right;\n",
       "    }\n",
       "</style>\n",
       "<table border=\"1\" class=\"dataframe\">\n",
       "  <thead>\n",
       "    <tr style=\"text-align: right;\">\n",
       "      <th></th>\n",
       "      <th>text</th>\n",
       "      <th>label</th>\n",
       "    </tr>\n",
       "  </thead>\n",
       "  <tbody>\n",
       "    <tr>\n",
       "      <th>0</th>\n",
       "      <td>這事兒還有續集 因為我姐她們買房子後來裝修的時候沒錢她婆婆他們就贊助瞭萬塊 這下一吵她婆婆就...</td>\n",
       "      <td>0</td>\n",
       "    </tr>\n",
       "    <tr>\n",
       "      <th>1</th>\n",
       "      <td>越發覺得這個姐夫不錯瞭 那萬還是趕緊還瞭吧 標題姐姐快要生孩子瞭很感慨 發信站水木社區站內 ...</td>\n",
       "      <td>0</td>\n",
       "    </tr>\n",
       "    <tr>\n",
       "      <th>2</th>\n",
       "      <td>或許某些農村吧 在一個當性彆勞動力富裕程度的地方還是可以理解的 標題姐姐快要生孩子瞭很感慨 ...</td>\n",
       "      <td>0</td>\n",
       "    </tr>\n",
       "    <tr>\n",
       "      <th>3</th>\n",
       "      <td>最近經常看到你說一些很武斷的話 所謂保胎確實是要躺在床上不能動的尤其是先兆流産有齣血的時候 ...</td>\n",
       "      <td>0</td>\n",
       "    </tr>\n",
       "    <tr>\n",
       "      <th>4</th>\n",
       "      <td>他們分手是說性格不閤 沒多久然後我們交往 還算比較愉快 當初因為他經常和聯係我曾跟他吵過多次...</td>\n",
       "      <td>0</td>\n",
       "    </tr>\n",
       "  </tbody>\n",
       "</table>\n",
       "</div>"
      ],
      "text/plain": [
       "                                                text label\n",
       "0  這事兒還有續集 因為我姐她們買房子後來裝修的時候沒錢她婆婆他們就贊助瞭萬塊 這下一吵她婆婆就...     0\n",
       "1  越發覺得這個姐夫不錯瞭 那萬還是趕緊還瞭吧 標題姐姐快要生孩子瞭很感慨 發信站水木社區站內 ...     0\n",
       "2  或許某些農村吧 在一個當性彆勞動力富裕程度的地方還是可以理解的 標題姐姐快要生孩子瞭很感慨 ...     0\n",
       "3  最近經常看到你說一些很武斷的話 所謂保胎確實是要躺在床上不能動的尤其是先兆流産有齣血的時候 ...     0\n",
       "4  他們分手是說性格不閤 沒多久然後我們交往 還算比較愉快 當初因為他經常和聯係我曾跟他吵過多次...     0"
      ]
     },
     "execution_count": 2,
     "metadata": {},
     "output_type": "execute_result"
    }
   ],
   "source": [
    "for fileName in listham:\n",
    "        with open('data/normal/'+fileName, 'r',encoding='gbk') as f:\n",
    "            #文本每一列儲存\n",
    "            text=[]\n",
    "            # 過濾非中文字符，正規化\n",
    "            for line in f.readlines():\n",
    "                pattern = re.compile('[^\\u4e00-\\u9fa5]') #正規化(去除非中文字符)\n",
    "                line = pattern.sub(\"\", line) #將其他字符取代為\"\"\n",
    "                content = line.strip().split() #去除一些空白.換行\n",
    "                text = text+content #儲存這個文本的內容\n",
    "            text = \" \".join(text) #將文本內容list加入全部文本的list\n",
    "            ham_text.append(HanziConv.toTraditional(text)) #簡轉繁\n",
    "ham_data = pd.DataFrame(ham_text,columns=['text']) #將list改成dataframe\n",
    "ham_data['label']='0' #將資料類別加上 0:ham 1:spam\n",
    "ham_data.head()\n"
   ]
  },
  {
   "cell_type": "markdown",
   "metadata": {},
   "source": [
    "# 先匯入SPAM文檔並給予label = 1"
   ]
  },
  {
   "cell_type": "code",
   "execution_count": 3,
   "metadata": {},
   "outputs": [
    {
     "data": {
      "text/html": [
       "<div>\n",
       "<style scoped>\n",
       "    .dataframe tbody tr th:only-of-type {\n",
       "        vertical-align: middle;\n",
       "    }\n",
       "\n",
       "    .dataframe tbody tr th {\n",
       "        vertical-align: top;\n",
       "    }\n",
       "\n",
       "    .dataframe thead th {\n",
       "        text-align: right;\n",
       "    }\n",
       "</style>\n",
       "<table border=\"1\" class=\"dataframe\">\n",
       "  <thead>\n",
       "    <tr style=\"text-align: right;\">\n",
       "      <th></th>\n",
       "      <th>text</th>\n",
       "      <th>label</th>\n",
       "    </tr>\n",
       "  </thead>\n",
       "  <tbody>\n",
       "    <tr>\n",
       "      <th>0</th>\n",
       "      <td>會員注冊邀請書 全國最低價域名空間大放送 國際頂級域名注冊驚暴價元年元年連續注冊年以上 國傢...</td>\n",
       "      <td>1</td>\n",
       "    </tr>\n",
       "    <tr>\n",
       "      <th>1</th>\n",
       "      <td>你好 以茶會友以茶聯誼喝茶就喝安溪鐵觀音 本廠是專業生産批發各等級鐵觀音茶葉的購買聯係 在綫...</td>\n",
       "      <td>1</td>\n",
       "    </tr>\n",
       "    <tr>\n",
       "      <th>2</th>\n",
       "      <td>尊敬的先生小姐 您好 首先感謝您抽時間查看以下信息 我公司一直緻力於研發生産銷售施工環氧樹脂...</td>\n",
       "      <td>1</td>\n",
       "    </tr>\n",
       "    <tr>\n",
       "      <th>3</th>\n",
       "      <td>先生 你好 批發麻醉藥催情藥墮胎藥避孕藥飲料型噴霧型香煙型揮發型等各類國際國內製藥企業推齣的...</td>\n",
       "      <td>1</td>\n",
       "    </tr>\n",
       "    <tr>\n",
       "      <th>4</th>\n",
       "      <td>貴公司負責人經理財務您好 我是深圳市創偉實業有限公司的我司實力雄厚有著良 好的社會關係也有部...</td>\n",
       "      <td>1</td>\n",
       "    </tr>\n",
       "  </tbody>\n",
       "</table>\n",
       "</div>"
      ],
      "text/plain": [
       "                                                text label\n",
       "0  會員注冊邀請書 全國最低價域名空間大放送 國際頂級域名注冊驚暴價元年元年連續注冊年以上 國傢...     1\n",
       "1  你好 以茶會友以茶聯誼喝茶就喝安溪鐵觀音 本廠是專業生産批發各等級鐵觀音茶葉的購買聯係 在綫...     1\n",
       "2  尊敬的先生小姐 您好 首先感謝您抽時間查看以下信息 我公司一直緻力於研發生産銷售施工環氧樹脂...     1\n",
       "3  先生 你好 批發麻醉藥催情藥墮胎藥避孕藥飲料型噴霧型香煙型揮發型等各類國際國內製藥企業推齣的...     1\n",
       "4  貴公司負責人經理財務您好 我是深圳市創偉實業有限公司的我司實力雄厚有著良 好的社會關係也有部...     1"
      ]
     },
     "execution_count": 3,
     "metadata": {},
     "output_type": "execute_result"
    }
   ],
   "source": [
    "for fileName in listspam:\n",
    "        with open('data/spam/'+fileName, 'r',encoding='gbk') as f:\n",
    "            text=[]\n",
    "            # 过滤掉非中文字符\n",
    "            for line in f.readlines():\n",
    "                pattern = re.compile('[^\\u4e00-\\u9fa5]')\n",
    "                line = pattern.sub(\"\", line)\n",
    "                content = line.strip().split()\n",
    "                text = text+content\n",
    "            text = \" \".join(text)\n",
    "            spam_text.append(HanziConv.toTraditional(text))\n",
    "spam_data = pd.DataFrame(spam_text,columns=['text'])\n",
    "spam_data['label']='1'\n",
    "spam_data.head()"
   ]
  },
  {
   "cell_type": "markdown",
   "metadata": {},
   "source": [
    "# 把匯入的 SPAM與HAM結合並打亂"
   ]
  },
  {
   "cell_type": "code",
   "execution_count": 4,
   "metadata": {},
   "outputs": [
    {
     "name": "stdout",
     "output_type": "stream",
     "text": [
      "data shape： (14838, 2)\n",
      "spams in rows： 7775\n",
      "hams in rows： 7063\n"
     ]
    },
    {
     "data": {
      "text/html": [
       "<div>\n",
       "<style scoped>\n",
       "    .dataframe tbody tr th:only-of-type {\n",
       "        vertical-align: middle;\n",
       "    }\n",
       "\n",
       "    .dataframe tbody tr th {\n",
       "        vertical-align: top;\n",
       "    }\n",
       "\n",
       "    .dataframe thead th {\n",
       "        text-align: right;\n",
       "    }\n",
       "</style>\n",
       "<table border=\"1\" class=\"dataframe\">\n",
       "  <thead>\n",
       "    <tr style=\"text-align: right;\">\n",
       "      <th></th>\n",
       "      <th>text</th>\n",
       "      <th>label</th>\n",
       "    </tr>\n",
       "  </thead>\n",
       "  <tbody>\n",
       "    <tr>\n",
       "      <th>0</th>\n",
       "      <td>貴公司負責人經理財務您好 深圳市海華公司受多傢公司委托嚮外低點代開部分增值稅電腦發票左右和普...</td>\n",
       "      <td>1</td>\n",
       "    </tr>\n",
       "    <tr>\n",
       "      <th>1</th>\n",
       "      <td>領先科技共享精品國內獨傢推齣溫濕度控製器 型溫濕度控製器是廣州慶瑞電子科技有限公司自行研製生...</td>\n",
       "      <td>1</td>\n",
       "    </tr>\n",
       "    <tr>\n",
       "      <th>2</th>\n",
       "      <td>中國技工人纔網是全國最大免費為機械電力水利化工紡織模具電子電器等行業的技工類人纔提供求職平颱...</td>\n",
       "      <td>1</td>\n",
       "    </tr>\n",
       "    <tr>\n",
       "      <th>3</th>\n",
       "      <td>尊敬的先生小姐 您好 首先感謝您抽時間查看以下信息 我公司一直緻力於研發生産銷售施工環氧樹脂...</td>\n",
       "      <td>1</td>\n",
       "    </tr>\n",
       "    <tr>\n",
       "      <th>4</th>\n",
       "      <td>還有綫性代數這樣的課哪 電子係 標題發現瞭一門最低分的 發信站水木社區站內 我們的綫性代數最...</td>\n",
       "      <td>0</td>\n",
       "    </tr>\n",
       "    <tr>\n",
       "      <th>5</th>\n",
       "      <td>您好 用郵件群發來推廣你的網站網頁連接發布商業信息公司産品是一項適閤大多數人的網絡營銷 方式...</td>\n",
       "      <td>1</td>\n",
       "    </tr>\n",
       "  </tbody>\n",
       "</table>\n",
       "</div>"
      ],
      "text/plain": [
       "                                                text label\n",
       "0  貴公司負責人經理財務您好 深圳市海華公司受多傢公司委托嚮外低點代開部分增值稅電腦發票左右和普...     1\n",
       "1  領先科技共享精品國內獨傢推齣溫濕度控製器 型溫濕度控製器是廣州慶瑞電子科技有限公司自行研製生...     1\n",
       "2  中國技工人纔網是全國最大免費為機械電力水利化工紡織模具電子電器等行業的技工類人纔提供求職平颱...     1\n",
       "3  尊敬的先生小姐 您好 首先感謝您抽時間查看以下信息 我公司一直緻力於研發生産銷售施工環氧樹脂...     1\n",
       "4  還有綫性代數這樣的課哪 電子係 標題發現瞭一門最低分的 發信站水木社區站內 我們的綫性代數最...     0\n",
       "5  您好 用郵件群發來推廣你的網站網頁連接發布商業信息公司産品是一項適閤大多數人的網絡營銷 方式...     1"
      ]
     },
     "execution_count": 4,
     "metadata": {},
     "output_type": "execute_result"
    }
   ],
   "source": [
    "all_data = pd.concat([spam_data,ham_data],axis=0, ignore_index=True)  #將ham lsit與spam list串起來\n",
    "all_data = all_data.sample(frac=1).reset_index(drop=True) #sample frac = 1 是把數據都打亂 resr_index是把index也重設\n",
    "print('data shape：',all_data.shape)\n",
    "print('spams in rows：',all_data.loc[all_data['label']==\"1\"].shape[0])\n",
    "print('hams in rows：',all_data.loc[all_data['label']==\"0\"].shape[0])\n",
    "all_data.head(6)"
   ]
  },
  {
   "cell_type": "markdown",
   "metadata": {},
   "source": [
    "# 接著載入停詞表及斷詞"
   ]
  },
  {
   "cell_type": "code",
   "execution_count": 5,
   "metadata": {},
   "outputs": [
    {
     "name": "stderr",
     "output_type": "stream",
     "text": [
      "Building prefix dict from the default dictionary ...\n",
      "Loading model from cache C:\\Users\\zxc98\\AppData\\Local\\Temp\\jieba.cache\n",
      "Loading model cost 0.704 seconds.\n",
      "Prefix dict has been built succesfully.\n"
     ]
    }
   ],
   "source": [
    "#載入 停用詞 (stopwords) 自動過濾掉某些字或詞\n",
    "stopwords = codecs.open(os.path.join(SaveDirectory+'\\data', 'stopwords_tr.txt'), 'r', 'utf-8').read().split('\\r\\n')\n",
    "#下面斷詞\n",
    "processed_texts = []\n",
    "for text in all_data[\"text\"]:\n",
    "    words = []\n",
    "    seg_list = jieba.cut(text) #利用Jieba斷詞\n",
    "    for seg in seg_list: \n",
    "        # isalpha()檢測詞是否由字符組成，且不在停用詞的list中\n",
    "        if (seg.isalpha()) & (seg not in stopwords):\n",
    "            words.append(seg)\n",
    "    sentence = \" \".join(words)\n",
    "    processed_texts.append(sentence)\n",
    "all_data[\"text\"] = processed_texts #利用過濾且斷好的詞取代文本\n"
   ]
  },
  {
   "cell_type": "markdown",
   "metadata": {},
   "source": [
    "# 接著將資料切成訓練及與測試集"
   ]
  },
  {
   "cell_type": "code",
   "execution_count": 6,
   "metadata": {},
   "outputs": [],
   "source": [
    "#traindate & testdata\n",
    "train_set, test_set, trainlabel, testlabel = train_test_split(all_data[\"text\"], all_data[\"label\"], test_size = 0.15)"
   ]
  },
  {
   "cell_type": "code",
   "execution_count": 7,
   "metadata": {},
   "outputs": [
    {
     "name": "stdout",
     "output_type": "stream",
     "text": [
      "train:12612\n",
      "test:2226\n"
     ]
    },
    {
     "data": {
      "text/plain": [
       "(6565,)"
      ]
     },
     "execution_count": 7,
     "metadata": {},
     "output_type": "execute_result"
    }
   ],
   "source": [
    "print(\"train:\"+str(len(train_set)))\n",
    "print(\"test:\"+str(len(test_set)))\n",
    "trainlabel[trainlabel=='1'].shape"
   ]
  },
  {
   "cell_type": "code",
   "execution_count": 8,
   "metadata": {},
   "outputs": [
    {
     "data": {
      "text/plain": [
       "(3968,)"
      ]
     },
     "execution_count": 8,
     "metadata": {},
     "output_type": "execute_result"
    }
   ],
   "source": [
    "trainlabel_orig = trainlabel.copy()\n",
    "# 取消一些標記的數據\n",
    "unlabeled_size = 2597\n",
    "#loc可以選擇數據(把上面數量的POSTIVE DATA隱藏為UNLABELED DATA)\n",
    "trainlabel.loc[\n",
    "    np.random.choice(\n",
    "        trainlabel[trainlabel == '1'].index, \n",
    "        replace = False, \n",
    "        size = unlabeled_size\n",
    "    )\n",
    "] = '0'\n",
    "trainlabel[trainlabel=='1'].shape"
   ]
  },
  {
   "cell_type": "code",
   "execution_count": 9,
   "metadata": {},
   "outputs": [
    {
     "data": {
      "text/plain": [
       "(3968, 3)"
      ]
     },
     "execution_count": 9,
     "metadata": {},
     "output_type": "execute_result"
    }
   ],
   "source": [
    "positive_train = trainlabel[trainlabel=='1'].index\n",
    "positive_data = train_set[positive_train]\n",
    "positive_spam = pd.DataFrame(\n",
    "    {\n",
    "     'text':positive_data, \n",
    "     'label':trainlabel[positive_train],\n",
    "     'truth':trainlabel_orig[positive_train]\n",
    "    })\n",
    "positive_spam.shape\n"
   ]
  },
  {
   "cell_type": "code",
   "execution_count": 10,
   "metadata": {},
   "outputs": [],
   "source": [
    "import re\n",
    "def generate_key_list(all_data, size_table=200,ignore=2):\n",
    "    dict_spam_raw = dict()\n",
    "    dict_genuine_raw = dict()\n",
    "    dict_IDF = dict()\n",
    "\n",
    "    # 去除字母外的所有內容.\n",
    "    for i in range(all_data.shape[0]):\n",
    "        finds = all_data.iloc[i].text.split(\" \")\n",
    "        if all_data.iloc[i].label == '1':\n",
    "            for find in finds:\n",
    "                if len(find)<ignore: continue\n",
    "                try:\n",
    "                    dict_spam_raw[find] = dict_spam_raw[find] + 1\n",
    "                except:\t\n",
    "                    dict_spam_raw[find] = dict_spam_raw.get(find,1) #若是新的文字因為後面get找不到這個索引會返回逗點後面的值\n",
    "                    dict_genuine_raw[find] = dict_genuine_raw.get(find,0)\n",
    "        else:\n",
    "            for find in finds:\n",
    "                if len(find)<ignore: continue\n",
    "                try:\n",
    "                    dict_genuine_raw[find] = dict_genuine_raw[find] + 1\n",
    "                except:\t\n",
    "                    dict_genuine_raw[find] = dict_genuine_raw.get(find,1)\n",
    "                    dict_spam_raw[find] = dict_spam_raw.get(find,0)\n",
    "\n",
    "        word_set = set()\n",
    "        for find in finds:\n",
    "            if not(find in word_set):\n",
    "                if len(find)<ignore: continue\n",
    "                try:\n",
    "                    dict_IDF[find] = dict_IDF[find] + 1\n",
    "                except:\t\n",
    "                    dict_IDF[find] = dict_IDF.get(find,1)\n",
    "            word_set.add(find)\n",
    "    word_df = pd.DataFrame(list(zip(dict_genuine_raw.keys(),dict_genuine_raw.values(),dict_spam_raw.values(),dict_IDF.values())))\n",
    "    word_df.columns = ['keyword','genuine','spam','IDF']\n",
    "    word_df['genuine'] = word_df['genuine'].astype('float')/all_data[all_data['label']=='0'].shape[0]\n",
    "    word_df['spam'] = word_df['spam'].astype('float')/all_data[all_data['label']=='1'].shape[0]\n",
    "    word_df['IDF'] = np.log10(word_df.shape[0]/word_df['IDF'].astype('float'))\n",
    "    word_df['genuine_IDF'] = word_df['genuine']*word_df['IDF']\n",
    "    word_df['spam_IDF'] = word_df['spam']*word_df['IDF']\n",
    "    word_df['diff']=word_df['spam_IDF']-word_df['genuine_IDF']\n",
    "    selected_spam_key = word_df.sort_values('diff',ascending=False)  \n",
    "    keyword_dict = dict()\n",
    "    i = 0\n",
    "    for word in selected_spam_key.head(size_table).keyword:\n",
    "        keyword_dict.update({word.strip():i})\n",
    "        i+=1\n",
    "    return keyword_dict   \n",
    "# build a tabu list based on the training data\n",
    "size_table = 200               # 多少特徵維度去分類SPAM\n",
    "word_len_ignored = 2            # 忽略那些比這個還要小的字詞\n",
    "keyword_dict=generate_key_list(positive_spam, size_table, word_len_ignored)"
   ]
  },
  {
   "cell_type": "code",
   "execution_count": 11,
   "metadata": {},
   "outputs": [
    {
     "name": "stdout",
     "output_type": "stream",
     "text": [
      "公司:0\n",
      "負責人:1\n",
      "經理:2\n",
      "財務:3\n",
      "您好:4\n",
      "粵豐:5\n",
      "實業:6\n",
      "有限公司:7\n",
      "廣州:8\n",
      "東莞:9\n",
      "分公司:10\n",
      "我司:11\n",
      "實力:12\n",
      "雄厚:13\n",
      "有著:14\n",
      "良好:15\n",
      "社會關:16\n",
      "進項:17\n",
      "多現:18\n",
      "完成:19\n",
      "每月:20\n",
      "售額度:21\n",
      "一部分:22\n",
      "增值:23\n",
      "稅電腦:24\n",
      "發票:25\n",
      "左右:26\n",
      "普通商品:27\n",
      "銷售稅:28\n",
      "國稅:29\n",
      "地稅:30\n",
      "優惠代開:31\n",
      "作點:32\n",
      "數較:33\n",
      "低還:34\n",
      "數量:35\n",
      "額度:36\n",
      "大小:37\n",
      "商討:38\n",
      "優惠:39\n",
      "點數:40\n",
      "鄭重:41\n",
      "承諾:42\n",
      "所用:43\n",
      "真票:44\n",
      "希望:45\n",
      "能夠:46\n",
      "機會:47\n",
      "貴司:48\n",
      "如貴司:49\n",
      "疑慮:50\n",
      "擔心:51\n",
      "可上:52\n",
      "網查證:53\n",
      "直接:54\n",
      "稅務局:55\n",
      "抵扣:56\n",
      "核對:57\n",
      "閤作:58\n",
      "一次:59\n",
      "永久:60\n",
      "朋友:61\n",
      "信息:62\n",
      "有效:63\n",
      "如須:64\n",
      "一步:65\n",
      "洽商:66\n",
      "詳情:67\n",
      "電小時:68\n",
      "業務:69\n",
      "郵箱:70\n",
      "劉漢文:71\n",
      "順祝:72\n",
      "商祺:73\n",
      "無標題:74\n",
      "文檔:75\n",
      "愛情:76\n",
      "真集:77\n",
      "還挺:78\n",
      "魅力:79\n",
      "看看:80\n",
      "李麗:81\n",
      "網站:82\n",
      "可愛的:83\n",
      "作愛情:84\n",
      "時光:85\n",
      "久久:86\n",
      "真屋:87\n",
      "感覺:88\n",
      "特色:89\n",
      "好友:90\n",
      "相冊:91\n",
      "結婚:92\n",
      "婚禮:93\n",
      "助手:94\n",
      "網絡:95\n",
      "喜帖:96\n",
      "挺好玩:97\n",
      "免費:98\n",
      "好像:99\n",
      "改版:100\n",
      "瞭幾天:101\n",
      "經有:102\n",
      "我作:103\n",
      "本相:104\n",
      "一本:105\n",
      "男朋友:106\n",
      "國外:107\n",
      "玩照:108\n",
      "原以:109\n",
      "小網:110\n",
      "操作:111\n",
      "麻煩:112\n",
      "廣告:113\n",
      "真正:114\n",
      "簡單界:115\n",
      "還很整潔:116\n",
      "舒服:117\n",
      "大頭:118\n",
      "性化:119\n",
      "相框:120\n",
      "看過:121\n",
      "漂亮:122\n",
      "加入:123\n",
      "寶寶和:124\n",
      "美女:125\n",
      "有趣:126\n",
      "轉發給:127\n",
      "相信:128\n",
      "肯定:129\n",
      "會蠻:130\n",
      "喜歡:131\n",
      "一起:132\n",
      "集唄:133\n",
      "當你:134\n",
      "看到:135\n",
      "鳥兒:136\n",
      "天空:137\n",
      "飛過:138\n",
      "想到:139\n",
      "瞭什麼:140\n",
      "旅行:141\n",
      "憶途網:142\n",
      "打造:143\n",
      "最佳:144\n",
      "旅遊平:145\n",
      "門旅遊:146\n",
      "幫手:147\n",
      "提供:148\n",
      "南京:149\n",
      "旅遊:150\n",
      "酒店:151\n",
      "賓館:152\n",
      "本地:153\n",
      "企業:154\n",
      "服務:155\n",
      "優勢:156\n",
      "價格:157\n",
      "預訂:158\n",
      "旅遊全:159\n",
      "資訊:160\n",
      "論壇:161\n",
      "建設:162\n",
      "免費發:163\n",
      "布商:164\n",
      "中部:165\n",
      "發布:166\n",
      "免費贈:167\n",
      "注冊:168\n",
      "真實:169\n",
      "即可:170\n",
      "得到:171\n",
      "全程:172\n",
      "擁有:173\n",
      "供應:174\n",
      "求購:175\n",
      "代理:176\n",
      "全世部:177\n",
      "可連:178\n",
      "接到:179\n",
      "各大:180\n",
      "搜索引擎:181\n",
      "建站:182\n",
      "網絡平:183\n",
      "無試:184\n",
      "用期:185\n",
      "使用:186\n",
      "時間:187\n",
      "常年:188\n",
      "提示:189\n",
      "會員:190\n",
      "發送:191\n",
      "更新:192\n",
      "並確:193\n",
      "以供:194\n",
      "會員之間:195\n",
      "相互:196\n",
      "交流:197\n",
      "本站:198\n",
      "有權:199\n"
     ]
    }
   ],
   "source": [
    "#排序越前面的代表出現在SPAM的機率越大\n",
    "for key,value in keyword_dict.items():\n",
    "    print('{key}:{value}'.format(key = key, value = value))"
   ]
  },
  {
   "cell_type": "code",
   "execution_count": 12,
   "metadata": {},
   "outputs": [
    {
     "data": {
      "text/html": [
       "<div>\n",
       "<style scoped>\n",
       "    .dataframe tbody tr th:only-of-type {\n",
       "        vertical-align: middle;\n",
       "    }\n",
       "\n",
       "    .dataframe tbody tr th {\n",
       "        vertical-align: top;\n",
       "    }\n",
       "\n",
       "    .dataframe thead th {\n",
       "        text-align: right;\n",
       "    }\n",
       "</style>\n",
       "<table border=\"1\" class=\"dataframe\">\n",
       "  <thead>\n",
       "    <tr style=\"text-align: right;\">\n",
       "      <th></th>\n",
       "      <th>label</th>\n",
       "      <th>text</th>\n",
       "      <th>truth</th>\n",
       "    </tr>\n",
       "  </thead>\n",
       "  <tbody>\n",
       "    <tr>\n",
       "      <th>1496</th>\n",
       "      <td>0</td>\n",
       "      <td>彆 瞭 隻 徒增 委屈 感 想想 麵 前 失敗者 打給 說 這樣還 瀟灑 說 拜拜 這一點 ...</td>\n",
       "      <td>0</td>\n",
       "    </tr>\n",
       "    <tr>\n",
       "      <th>10395</th>\n",
       "      <td>0</td>\n",
       "      <td>今天 看到 發瘋 北郵 畢業 劃入 二等 學校 後 七七八八 證書 學個 電磁場 微波 列入...</td>\n",
       "      <td>0</td>\n",
       "    </tr>\n",
       "    <tr>\n",
       "      <th>9700</th>\n",
       "      <td>0</td>\n",
       "      <td>網絡 營銷 大全 光盤 專業版 廣告 信息 直接 投入 客戶 信箱 員 製 網 站 一次 付...</td>\n",
       "      <td>1</td>\n",
       "    </tr>\n",
       "    <tr>\n",
       "      <th>12421</th>\n",
       "      <td>0</td>\n",
       "      <td>公司 負責人 經理 財務 您好 達明 實業 有限公司 廣州 東莞 市 分公司 我司 實力 雄...</td>\n",
       "      <td>1</td>\n",
       "    </tr>\n",
       "    <tr>\n",
       "      <th>6004</th>\n",
       "      <td>0</td>\n",
       "      <td>事情 過去 很久 瞭不過 一直 知道 真相 永遠 迷 瞭 睡 著覺 人 看看 無妨 故事 發...</td>\n",
       "      <td>0</td>\n",
       "    </tr>\n",
       "  </tbody>\n",
       "</table>\n",
       "</div>"
      ],
      "text/plain": [
       "      label                                               text truth\n",
       "1496      0  彆 瞭 隻 徒增 委屈 感 想想 麵 前 失敗者 打給 說 這樣還 瀟灑 說 拜拜 這一點 ...     0\n",
       "10395     0  今天 看到 發瘋 北郵 畢業 劃入 二等 學校 後 七七八八 證書 學個 電磁場 微波 列入...     0\n",
       "9700      0  網絡 營銷 大全 光盤 專業版 廣告 信息 直接 投入 客戶 信箱 員 製 網 站 一次 付...     1\n",
       "12421     0  公司 負責人 經理 財務 您好 達明 實業 有限公司 廣州 東莞 市 分公司 我司 實力 雄...     1\n",
       "6004      0  事情 過去 很久 瞭不過 一直 知道 真相 永遠 迷 瞭 睡 著覺 人 看看 無妨 故事 發...     0"
      ]
     },
     "execution_count": 12,
     "metadata": {},
     "output_type": "execute_result"
    }
   ],
   "source": [
    "unlabeled_train = trainlabel[trainlabel=='0'].index\n",
    "unlabeled_data = train_set[unlabeled_train]\n",
    "unlabeled_df = pd.DataFrame(\n",
    "    {\n",
    "        'text':unlabeled_data, \n",
    "        'label':trainlabel[unlabeled_train],\n",
    "        'truth':trainlabel_orig[unlabeled_train]\n",
    "    })\n",
    "unlabeled_df.head()"
   ]
  },
  {
   "cell_type": "code",
   "execution_count": 13,
   "metadata": {},
   "outputs": [
    {
     "data": {
      "text/html": [
       "<div>\n",
       "<style scoped>\n",
       "    .dataframe tbody tr th:only-of-type {\n",
       "        vertical-align: middle;\n",
       "    }\n",
       "\n",
       "    .dataframe tbody tr th {\n",
       "        vertical-align: top;\n",
       "    }\n",
       "\n",
       "    .dataframe thead th {\n",
       "        text-align: right;\n",
       "    }\n",
       "</style>\n",
       "<table border=\"1\" class=\"dataframe\">\n",
       "  <thead>\n",
       "    <tr style=\"text-align: right;\">\n",
       "      <th></th>\n",
       "      <th>label</th>\n",
       "      <th>text</th>\n",
       "      <th>truth</th>\n",
       "    </tr>\n",
       "  </thead>\n",
       "  <tbody>\n",
       "    <tr>\n",
       "      <th>13001</th>\n",
       "      <td>1</td>\n",
       "      <td>公司 負責人 經理 財務 您好 公司 天美廣告 有限公司 公司 定額 稅額 每月 一部分 普...</td>\n",
       "      <td>1</td>\n",
       "    </tr>\n",
       "    <tr>\n",
       "      <th>2199</th>\n",
       "      <td>0</td>\n",
       "      <td>認識 剋 魯斯 壯 誌 淩 雲 時 候 時 候 處 飛 機 迷 戀 瞭 好多 飛機 電影 名...</td>\n",
       "      <td>0</td>\n",
       "    </tr>\n",
       "    <tr>\n",
       "      <th>13040</th>\n",
       "      <td>0</td>\n",
       "      <td>今天 覺得心 裏 苦極 瞭 期 緣 肚子疼 要死要活 心理 苦 失戀 太常 瞭 發生 身上 ...</td>\n",
       "      <td>0</td>\n",
       "    </tr>\n",
       "    <tr>\n",
       "      <th>9398</th>\n",
       "      <td>1</td>\n",
       "      <td>你好 公司 現有 以下 發票 可為 公司 代開 國稅 普通商品 銷售 發票 地稅 廣告 發票...</td>\n",
       "      <td>1</td>\n",
       "    </tr>\n",
       "    <tr>\n",
       "      <th>9724</th>\n",
       "      <td>0</td>\n",
       "      <td>公司 北京 傢 專業 翻譯 公司 現誠聘 英語 專職 翻譯 人員 要求 英語 專業 八級 非...</td>\n",
       "      <td>0</td>\n",
       "    </tr>\n",
       "    <tr>\n",
       "      <th>932</th>\n",
       "      <td>1</td>\n",
       "      <td>公司 財務 經理 您好 公司 傢 事國 內貿 易行 業 公司 注冊 商品 範圍 廣全國 各大...</td>\n",
       "      <td>1</td>\n",
       "    </tr>\n",
       "    <tr>\n",
       "      <th>6401</th>\n",
       "      <td>0</td>\n",
       "      <td>神奇 天然 輸 入法 天然 碼輸 入法 天生 輸 入法 天然 碼 特點 優點 亮點 天然 碼...</td>\n",
       "      <td>1</td>\n",
       "    </tr>\n",
       "    <tr>\n",
       "      <th>4179</th>\n",
       "      <td>1</td>\n",
       "      <td>無標題 文檔 尊敬 客戶 你好 財富 資源 傢 國際 知名 産 品采 購導 嚮 服務 機構 ...</td>\n",
       "      <td>1</td>\n",
       "    </tr>\n",
       "    <tr>\n",
       "      <th>3450</th>\n",
       "      <td>0</td>\n",
       "      <td>一直 當黑 幫 搞笑片 影片 幾個 地方 搞笑 塞 繆爾傑 剋 遜演 傢 夥 每次 殺人前 ...</td>\n",
       "      <td>0</td>\n",
       "    </tr>\n",
       "    <tr>\n",
       "      <th>5190</th>\n",
       "      <td>1</td>\n",
       "      <td>恒友誼 網絡 上海 恒友誼 網絡 建站 嚮 問好 建站 需要 嚮 說 聲 抱歉 打擾 瞭 正...</td>\n",
       "      <td>1</td>\n",
       "    </tr>\n",
       "  </tbody>\n",
       "</table>\n",
       "</div>"
      ],
      "text/plain": [
       "      label                                               text truth\n",
       "13001     1  公司 負責人 經理 財務 您好 公司 天美廣告 有限公司 公司 定額 稅額 每月 一部分 普...     1\n",
       "2199      0  認識 剋 魯斯 壯 誌 淩 雲 時 候 時 候 處 飛 機 迷 戀 瞭 好多 飛機 電影 名...     0\n",
       "13040     0  今天 覺得心 裏 苦極 瞭 期 緣 肚子疼 要死要活 心理 苦 失戀 太常 瞭 發生 身上 ...     0\n",
       "9398      1  你好 公司 現有 以下 發票 可為 公司 代開 國稅 普通商品 銷售 發票 地稅 廣告 發票...     1\n",
       "9724      0  公司 北京 傢 專業 翻譯 公司 現誠聘 英語 專職 翻譯 人員 要求 英語 專業 八級 非...     0\n",
       "932       1  公司 財務 經理 您好 公司 傢 事國 內貿 易行 業 公司 注冊 商品 範圍 廣全國 各大...     1\n",
       "6401      0  神奇 天然 輸 入法 天然 碼輸 入法 天生 輸 入法 天然 碼 特點 優點 亮點 天然 碼...     1\n",
       "4179      1  無標題 文檔 尊敬 客戶 你好 財富 資源 傢 國際 知名 産 品采 購導 嚮 服務 機構 ...     1\n",
       "3450      0  一直 當黑 幫 搞笑片 影片 幾個 地方 搞笑 塞 繆爾傑 剋 遜演 傢 夥 每次 殺人前 ...     0\n",
       "5190      1  恒友誼 網絡 上海 恒友誼 網絡 建站 嚮 問好 建站 需要 嚮 說 聲 抱歉 打擾 瞭 正...     1"
      ]
     },
     "execution_count": 13,
     "metadata": {},
     "output_type": "execute_result"
    }
   ],
   "source": [
    "all_data = pd.concat([positive_spam,unlabeled_df],axis=0, ignore_index=False)  #將ham lsit與spam list串起來\n",
    "all_data = all_data.sample(frac=1) #sample frac = 1 是把數據都打亂\n",
    "all_data.head(10)\n"
   ]
  },
  {
   "cell_type": "code",
   "execution_count": 14,
   "metadata": {},
   "outputs": [
    {
     "data": {
      "text/plain": [
       "(3968,)"
      ]
     },
     "execution_count": 14,
     "metadata": {},
     "output_type": "execute_result"
    }
   ],
   "source": [
    "# all_data.loc[positive_train[:]]\n",
    "all_data['truth'] = trainlabel_orig\n",
    "all_data['label'][all_data['label']==\"1\"].shape"
   ]
  },
  {
   "cell_type": "code",
   "execution_count": 15,
   "metadata": {},
   "outputs": [
    {
     "data": {
      "text/plain": [
       "(3968,)"
      ]
     },
     "execution_count": 15,
     "metadata": {},
     "output_type": "execute_result"
    }
   ],
   "source": [
    " all_data['label'][all_data['label'] == '1'].shape"
   ]
  },
  {
   "cell_type": "code",
   "execution_count": 16,
   "metadata": {},
   "outputs": [
    {
     "data": {
      "text/plain": [
       "Int64Index([13685, 14220, 12304,  7052, 10560,  8921,  4821,  2889,  8717,\n",
       "            11547,\n",
       "            ...\n",
       "             5974,  7922,  8260, 14516,  9322, 11398, 11436,  4347,  9710,\n",
       "             8599],\n",
       "           dtype='int64', length=3200)"
      ]
     },
     "execution_count": 16,
     "metadata": {},
     "output_type": "execute_result"
    }
   ],
   "source": [
    "unlabeled_size = 3200\n",
    "sp_index=[]\n",
    "sp_index = all_data['label'].loc[\n",
    "    np.random.choice(\n",
    "        all_data['label'][all_data['label'] == '1'].index, \n",
    "        replace = False, \n",
    "        size = unlabeled_size\n",
    "    )\n",
    "].index\n",
    "sp_index\n",
    "# all_data.loc[positive_train[:]]"
   ]
  },
  {
   "cell_type": "code",
   "execution_count": 17,
   "metadata": {},
   "outputs": [
    {
     "data": {
      "text/plain": [
       "(3200,)"
      ]
     },
     "execution_count": 17,
     "metadata": {},
     "output_type": "execute_result"
    }
   ],
   "source": [
    "all_data['label'].loc[sp_index[:]] = 0 #SP\n",
    "all_data['label'].loc[sp_index[:]].shape"
   ]
  },
  {
   "cell_type": "markdown",
   "metadata": {},
   "source": [
    "# -------------------------------SP  上面"
   ]
  },
  {
   "cell_type": "code",
   "execution_count": 18,
   "metadata": {},
   "outputs": [],
   "source": [
    "def convert_Content(text, keyword_dict):\n",
    "    #判斷是否有此特徵\n",
    "    m = len(keyword_dict) #維度數量\n",
    "    res = np.int_(np.zeros(m)) #建置一個幾維度的向量\n",
    "    finds = text.split(\" \") #將文本內容切割(類似中文斷詞)\n",
    "    for find in finds:\n",
    "        try:\n",
    "            #若比對完有此特徵則特徵改為1\n",
    "            i = keyword_dict[find] \n",
    "            res[i]=1\n",
    "        except:\n",
    "            continue\n",
    "    return res\n",
    "def raw2feature(all_data,keyword_dict):\n",
    "    n_all_data = all_data.shape[0]\n",
    "    m = len(keyword_dict)\n",
    "    X_all_data = np.zeros((n_all_data,m));\n",
    "    Y_all_data = np.int_(all_data.label=='1')\n",
    "    for i in range(n_all_data):\n",
    "        X_all_data[i,:] = convert_Content(all_data.iloc[i].text, keyword_dict)\n",
    "    return [X_all_data,Y_all_data]\n",
    "     \n",
    "all_data_matrix=raw2feature(all_data,keyword_dict)"
   ]
  },
  {
   "cell_type": "code",
   "execution_count": 19,
   "metadata": {},
   "outputs": [
    {
     "data": {
      "text/plain": [
       "(768,)"
      ]
     },
     "execution_count": 19,
     "metadata": {},
     "output_type": "execute_result"
    }
   ],
   "source": [
    "# positive_train  正樣本的index\n",
    "# unlabeled_train 未標記樣本的index\n",
    "# all_train 混合完的index\n",
    "all_data_matrix[1][all_data_matrix[1]==1].shape"
   ]
  },
  {
   "cell_type": "markdown",
   "metadata": {},
   "source": [
    "# 使用一般隨機森林計算他們的機率"
   ]
  },
  {
   "cell_type": "code",
   "execution_count": 20,
   "metadata": {},
   "outputs": [],
   "source": [
    "# 使用一般的隨機森林算法\n",
    "from sklearn.ensemble import RandomForestClassifier\n",
    "rf = RandomForestClassifier(\n",
    "    n_estimators = 1000,  # 使用1000顆決策樹\n",
    "    n_jobs = -1           # 使用全部的CPU合運算\n",
    ")\n",
    "rf.fit(all_data_matrix[0], all_data_matrix[1])\n",
    "\n",
    "# 儲存次方法給定的分數\n",
    "results = pd.DataFrame({\n",
    "    'truth'      : all_data['truth'],   # 真實標籤\n",
    "    'label'      : all_data['label'],        # 預測標籤\n",
    "    'output_std' : rf.predict_proba(all_data_matrix[0])[:,0],   # 隨機森林分數(求屬於標籤1的概率)\n",
    "}, columns = ['truth', 'label', 'output_std'])\n",
    "# print(results)"
   ]
  },
  {
   "cell_type": "markdown",
   "metadata": {},
   "source": []
  },
  {
   "cell_type": "code",
   "execution_count": null,
   "metadata": {},
   "outputs": [],
   "source": []
  },
  {
   "cell_type": "code",
   "execution_count": 21,
   "metadata": {},
   "outputs": [
    {
     "data": {
      "text/html": [
       "<div>\n",
       "<style scoped>\n",
       "    .dataframe tbody tr th:only-of-type {\n",
       "        vertical-align: middle;\n",
       "    }\n",
       "\n",
       "    .dataframe tbody tr th {\n",
       "        vertical-align: top;\n",
       "    }\n",
       "\n",
       "    .dataframe thead th {\n",
       "        text-align: right;\n",
       "    }\n",
       "</style>\n",
       "<table border=\"1\" class=\"dataframe\">\n",
       "  <thead>\n",
       "    <tr style=\"text-align: right;\">\n",
       "      <th></th>\n",
       "      <th>truth</th>\n",
       "      <th>label</th>\n",
       "      <th>output_std</th>\n",
       "    </tr>\n",
       "  </thead>\n",
       "  <tbody>\n",
       "    <tr>\n",
       "      <th>13685</th>\n",
       "      <td>1</td>\n",
       "      <td>0</td>\n",
       "      <td>0.681057</td>\n",
       "    </tr>\n",
       "    <tr>\n",
       "      <th>14220</th>\n",
       "      <td>1</td>\n",
       "      <td>0</td>\n",
       "      <td>0.882604</td>\n",
       "    </tr>\n",
       "    <tr>\n",
       "      <th>12304</th>\n",
       "      <td>1</td>\n",
       "      <td>0</td>\n",
       "      <td>0.805558</td>\n",
       "    </tr>\n",
       "    <tr>\n",
       "      <th>7052</th>\n",
       "      <td>1</td>\n",
       "      <td>0</td>\n",
       "      <td>0.974371</td>\n",
       "    </tr>\n",
       "    <tr>\n",
       "      <th>10560</th>\n",
       "      <td>1</td>\n",
       "      <td>0</td>\n",
       "      <td>0.917762</td>\n",
       "    </tr>\n",
       "  </tbody>\n",
       "</table>\n",
       "</div>"
      ],
      "text/plain": [
       "      truth label  output_std\n",
       "13685     1     0    0.681057\n",
       "14220     1     0    0.882604\n",
       "12304     1     0    0.805558\n",
       "7052      1     0    0.974371\n",
       "10560     1     0    0.917762"
      ]
     },
     "execution_count": 21,
     "metadata": {},
     "output_type": "execute_result"
    }
   ],
   "source": [
    "results.loc[sp_index[:]].head()\n"
   ]
  },
  {
   "cell_type": "code",
   "execution_count": 22,
   "metadata": {},
   "outputs": [
    {
     "data": {
      "image/png": "[encoded data removed]",
      "text/plain": [
       "<matplotlib.figure.Figure at 0x299f2b3af28>"
      ]
     },
     "metadata": {},
     "output_type": "display_data"
    },
    {
     "name": "stdout",
     "output_type": "stream",
     "text": [
      "(2,)\n"
     ]
    }
   ],
   "source": [
    "from scipy import stats\n",
    "sp_data = results['output_std'].loc[sp_index[:]]\n",
    "sp_counts = len(results['output_std'].loc[sp_index[:]])\n",
    "sp_mean = results['output_std'].loc[sp_index[:]].mean()\n",
    "sp_std = results['output_std'].loc[sp_index[:]].std()\n",
    "# 绘制概率密度分布图\n",
    "x = np.arange(0, 1, 0.001)\n",
    "# PDF是概率密度函数\n",
    "y = stats.norm.pdf(x, loc=sp_mean, scale=sp_std)\n",
    "plt.plot(x, y)\n",
    "plt.hist(sp_data, bins=10, rwidth=0.9, normed=True)\n",
    "plt.show()\n",
    "print(results['output_std'].loc[sp_index[:]][results['output_std']<0.5].shape)"
   ]
  },
  {
   "cell_type": "code",
   "execution_count": null,
   "metadata": {},
   "outputs": [],
   "source": []
  },
  {
   "cell_type": "code",
   "execution_count": 23,
   "metadata": {},
   "outputs": [
    {
     "name": "stdout",
     "output_type": "stream",
     "text": [
      "(0.8171795013867055, 0.9873221313790072)\n",
      "0.9026787434958566\n",
      "(0.8135886891688099, 0.9909129435969027)\n",
      "0.9079440173467377\n",
      "(0.8098344471322356, 0.994667185633477)\n",
      "0.9145646867371847\n",
      "(0.8058932167648155, 0.9986084160008972)\n",
      "0.9326193663543061\n",
      "(0.8017360804731326, 1.00276555229258)\n",
      "0.9549572870825783\n",
      "(0.7973269560435009, 1.0071746767222118)\n",
      "0.9549572870825783\n",
      "(0.792619952414674, 1.0118816803510386)\n",
      "0.9549572870825783\n",
      "(0.7875553670033499, 1.0169462657623627)\n",
      "0.9549572870825783\n",
      "(0.7820533828692018, 1.0224482498965108)\n",
      "0.9549572870825783\n",
      "(0.7760036564513554, 1.0284979763143574)\n",
      "0.9549572870825783\n",
      "(0.7692470598167789, 1.0352545729489337)\n",
      "0.9549572870825783\n"
     ]
    }
   ],
   "source": [
    "from scipy import stats\n",
    "ci = 0.68\n",
    "for i in range(11):\n",
    "    conf_intveral = stats.norm.interval(ci, loc=sp_mean, scale=sp_std) #數字為信賴區間\n",
    "    ci += 0.02\n",
    "    print(conf_intveral)\n",
    "    t=[]\n",
    "    t = sp_data[sp_data<conf_intveral[1]]\n",
    "    t = t[t>conf_intveral[0]]\n",
    "    RN = results\n",
    "    RN = RN[(~RN.index.isin(sp_index))] #去除U中的SP\n",
    "    RN_index = RN['output_std'][RN['output_std']>=max(t)].index\n",
    "    print(1-np.int_(RN['truth'].loc[RN_index[:]]).mean())\n",
    "    \n",
    "    \n",
    "# 函数曲线下68.268949%的面积在平均数左右的一个标准差范围内\n",
    "\n",
    "# 函数曲线下95.449974%的面积在平均数左右两个标准差的范围内\n",
    "\n",
    "# 函数曲线下99.730020%的面积在平均数左右三个标准差的范围内\n",
    "\n",
    "# 函数曲线下99.993666%的面积在平均数左右四个标准差的范围内"
   ]
  },
  {
   "cell_type": "code",
   "execution_count": 24,
   "metadata": {},
   "outputs": [
    {
     "data": {
      "text/plain": [
       "1.0"
      ]
     },
     "execution_count": 24,
     "metadata": {},
     "output_type": "execute_result"
    }
   ],
   "source": [
    "max(sp_data)"
   ]
  },
  {
   "cell_type": "code",
   "execution_count": 25,
   "metadata": {},
   "outputs": [
    {
     "data": {
      "text/plain": [
       "0.9675120624473564"
      ]
     },
     "execution_count": 25,
     "metadata": {},
     "output_type": "execute_result"
    }
   ],
   "source": [
    "t = sp_data[sp_data<0.9680286807189155]\n",
    "t = t[t>0.538615192344655]\n",
    "max(t)"
   ]
  },
  {
   "cell_type": "code",
   "execution_count": null,
   "metadata": {},
   "outputs": [],
   "source": []
  },
  {
   "cell_type": "code",
   "execution_count": 26,
   "metadata": {},
   "outputs": [
    {
     "data": {
      "text/plain": [
       "0.8824767057409078"
      ]
     },
     "execution_count": 26,
     "metadata": {},
     "output_type": "execute_result"
    }
   ],
   "source": [
    "RN = results\n",
    "RN = RN[(~RN.index.isin(sp_index))] #去除U中的SP\n",
    "RN_index = RN['output_std'][RN['output_std']>=max(t)].index\n",
    "1-np.int_(RN['truth'].loc[RN_index[:]]).mean()"
   ]
  },
  {
   "cell_type": "code",
   "execution_count": 27,
   "metadata": {},
   "outputs": [
    {
     "data": {
      "text/plain": [
       "(6654,)"
      ]
     },
     "execution_count": 27,
     "metadata": {},
     "output_type": "execute_result"
    }
   ],
   "source": [
    "RN_index.shape"
   ]
  },
  {
   "cell_type": "markdown",
   "metadata": {},
   "source": [
    "# 下面是將test資料轉換為矩陣"
   ]
  },
  {
   "cell_type": "code",
   "execution_count": 28,
   "metadata": {},
   "outputs": [],
   "source": [
    "test_data = pd.DataFrame({\n",
    "    'text'      : test_set,   # 真實標籤\n",
    "    'label'      : testlabel,        # 預測標籤\n",
    "}, columns = ['text', 'label'])"
   ]
  },
  {
   "cell_type": "code",
   "execution_count": 29,
   "metadata": {},
   "outputs": [],
   "source": [
    "#將測試及轉為稀疏矩陣，是舊的TFIDF\n",
    "test_data_matrix = raw2feature(test_data,keyword_dict)"
   ]
  },
  {
   "cell_type": "code",
   "execution_count": 30,
   "metadata": {},
   "outputs": [
    {
     "name": "stdout",
     "output_type": "stream",
     "text": [
      "Testing Accuarcy: 46.41％ (sklearn.ensemble.forest)\n"
     ]
    }
   ],
   "source": [
    "def test_func(test,testlabel,model):\n",
    "    Y_hat = model.predict(test)\n",
    "    n=np.size(testlabel)\n",
    "    print ('Testing Accuarcy: {:.2f}％ ({})'.format(sum(np.int_(Y_hat==testlabel))*100./n,model.__module__))\n",
    "# Test Model using testing data\n",
    "\n",
    "test_func(test_data_matrix[0],test_data_matrix[1],rf)"
   ]
  },
  {
   "cell_type": "markdown",
   "metadata": {},
   "source": [
    "# 下面是提取RN後用P和RN重新訓練"
   ]
  },
  {
   "cell_type": "code",
   "execution_count": 31,
   "metadata": {},
   "outputs": [],
   "source": [
    "all_data.loc[positive_train]\n",
    "all_data.loc[RN_index]\n",
    "all_data['label'].loc[sp_index] = '1'\n",
    "new_all_data=[]\n",
    "new_all_data = pd.concat([all_data.loc[positive_train],all_data.loc[RN_index]])"
   ]
  },
  {
   "cell_type": "code",
   "execution_count": 32,
   "metadata": {},
   "outputs": [],
   "source": [
    "new_keyword_dict=generate_key_list(all_data, size_table, word_len_ignored) #TFIDF"
   ]
  },
  {
   "cell_type": "code",
   "execution_count": 33,
   "metadata": {},
   "outputs": [
    {
     "data": {
      "text/plain": [
       "RandomForestClassifier(bootstrap=True, class_weight=None, criterion='gini',\n",
       "            max_depth=None, max_features='auto', max_leaf_nodes=None,\n",
       "            min_impurity_decrease=0.0, min_impurity_split=None,\n",
       "            min_samples_leaf=1, min_samples_split=2,\n",
       "            min_weight_fraction_leaf=0.0, n_estimators=1000, n_jobs=-1,\n",
       "            oob_score=False, random_state=None, verbose=0,\n",
       "            warm_start=False)"
      ]
     },
     "execution_count": 33,
     "metadata": {},
     "output_type": "execute_result"
    }
   ],
   "source": [
    "new_all_data_matrix = raw2feature(new_all_data,keyword_dict)\n",
    "from sklearn.ensemble import RandomForestClassifier\n",
    "\n",
    "rfpu = RandomForestClassifier(\n",
    "    n_estimators = 1000,  # 使用1000顆決策樹\n",
    "    n_jobs = -1           # 使用全部的CPU合運算\n",
    ")\n",
    "rfpu.fit(new_all_data_matrix[0], new_all_data_matrix[1])"
   ]
  },
  {
   "cell_type": "code",
   "execution_count": 34,
   "metadata": {},
   "outputs": [
    {
     "name": "stdout",
     "output_type": "stream",
     "text": [
      "Testing Accuarcy: 91.33％ (sklearn.ensemble.forest)\n"
     ]
    }
   ],
   "source": [
    "test_func(test_data_matrix[0],test_data_matrix[1],rfpu)"
   ]
  },
  {
   "cell_type": "code",
   "execution_count": 35,
   "metadata": {},
   "outputs": [
    {
     "data": {
      "text/plain": [
       "(3968,)"
      ]
     },
     "execution_count": 35,
     "metadata": {},
     "output_type": "execute_result"
    }
   ],
   "source": [
    "all_data['label'][all_data['label']==\"1\"].shape"
   ]
  },
  {
   "cell_type": "code",
   "execution_count": 36,
   "metadata": {},
   "outputs": [
    {
     "data": {
      "image/png": "[encoded data removed]",
      "text/plain": [
       "<matplotlib.figure.Figure at 0x299f4671e80>"
      ]
     },
     "metadata": {},
     "output_type": "display_data"
    }
   ],
   "source": [
    "import matplotlib.pyplot as plt\n",
    "plt.rcParams['font.size'] = 16\n",
    "plt.rcParams['figure.figsize'] = 15, 8\n",
    "x = [400, 800, 1200, 1600,2000,2400,2800,3200]\n",
    "y_std = [0.7947, 0.6482, 0.5777, 0.5332,0.5090,0.4892,0.4843,0.4757]\n",
    "y_stdpu = [0.8190, 0.8235, 0.8158, 0.8243,0.8315,0.8288,0.9218,0.9075]\n",
    "plt.xlim(0, 4000)\n",
    "plt.ylim(0.3, 1)\n",
    "plt.plot(x, y_std, marker='', mec='b', mfc='w' ,lw = 5)\n",
    "plt.plot(x, y_stdpu, marker='', mec='b', mfc='w' ,lw = 5)\n",
    "plt.legend([\n",
    "    'supervised RF', \n",
    "    'Spy-pu RF'\n",
    "])  # 让图例生效\n",
    "# plt.xticks(x, names, rotation=45)\n",
    "plt.margins(0)\n",
    "plt.subplots_adjust(bottom=0.15)\n",
    "plt.xlabel(u\"Spy Positive Data\") #X轴标签\n",
    "plt.ylabel(\"Experiment Accuracy\") #Y轴标签\n",
    "plt.title(\"Performance of the two approaches\") #标题\n",
    "plt.savefig(\"classifier \")\n",
    "plt.grid()\n",
    "plt.show()"
   ]
  },
  {
   "cell_type": "code",
   "execution_count": null,
   "metadata": {},
   "outputs": [],
   "source": []
  },
  {
   "cell_type": "code",
   "execution_count": null,
   "metadata": {},
   "outputs": [],
   "source": []
  },
  {
   "cell_type": "code",
   "execution_count": null,
   "metadata": {},
   "outputs": [],
   "source": []
  }
 ],
 "metadata": {
  "kernelspec": {
   "display_name": "Python 3",
   "language": "python",
   "name": "python3"
  },
  "language_info": {
   "codemirror_mode": {
    "name": "ipython",
    "version": 3
   },
   "file_extension": ".py",
   "mimetype": "text/x-python",
   "name": "python",
   "nbconvert_exporter": "python",
   "pygments_lexer": "ipython3",
   "version": "3.6.4"
  }
 },
 "nbformat": 4,
 "nbformat_minor": 2
}
