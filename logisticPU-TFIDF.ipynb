{
 "cells": [
  {
   "cell_type": "markdown",
   "metadata": {},
   "source": [
    "# 匯入一些套件還有匯入文檔"
   ]
  },
  {
   "cell_type": "code",
   "execution_count": 63,
   "metadata": {},
   "outputs": [
    {
     "name": "stdout",
     "output_type": "stream",
     "text": [
      "Populating the interactive namespace from numpy and matplotlib\n",
      "spam total： 7775\n",
      "ham total： 7063\n"
     ]
    },
    {
     "name": "stderr",
     "output_type": "stream",
     "text": [
      "C:\\Users\\zxc98\\Anaconda3\\lib\\site-packages\\IPython\\core\\magics\\pylab.py:160: UserWarning: pylab import has clobbered these variables: ['logistic', 'f', 'text']\n",
      "`%matplotlib` prevents importing * from pylab and numpy\n",
      "  \"\\n`%matplotlib` prevents importing * from pylab and numpy\"\n"
     ]
    }
   ],
   "source": [
    "%pylab inline\n",
    "import time\n",
    "import re\n",
    "import matplotlib.pyplot as plt\n",
    "import pandas as pd\n",
    "import string\n",
    "import codecs\n",
    "import os\n",
    "import jieba\n",
    "from sklearn.feature_extraction.text import CountVectorizer\n",
    "from wordcloud import WordCloud\n",
    "from sklearn import naive_bayes as bayes\n",
    "from sklearn.model_selection import train_test_split\n",
    "#簡轉繁\n",
    "from hanziconv import HanziConv\n",
    "\n",
    "#ham與spam的每封郵件list\n",
    "ham_text = []\n",
    "spam_text = []\n",
    "#ham與spam的數據集\n",
    "ham_data = []\n",
    "spam_data = []\n",
    "#取得目前工作目錄\n",
    "SaveDirectory = os.getcwd() \n",
    "#獲得文檔列表\n",
    "listham = os.listdir(SaveDirectory+'\\\\data\\\\normal')\n",
    "listspam = os.listdir(SaveDirectory+'\\\\data\\\\spam')\n",
    "#數據集數量\n",
    "\n",
    "print('spam total：',len(listspam))\n",
    "print('ham total：',len(listham))\n"
   ]
  },
  {
   "cell_type": "markdown",
   "metadata": {},
   "source": [
    "# 先匯入HAM文檔並給予label = 0"
   ]
  },
  {
   "cell_type": "code",
   "execution_count": 64,
   "metadata": {},
   "outputs": [
    {
     "data": {
      "text/html": [
       "<div>\n",
       "<style scoped>\n",
       "    .dataframe tbody tr th:only-of-type {\n",
       "        vertical-align: middle;\n",
       "    }\n",
       "\n",
       "    .dataframe tbody tr th {\n",
       "        vertical-align: top;\n",
       "    }\n",
       "\n",
       "    .dataframe thead th {\n",
       "        text-align: right;\n",
       "    }\n",
       "</style>\n",
       "<table border=\"1\" class=\"dataframe\">\n",
       "  <thead>\n",
       "    <tr style=\"text-align: right;\">\n",
       "      <th></th>\n",
       "      <th>text</th>\n",
       "      <th>label</th>\n",
       "    </tr>\n",
       "  </thead>\n",
       "  <tbody>\n",
       "    <tr>\n",
       "      <th>0</th>\n",
       "      <td>這事兒還有續集 因為我姐她們買房子後來裝修的時候沒錢她婆婆他們就贊助瞭萬塊 這下一吵她婆婆就...</td>\n",
       "      <td>0</td>\n",
       "    </tr>\n",
       "    <tr>\n",
       "      <th>1</th>\n",
       "      <td>越發覺得這個姐夫不錯瞭 那萬還是趕緊還瞭吧 標題姐姐快要生孩子瞭很感慨 發信站水木社區站內 ...</td>\n",
       "      <td>0</td>\n",
       "    </tr>\n",
       "    <tr>\n",
       "      <th>2</th>\n",
       "      <td>或許某些農村吧 在一個當性彆勞動力富裕程度的地方還是可以理解的 標題姐姐快要生孩子瞭很感慨 ...</td>\n",
       "      <td>0</td>\n",
       "    </tr>\n",
       "    <tr>\n",
       "      <th>3</th>\n",
       "      <td>最近經常看到你說一些很武斷的話 所謂保胎確實是要躺在床上不能動的尤其是先兆流産有齣血的時候 ...</td>\n",
       "      <td>0</td>\n",
       "    </tr>\n",
       "    <tr>\n",
       "      <th>4</th>\n",
       "      <td>他們分手是說性格不閤 沒多久然後我們交往 還算比較愉快 當初因為他經常和聯係我曾跟他吵過多次...</td>\n",
       "      <td>0</td>\n",
       "    </tr>\n",
       "  </tbody>\n",
       "</table>\n",
       "</div>"
      ],
      "text/plain": [
       "                                                text label\n",
       "0  這事兒還有續集 因為我姐她們買房子後來裝修的時候沒錢她婆婆他們就贊助瞭萬塊 這下一吵她婆婆就...     0\n",
       "1  越發覺得這個姐夫不錯瞭 那萬還是趕緊還瞭吧 標題姐姐快要生孩子瞭很感慨 發信站水木社區站內 ...     0\n",
       "2  或許某些農村吧 在一個當性彆勞動力富裕程度的地方還是可以理解的 標題姐姐快要生孩子瞭很感慨 ...     0\n",
       "3  最近經常看到你說一些很武斷的話 所謂保胎確實是要躺在床上不能動的尤其是先兆流産有齣血的時候 ...     0\n",
       "4  他們分手是說性格不閤 沒多久然後我們交往 還算比較愉快 當初因為他經常和聯係我曾跟他吵過多次...     0"
      ]
     },
     "execution_count": 64,
     "metadata": {},
     "output_type": "execute_result"
    }
   ],
   "source": [
    "for fileName in listham:\n",
    "        with open('data/normal/'+fileName, 'r',encoding='gbk') as f:\n",
    "            #文本每一列儲存\n",
    "            text=[]\n",
    "            # 過濾非中文字符，正規化\n",
    "            for line in f.readlines():\n",
    "                pattern = re.compile('[^\\u4e00-\\u9fa5]') #正規化(去除非中文字符)\n",
    "                line = pattern.sub(\"\", line) #將其他字符取代為\"\"\n",
    "                content = line.strip().split() #去除一些空白.換行\n",
    "                text = text+content #儲存這個文本的內容\n",
    "            text = \" \".join(text) #將文本內容list加入全部文本的list\n",
    "            ham_text.append(HanziConv.toTraditional(text)) #簡轉繁\n",
    "ham_data = pd.DataFrame(ham_text,columns=['text']) #將list改成dataframe\n",
    "ham_data['label']='0' #將資料類別加上 0:ham 1:spam\n",
    "ham_data.head()\n"
   ]
  },
  {
   "cell_type": "markdown",
   "metadata": {},
   "source": [
    "# 先匯入SPAM文檔並給予label = 1"
   ]
  },
  {
   "cell_type": "code",
   "execution_count": 65,
   "metadata": {},
   "outputs": [
    {
     "data": {
      "text/html": [
       "<div>\n",
       "<style scoped>\n",
       "    .dataframe tbody tr th:only-of-type {\n",
       "        vertical-align: middle;\n",
       "    }\n",
       "\n",
       "    .dataframe tbody tr th {\n",
       "        vertical-align: top;\n",
       "    }\n",
       "\n",
       "    .dataframe thead th {\n",
       "        text-align: right;\n",
       "    }\n",
       "</style>\n",
       "<table border=\"1\" class=\"dataframe\">\n",
       "  <thead>\n",
       "    <tr style=\"text-align: right;\">\n",
       "      <th></th>\n",
       "      <th>text</th>\n",
       "      <th>label</th>\n",
       "    </tr>\n",
       "  </thead>\n",
       "  <tbody>\n",
       "    <tr>\n",
       "      <th>0</th>\n",
       "      <td>會員注冊邀請書 全國最低價域名空間大放送 國際頂級域名注冊驚暴價元年元年連續注冊年以上 國傢...</td>\n",
       "      <td>1</td>\n",
       "    </tr>\n",
       "    <tr>\n",
       "      <th>1</th>\n",
       "      <td>你好 以茶會友以茶聯誼喝茶就喝安溪鐵觀音 本廠是專業生産批發各等級鐵觀音茶葉的購買聯係 在綫...</td>\n",
       "      <td>1</td>\n",
       "    </tr>\n",
       "    <tr>\n",
       "      <th>2</th>\n",
       "      <td>尊敬的先生小姐 您好 首先感謝您抽時間查看以下信息 我公司一直緻力於研發生産銷售施工環氧樹脂...</td>\n",
       "      <td>1</td>\n",
       "    </tr>\n",
       "    <tr>\n",
       "      <th>3</th>\n",
       "      <td>先生 你好 批發麻醉藥催情藥墮胎藥避孕藥飲料型噴霧型香煙型揮發型等各類國際國內製藥企業推齣的...</td>\n",
       "      <td>1</td>\n",
       "    </tr>\n",
       "    <tr>\n",
       "      <th>4</th>\n",
       "      <td>貴公司負責人經理財務您好 我是深圳市創偉實業有限公司的我司實力雄厚有著良 好的社會關係也有部...</td>\n",
       "      <td>1</td>\n",
       "    </tr>\n",
       "  </tbody>\n",
       "</table>\n",
       "</div>"
      ],
      "text/plain": [
       "                                                text label\n",
       "0  會員注冊邀請書 全國最低價域名空間大放送 國際頂級域名注冊驚暴價元年元年連續注冊年以上 國傢...     1\n",
       "1  你好 以茶會友以茶聯誼喝茶就喝安溪鐵觀音 本廠是專業生産批發各等級鐵觀音茶葉的購買聯係 在綫...     1\n",
       "2  尊敬的先生小姐 您好 首先感謝您抽時間查看以下信息 我公司一直緻力於研發生産銷售施工環氧樹脂...     1\n",
       "3  先生 你好 批發麻醉藥催情藥墮胎藥避孕藥飲料型噴霧型香煙型揮發型等各類國際國內製藥企業推齣的...     1\n",
       "4  貴公司負責人經理財務您好 我是深圳市創偉實業有限公司的我司實力雄厚有著良 好的社會關係也有部...     1"
      ]
     },
     "execution_count": 65,
     "metadata": {},
     "output_type": "execute_result"
    }
   ],
   "source": [
    "for fileName in listspam:\n",
    "        with open('data/spam/'+fileName, 'r',encoding='gbk') as f:\n",
    "            text=[]\n",
    "            # 过滤掉非中文字符\n",
    "            for line in f.readlines():\n",
    "                pattern = re.compile('[^\\u4e00-\\u9fa5]')\n",
    "                line = pattern.sub(\"\", line)\n",
    "                content = line.strip().split()\n",
    "                text = text+content\n",
    "            text = \" \".join(text)\n",
    "            spam_text.append(HanziConv.toTraditional(text))\n",
    "spam_data = pd.DataFrame(spam_text,columns=['text'])\n",
    "spam_data['label']='1'\n",
    "spam_data.head()"
   ]
  },
  {
   "cell_type": "markdown",
   "metadata": {},
   "source": [
    "# 把匯入的 SPAM與HAM結合並打亂"
   ]
  },
  {
   "cell_type": "code",
   "execution_count": 66,
   "metadata": {},
   "outputs": [
    {
     "name": "stdout",
     "output_type": "stream",
     "text": [
      "data shape： (14838, 2)\n",
      "spams in rows： 7775\n",
      "hams in rows： 7063\n"
     ]
    },
    {
     "data": {
      "text/html": [
       "<div>\n",
       "<style scoped>\n",
       "    .dataframe tbody tr th:only-of-type {\n",
       "        vertical-align: middle;\n",
       "    }\n",
       "\n",
       "    .dataframe tbody tr th {\n",
       "        vertical-align: top;\n",
       "    }\n",
       "\n",
       "    .dataframe thead th {\n",
       "        text-align: right;\n",
       "    }\n",
       "</style>\n",
       "<table border=\"1\" class=\"dataframe\">\n",
       "  <thead>\n",
       "    <tr style=\"text-align: right;\">\n",
       "      <th></th>\n",
       "      <th>text</th>\n",
       "      <th>label</th>\n",
       "    </tr>\n",
       "  </thead>\n",
       "  <tbody>\n",
       "    <tr>\n",
       "      <th>0</th>\n",
       "      <td>你教育的方法不對你多厚道的人可惜遇到你這樣的人浪費瞭 發現自己的是個不懂拒絕的人很難再忍受也...</td>\n",
       "      <td>0</td>\n",
       "    </tr>\n",
       "    <tr>\n",
       "      <th>1</th>\n",
       "      <td>每個人都追求一份完美的愛情我想你也是這樣 其實是你自己心中的不公平在作怪 因為你一直沒有其他...</td>\n",
       "      <td>0</td>\n",
       "    </tr>\n",
       "    <tr>\n",
       "      <th>2</th>\n",
       "      <td>貴公司負責人經理財務您好 我是深圳市源盛實業有限公司的廣州東莞等市有分公司 我司實力雄厚有著...</td>\n",
       "      <td>1</td>\n",
       "    </tr>\n",
       "    <tr>\n",
       "      <th>3</th>\n",
       "      <td>您好 月日正月初四晚左右在唐山市灤南縣長柏公路高泡加油站南側約公裏牛東莊道口北約公裏處發生一...</td>\n",
       "      <td>1</td>\n",
       "    </tr>\n",
       "    <tr>\n",
       "      <th>4</th>\n",
       "      <td>尊敬的公司工廠經理負責人你好 我公司是一傢多年為外資企業代理進齣口業務的公司現有部分稅額如增...</td>\n",
       "      <td>1</td>\n",
       "    </tr>\n",
       "    <tr>\n",
       "      <th>5</th>\n",
       "      <td>健康應該排在第一個吧 不然守活寡瞭 標題師姐主張我找研一研二的 發信站水木社區站內 我師姐纔...</td>\n",
       "      <td>0</td>\n",
       "    </tr>\n",
       "  </tbody>\n",
       "</table>\n",
       "</div>"
      ],
      "text/plain": [
       "                                                text label\n",
       "0  你教育的方法不對你多厚道的人可惜遇到你這樣的人浪費瞭 發現自己的是個不懂拒絕的人很難再忍受也...     0\n",
       "1  每個人都追求一份完美的愛情我想你也是這樣 其實是你自己心中的不公平在作怪 因為你一直沒有其他...     0\n",
       "2  貴公司負責人經理財務您好 我是深圳市源盛實業有限公司的廣州東莞等市有分公司 我司實力雄厚有著...     1\n",
       "3  您好 月日正月初四晚左右在唐山市灤南縣長柏公路高泡加油站南側約公裏牛東莊道口北約公裏處發生一...     1\n",
       "4  尊敬的公司工廠經理負責人你好 我公司是一傢多年為外資企業代理進齣口業務的公司現有部分稅額如增...     1\n",
       "5  健康應該排在第一個吧 不然守活寡瞭 標題師姐主張我找研一研二的 發信站水木社區站內 我師姐纔...     0"
      ]
     },
     "execution_count": 66,
     "metadata": {},
     "output_type": "execute_result"
    }
   ],
   "source": [
    "all_data = pd.concat([spam_data,ham_data],axis=0, ignore_index=True)  #將ham lsit與spam list串起來\n",
    "all_data = all_data.sample(frac=1).reset_index(drop=True) #sample frac = 1 是把數據都打亂 resr_index是把index也重設\n",
    "print('data shape：',all_data.shape)\n",
    "print('spams in rows：',all_data.loc[all_data['label']==\"1\"].shape[0])\n",
    "print('hams in rows：',all_data.loc[all_data['label']==\"0\"].shape[0])\n",
    "all_data.head(6)"
   ]
  },
  {
   "cell_type": "markdown",
   "metadata": {},
   "source": [
    "# 接著載入停詞表及斷詞"
   ]
  },
  {
   "cell_type": "code",
   "execution_count": 67,
   "metadata": {},
   "outputs": [],
   "source": [
    "#載入 停用詞 (stopwords) 自動過濾掉某些字或詞\n",
    "stopwords = codecs.open(os.path.join(SaveDirectory+'\\data', 'stopwords_tr.txt'), 'r', 'utf-8').read().split('\\r\\n')\n",
    "#下面斷詞\n",
    "processed_texts = []\n",
    "for text in all_data[\"text\"]:\n",
    "    words = []\n",
    "    seg_list = jieba.cut(text) #利用Jieba斷詞\n",
    "    for seg in seg_list: \n",
    "        # isalpha()檢測詞是否由字符組成，且不在停用詞的list中\n",
    "        if (seg.isalpha()) & (seg not in stopwords):\n",
    "            words.append(seg)\n",
    "    sentence = \" \".join(words)\n",
    "    processed_texts.append(sentence)\n",
    "all_data[\"text\"] = processed_texts #利用過濾且斷好的詞取代文本\n"
   ]
  },
  {
   "cell_type": "markdown",
   "metadata": {},
   "source": [
    "# 接著將資料切成訓練及與測試集"
   ]
  },
  {
   "cell_type": "code",
   "execution_count": 68,
   "metadata": {},
   "outputs": [],
   "source": [
    "#traindate & testdata\n",
    "train_set, test_set, trainlabel, testlabel = train_test_split(all_data[\"text\"], all_data[\"label\"], test_size = 0.15)"
   ]
  },
  {
   "cell_type": "code",
   "execution_count": 69,
   "metadata": {},
   "outputs": [
    {
     "name": "stdout",
     "output_type": "stream",
     "text": [
      "train:12612\n",
      "test:2226\n"
     ]
    },
    {
     "data": {
      "text/plain": [
       "(6602,)"
      ]
     },
     "execution_count": 69,
     "metadata": {},
     "output_type": "execute_result"
    }
   ],
   "source": [
    "print(\"train:\"+str(len(train_set)))\n",
    "print(\"test:\"+str(len(test_set)))\n",
    "trainlabel[trainlabel=='1'].shape"
   ]
  },
  {
   "cell_type": "code",
   "execution_count": 70,
   "metadata": {},
   "outputs": [
    {
     "data": {
      "text/plain": [
       "(4005,)"
      ]
     },
     "execution_count": 70,
     "metadata": {},
     "output_type": "execute_result"
    }
   ],
   "source": [
    "trainlabel_orig = trainlabel.copy()\n",
    "# 取消一些標記的數據\n",
    "unlabeled_size = 2597\n",
    "#loc可以選擇數據(把上面數量的POSTIVE DATA隱藏為UNLABELED DATA)\n",
    "trainlabel.loc[\n",
    "    np.random.choice(\n",
    "        trainlabel[trainlabel == '1'].index, \n",
    "        replace = False, \n",
    "        size = unlabeled_size\n",
    "    )\n",
    "] = '0'\n",
    "trainlabel[trainlabel=='1'].shape"
   ]
  },
  {
   "cell_type": "code",
   "execution_count": 71,
   "metadata": {},
   "outputs": [
    {
     "data": {
      "text/plain": [
       "(4005, 3)"
      ]
     },
     "execution_count": 71,
     "metadata": {},
     "output_type": "execute_result"
    }
   ],
   "source": [
    "positive_train = trainlabel[trainlabel=='1'].index\n",
    "positive_data = train_set[positive_train]\n",
    "positive_spam = pd.DataFrame(\n",
    "    {\n",
    "     'text':positive_data, \n",
    "     'label':trainlabel[positive_train],\n",
    "     'truth':trainlabel_orig[positive_train]\n",
    "    })\n",
    "positive_spam.shape\n"
   ]
  },
  {
   "cell_type": "code",
   "execution_count": 72,
   "metadata": {},
   "outputs": [],
   "source": [
    "import re\n",
    "def generate_key_list(all_data, size_table=200,ignore=2):\n",
    "    dict_spam_raw = dict()\n",
    "    dict_genuine_raw = dict()\n",
    "    dict_IDF = dict()\n",
    "\n",
    "    # 去除字母外的所有內容.\n",
    "    for i in range(all_data.shape[0]):\n",
    "        finds = all_data.iloc[i].text.split(\" \")\n",
    "        if all_data.iloc[i].label == '1':\n",
    "            for find in finds:\n",
    "                if len(find)<ignore: continue\n",
    "                try:\n",
    "                    dict_spam_raw[find] = dict_spam_raw[find] + 1\n",
    "                except:\t\n",
    "                    dict_spam_raw[find] = dict_spam_raw.get(find,1) #若是新的文字因為後面get找不到這個索引會返回逗點後面的值\n",
    "                    dict_genuine_raw[find] = dict_genuine_raw.get(find,0)\n",
    "        else:\n",
    "            for find in finds:\n",
    "                if len(find)<ignore: continue\n",
    "                try:\n",
    "                    dict_genuine_raw[find] = dict_genuine_raw[find] + 1\n",
    "                except:\t\n",
    "                    dict_genuine_raw[find] = dict_genuine_raw.get(find,1)\n",
    "                    dict_spam_raw[find] = dict_spam_raw.get(find,0)\n",
    "\n",
    "        word_set = set()\n",
    "        for find in finds:\n",
    "            if not(find in word_set):\n",
    "                if len(find)<ignore: continue\n",
    "                try:\n",
    "                    dict_IDF[find] = dict_IDF[find] + 1\n",
    "                except:\t\n",
    "                    dict_IDF[find] = dict_IDF.get(find,1)\n",
    "            word_set.add(find)\n",
    "    word_df = pd.DataFrame(list(zip(dict_genuine_raw.keys(),dict_genuine_raw.values(),dict_spam_raw.values(),dict_IDF.values())))\n",
    "    word_df.columns = ['keyword','genuine','spam','IDF']\n",
    "    word_df['genuine'] = word_df['genuine'].astype('float')/all_data[all_data['label']=='0'].shape[0]\n",
    "    word_df['spam'] = word_df['spam'].astype('float')/all_data[all_data['label']=='1'].shape[0]\n",
    "    word_df['IDF'] = np.log10(word_df.shape[0]/word_df['IDF'].astype('float'))\n",
    "    word_df['genuine_IDF'] = word_df['genuine']*word_df['IDF']\n",
    "    word_df['spam_IDF'] = word_df['spam']*word_df['IDF']\n",
    "    word_df['diff']=word_df['spam_IDF']-word_df['genuine_IDF']\n",
    "    selected_spam_key = word_df.sort_values('diff',ascending=False)  \n",
    "    keyword_dict = dict()\n",
    "    i = 0\n",
    "    for word in selected_spam_key.head(size_table).keyword:\n",
    "        keyword_dict.update({word.strip():i})\n",
    "        i+=1\n",
    "    return keyword_dict   \n",
    "# build a tabu list based on the training data\n",
    "size_table = 200               # 多少特徵維度去分類SPAM\n",
    "word_len_ignored = 2            # 忽略那些比這個還要小的字詞\n",
    "keyword_dict=generate_key_list(positive_spam, size_table, word_len_ignored)"
   ]
  },
  {
   "cell_type": "code",
   "execution_count": 73,
   "metadata": {},
   "outputs": [
    {
     "name": "stdout",
     "output_type": "stream",
     "text": [
      "公司:0\n",
      "負責人:1\n",
      "經理:2\n",
      "財務:3\n",
      "您好:4\n",
      "天美廣告:5\n",
      "有限公司:6\n",
      "定額:7\n",
      "稅額:8\n",
      "每月:9\n",
      "一部分:10\n",
      "普通:11\n",
      "廣告:12\n",
      "發票:13\n",
      "服務:14\n",
      "稅率:15\n",
      "優惠:16\n",
      "代開:17\n",
      "作根據:18\n",
      "要求:19\n",
      "數量:20\n",
      "額度:21\n",
      "商討代開:22\n",
      "希望:23\n",
      "貴司:24\n",
      "如貴:25\n",
      "疑慮:26\n",
      "擔心:27\n",
      "可上:28\n",
      "網查證:29\n",
      "提供:30\n",
      "付款:31\n",
      "詳情:32\n",
      "請電:33\n",
      "人方:34\n",
      "小姐:35\n",
      "金利:36\n",
      "嘉實業:37\n",
      "因全國:38\n",
      "各地:39\n",
      "分公司:40\n",
      "進項:41\n",
      "多現:42\n",
      "完成:43\n",
      "銷售:44\n",
      "現有:45\n",
      "地方:46\n",
      "商品:47\n",
      "統一銷售:48\n",
      "電腦版:49\n",
      "公路:50\n",
      "內河:51\n",
      "國際運:52\n",
      "輸服務:53\n",
      "建築安裝定:54\n",
      "額租賃:55\n",
      "專用:56\n",
      "左右:57\n",
      "優惠代:58\n",
      "開還:59\n",
      "所開:60\n",
      "大小:61\n",
      "商討:62\n",
      "點數:63\n",
      "謝謝:64\n",
      "鄭重:65\n",
      "承諾:66\n",
      "所用:67\n",
      "真票:68\n",
      "直接:69\n",
      "稅務:70\n",
      "局驗證:71\n",
      "人林錦龍:72\n",
      "手機:73\n",
      "順祝:74\n",
      "商祺:75\n",
      "中國:76\n",
      "教學:77\n",
      "資源網:78\n",
      "資源:79\n",
      "網免費:80\n",
      "中小:81\n",
      "精品:82\n",
      "課件:83\n",
      "下載:84\n",
      "網站:85\n",
      "地址:86\n",
      "在網:87\n",
      "站上:88\n",
      "注冊:89\n",
      "登陸後點:90\n",
      "中心:91\n",
      "立即:92\n",
      "可獲:93\n",
      "下載幣:94\n",
      "方便:95\n",
      "一個:96\n",
      "真正:97\n",
      "廣大:98\n",
      "教育界:99\n",
      "友服務:100\n",
      "詳細:101\n",
      "都市:102\n",
      "博客:103\n",
      "今天:104\n",
      "登陸:105\n",
      "歡迎:106\n",
      "使用:107\n",
      "浙江人:108\n",
      "郵箱:109\n",
      "登錄:110\n",
      "申請:111\n",
      "轉帳:112\n",
      "報名:113\n",
      "郵件:114\n",
      "發送:115\n",
      "若給:116\n",
      "不便:117\n",
      "標題:118\n",
      "退信:119\n",
      "創偉:120\n",
      "實業:121\n",
      "我司:122\n",
      "實力:123\n",
      "雄厚:124\n",
      "著良:125\n",
      "社會關:126\n",
      "部分:127\n",
      "外省市:128\n",
      "票據:129\n",
      "增值:130\n",
      "稅電腦:131\n",
      "普通商品:132\n",
      "銷售稅:133\n",
      "國稅:134\n",
      "地稅:135\n",
      "運輸:136\n",
      "優惠代開:137\n",
      "作點:138\n",
      "數較:139\n",
      "低還:140\n",
      "能夠:141\n",
      "機會:142\n",
      "如貴司:143\n",
      "稅務局:144\n",
      "抵扣:145\n",
      "核對:146\n",
      "閤作:147\n",
      "一次:148\n",
      "永久:149\n",
      "朋友:150\n",
      "信息:151\n",
      "有效:152\n",
      "如須:153\n",
      "一步:154\n",
      "洽商:155\n",
      "電小時:156\n",
      "業務:157\n",
      "人趙銘:158\n",
      "海華:159\n",
      "廣州:160\n",
      "東莞:161\n",
      "有著:162\n",
      "良好:163\n",
      "售額度:164\n",
      "服務等票:165\n",
      "鄭亦文:166\n",
      "公共:167\n",
      "精英:168\n",
      "大賽:169\n",
      "官方:170\n",
      "方式:171\n",
      "電話:172\n",
      "傳真:173\n",
      "當今:174\n",
      "社會:175\n",
      "發展:176\n",
      "過程:177\n",
      "中越:178\n",
      "受到:179\n",
      "各方:180\n",
      "重視:181\n",
      "逐漸:182\n",
      "進入:183\n",
      "蓬勃:184\n",
      "時期:185\n",
      "加入:186\n",
      "申奧:187\n",
      "成功:188\n",
      "上海:189\n",
      "世博:190\n",
      "將極:191\n",
      "推動:192\n",
      "行業:193\n",
      "經濟:194\n",
      "時代:195\n",
      "背景:196\n",
      "將在:197\n",
      "廣泛:198\n",
      "政治:199\n"
     ]
    }
   ],
   "source": [
    "#排序越前面的代表出現在SPAM的機率越大\n",
    "for key,value in keyword_dict.items():\n",
    "    print('{key}:{value}'.format(key = key, value = value))"
   ]
  },
  {
   "cell_type": "code",
   "execution_count": 74,
   "metadata": {},
   "outputs": [
    {
     "data": {
      "text/html": [
       "<div>\n",
       "<style scoped>\n",
       "    .dataframe tbody tr th:only-of-type {\n",
       "        vertical-align: middle;\n",
       "    }\n",
       "\n",
       "    .dataframe tbody tr th {\n",
       "        vertical-align: top;\n",
       "    }\n",
       "\n",
       "    .dataframe thead th {\n",
       "        text-align: right;\n",
       "    }\n",
       "</style>\n",
       "<table border=\"1\" class=\"dataframe\">\n",
       "  <thead>\n",
       "    <tr style=\"text-align: right;\">\n",
       "      <th></th>\n",
       "      <th>label</th>\n",
       "      <th>text</th>\n",
       "      <th>truth</th>\n",
       "    </tr>\n",
       "  </thead>\n",
       "  <tbody>\n",
       "    <tr>\n",
       "      <th>376</th>\n",
       "      <td>0</td>\n",
       "      <td>沒錯 矽 榖 動力 消息 劉軍 先生 年月生 北京 人漢族 現任 聯想 集團 高級 副 總裁...</td>\n",
       "      <td>0</td>\n",
       "    </tr>\n",
       "    <tr>\n",
       "      <th>6289</th>\n",
       "      <td>0</td>\n",
       "      <td>先 教育 網能 再 說 彆 上周 缺乏 錶 情 比爾蓋茨終 發怒 瞭微 軟 副 總裁 微軟 ...</td>\n",
       "      <td>0</td>\n",
       "    </tr>\n",
       "    <tr>\n",
       "      <th>11974</th>\n",
       "      <td>0</td>\n",
       "      <td>工程 碩士 隻 學位 沒有學 曆 想問 問學 曆 麵 朋友 上班族 學 曆 低 想 提高 一...</td>\n",
       "      <td>0</td>\n",
       "    </tr>\n",
       "    <tr>\n",
       "      <th>370</th>\n",
       "      <td>0</td>\n",
       "      <td>下載 電影事 歧視 信報 訊 記者 陳 峰 市發 改委 昨天 提供 數字 顯示 全市 戶籍 ...</td>\n",
       "      <td>0</td>\n",
       "    </tr>\n",
       "    <tr>\n",
       "      <th>10314</th>\n",
       "      <td>0</td>\n",
       "      <td>笑眯眯 婆婆 說 媽我愛喝 說 早晨 喝牛奶 喝慣 瞭 上周 迴 婆婆 傢 傢 裏 牛奶 超...</td>\n",
       "      <td>0</td>\n",
       "    </tr>\n",
       "  </tbody>\n",
       "</table>\n",
       "</div>"
      ],
      "text/plain": [
       "      label                                               text truth\n",
       "376       0  沒錯 矽 榖 動力 消息 劉軍 先生 年月生 北京 人漢族 現任 聯想 集團 高級 副 總裁...     0\n",
       "6289      0  先 教育 網能 再 說 彆 上周 缺乏 錶 情 比爾蓋茨終 發怒 瞭微 軟 副 總裁 微軟 ...     0\n",
       "11974     0  工程 碩士 隻 學位 沒有學 曆 想問 問學 曆 麵 朋友 上班族 學 曆 低 想 提高 一...     0\n",
       "370       0  下載 電影事 歧視 信報 訊 記者 陳 峰 市發 改委 昨天 提供 數字 顯示 全市 戶籍 ...     0\n",
       "10314     0  笑眯眯 婆婆 說 媽我愛喝 說 早晨 喝牛奶 喝慣 瞭 上周 迴 婆婆 傢 傢 裏 牛奶 超...     0"
      ]
     },
     "execution_count": 74,
     "metadata": {},
     "output_type": "execute_result"
    }
   ],
   "source": [
    "unlabeled_train = trainlabel[trainlabel=='0'].index\n",
    "unlabeled_data = train_set[unlabeled_train]\n",
    "unlabeled_df = pd.DataFrame(\n",
    "    {\n",
    "        'text':unlabeled_data, \n",
    "        'label':trainlabel[unlabeled_train],\n",
    "        'truth':trainlabel_orig[unlabeled_train]\n",
    "    })\n",
    "unlabeled_df.head()"
   ]
  },
  {
   "cell_type": "code",
   "execution_count": 75,
   "metadata": {},
   "outputs": [
    {
     "data": {
      "text/html": [
       "<div>\n",
       "<style scoped>\n",
       "    .dataframe tbody tr th:only-of-type {\n",
       "        vertical-align: middle;\n",
       "    }\n",
       "\n",
       "    .dataframe tbody tr th {\n",
       "        vertical-align: top;\n",
       "    }\n",
       "\n",
       "    .dataframe thead th {\n",
       "        text-align: right;\n",
       "    }\n",
       "</style>\n",
       "<table border=\"1\" class=\"dataframe\">\n",
       "  <thead>\n",
       "    <tr style=\"text-align: right;\">\n",
       "      <th></th>\n",
       "      <th>label</th>\n",
       "      <th>text</th>\n",
       "      <th>truth</th>\n",
       "    </tr>\n",
       "  </thead>\n",
       "  <tbody>\n",
       "    <tr>\n",
       "      <th>9099</th>\n",
       "      <td>0</td>\n",
       "      <td>這種 事情 太 復 雜我 問我媽 前 幾天 喜歡 錶 瞭當然 短信 避免 瞭太多 尷尬 許多...</td>\n",
       "      <td>0</td>\n",
       "    </tr>\n",
       "    <tr>\n",
       "      <th>3074</th>\n",
       "      <td>1</td>\n",
       "      <td>上網 包月卡 每月 隻 元 無限 上網 時長 流量 全國 漫遊 手機 信號 地方 上網 適 ...</td>\n",
       "      <td>1</td>\n",
       "    </tr>\n",
       "    <tr>\n",
       "      <th>10248</th>\n",
       "      <td>1</td>\n",
       "      <td>尊敬 先生 小姐 您好 感謝 抽 時間 查看 以下 信息 公司 一直 緻 力 研 發 生 産...</td>\n",
       "      <td>1</td>\n",
       "    </tr>\n",
       "    <tr>\n",
       "      <th>6473</th>\n",
       "      <td>0</td>\n",
       "      <td>次要 先 男 檢查 檢查 身體 彆 染上 病 知道 行走 江湖 安全 第一 女人 現在 將來...</td>\n",
       "      <td>0</td>\n",
       "    </tr>\n",
       "    <tr>\n",
       "      <th>11157</th>\n",
       "      <td>0</td>\n",
       "      <td>北京 中 研易明 科技 有限公司 傢 中國 中醫 研究院 技術 依托 擁有 自主 科研 開發...</td>\n",
       "      <td>1</td>\n",
       "    </tr>\n",
       "    <tr>\n",
       "      <th>3120</th>\n",
       "      <td>0</td>\n",
       "      <td>公司 負責人 經理 財務 您好 華隆源 實業 有限公司 廣州 東莞 市 分公司 我司 實力 ...</td>\n",
       "      <td>1</td>\n",
       "    </tr>\n",
       "    <tr>\n",
       "      <th>7836</th>\n",
       "      <td>0</td>\n",
       "      <td>看看 履 曆 發跡 很快 國企倒 瞭 機會 起爐 竈 已 經有 瞭高層 管理 的經 曆 劉軍...</td>\n",
       "      <td>0</td>\n",
       "    </tr>\n",
       "    <tr>\n",
       "      <th>2544</th>\n",
       "      <td>0</td>\n",
       "      <td>財務 公司 現有 發票 代開 如有 需要 請來 電聯 係 注全國統 一運輸 商品 銷售 廣告...</td>\n",
       "      <td>1</td>\n",
       "    </tr>\n",
       "    <tr>\n",
       "      <th>788</th>\n",
       "      <td>1</td>\n",
       "      <td>北京 道元 通商 標 代理 有限公司 磅 北京 道元 通商 標 代理 有限公司 北京 道元 ...</td>\n",
       "      <td>1</td>\n",
       "    </tr>\n",
       "    <tr>\n",
       "      <th>12124</th>\n",
       "      <td>0</td>\n",
       "      <td>公司 負責人 深鵬 稅務 代理 有限公司 成立 年 十多年 發展 不斷 壯大現 全國 大中城...</td>\n",
       "      <td>1</td>\n",
       "    </tr>\n",
       "  </tbody>\n",
       "</table>\n",
       "</div>"
      ],
      "text/plain": [
       "      label                                               text truth\n",
       "9099      0  這種 事情 太 復 雜我 問我媽 前 幾天 喜歡 錶 瞭當然 短信 避免 瞭太多 尷尬 許多...     0\n",
       "3074      1  上網 包月卡 每月 隻 元 無限 上網 時長 流量 全國 漫遊 手機 信號 地方 上網 適 ...     1\n",
       "10248     1  尊敬 先生 小姐 您好 感謝 抽 時間 查看 以下 信息 公司 一直 緻 力 研 發 生 産...     1\n",
       "6473      0  次要 先 男 檢查 檢查 身體 彆 染上 病 知道 行走 江湖 安全 第一 女人 現在 將來...     0\n",
       "11157     0  北京 中 研易明 科技 有限公司 傢 中國 中醫 研究院 技術 依托 擁有 自主 科研 開發...     1\n",
       "3120      0  公司 負責人 經理 財務 您好 華隆源 實業 有限公司 廣州 東莞 市 分公司 我司 實力 ...     1\n",
       "7836      0  看看 履 曆 發跡 很快 國企倒 瞭 機會 起爐 竈 已 經有 瞭高層 管理 的經 曆 劉軍...     0\n",
       "2544      0  財務 公司 現有 發票 代開 如有 需要 請來 電聯 係 注全國統 一運輸 商品 銷售 廣告...     1\n",
       "788       1  北京 道元 通商 標 代理 有限公司 磅 北京 道元 通商 標 代理 有限公司 北京 道元 ...     1\n",
       "12124     0  公司 負責人 深鵬 稅務 代理 有限公司 成立 年 十多年 發展 不斷 壯大現 全國 大中城...     1"
      ]
     },
     "execution_count": 75,
     "metadata": {},
     "output_type": "execute_result"
    }
   ],
   "source": [
    "all_data = pd.concat([positive_spam,unlabeled_df],axis=0, ignore_index=False)  #將ham lsit與spam list串起來\n",
    "all_data = all_data.sample(frac=1) #sample frac = 1 是把數據都打亂\n",
    "all_data.head(10)\n"
   ]
  },
  {
   "cell_type": "code",
   "execution_count": 76,
   "metadata": {},
   "outputs": [
    {
     "data": {
      "text/plain": [
       "(4005,)"
      ]
     },
     "execution_count": 76,
     "metadata": {},
     "output_type": "execute_result"
    }
   ],
   "source": [
    "# all_data.loc[positive_train[:]]\n",
    "all_data['truth'] = trainlabel_orig\n",
    "all_data['label'][all_data['label']==\"1\"].shape"
   ]
  },
  {
   "cell_type": "code",
   "execution_count": 77,
   "metadata": {},
   "outputs": [
    {
     "data": {
      "text/plain": [
       "(4005,)"
      ]
     },
     "execution_count": 77,
     "metadata": {},
     "output_type": "execute_result"
    }
   ],
   "source": [
    " all_data['label'][all_data['label'] == '1'].shape"
   ]
  },
  {
   "cell_type": "code",
   "execution_count": 275,
   "metadata": {},
   "outputs": [
    {
     "data": {
      "text/plain": [
       "Int64Index([ 4919,  9331,  2802,  7662, 10716, 10113,  9568,  3298, 13137,\n",
       "            10110,\n",
       "            ...\n",
       "            10085, 12169,  8052, 14073,  7547, 12851,  4365,  4978,  5370,\n",
       "            12062],\n",
       "           dtype='int64', length=400)"
      ]
     },
     "execution_count": 275,
     "metadata": {},
     "output_type": "execute_result"
    }
   ],
   "source": [
    "unlabeled_size = 400\n",
    "sp_index=[]\n",
    "sp_index = all_data['label'].loc[\n",
    "    np.random.choice(\n",
    "        all_data['label'][all_data['label'] == '1'].index, \n",
    "        replace = False, \n",
    "        size = unlabeled_size\n",
    "    )\n",
    "].index\n",
    "sp_index\n",
    "# all_data.loc[positive_train[:]]"
   ]
  },
  {
   "cell_type": "code",
   "execution_count": 276,
   "metadata": {},
   "outputs": [
    {
     "data": {
      "text/plain": [
       "(400,)"
      ]
     },
     "execution_count": 276,
     "metadata": {},
     "output_type": "execute_result"
    }
   ],
   "source": [
    "all_data['label'].loc[sp_index[:]] = 0 #SP\n",
    "all_data['label'].loc[sp_index[:]].shape"
   ]
  },
  {
   "cell_type": "markdown",
   "metadata": {},
   "source": [
    "# -------------------------------SP  上面"
   ]
  },
  {
   "cell_type": "code",
   "execution_count": 277,
   "metadata": {},
   "outputs": [],
   "source": [
    "def convert_Content(text, keyword_dict):\n",
    "    #判斷是否有此特徵\n",
    "    m = len(keyword_dict) #維度數量\n",
    "    res = np.int_(np.zeros(m)) #建置一個幾維度的向量\n",
    "    finds = text.split(\" \") #將文本內容切割(類似中文斷詞)\n",
    "    for find in finds:\n",
    "        try:\n",
    "            #若比對完有此特徵則特徵改為1\n",
    "            i = keyword_dict[find] \n",
    "            res[i]=1\n",
    "        except:\n",
    "            continue\n",
    "    return res\n",
    "def raw2feature(all_data,keyword_dict):\n",
    "    n_all_data = all_data.shape[0]\n",
    "    m = len(keyword_dict)\n",
    "    X_all_data = np.zeros((n_all_data,m));\n",
    "    Y_all_data = np.int_(all_data.label=='1')\n",
    "    for i in range(n_all_data):\n",
    "        X_all_data[i,:] = convert_Content(all_data.iloc[i].text, keyword_dict)\n",
    "    return [X_all_data,Y_all_data]\n",
    "     \n",
    "all_data_matrix=raw2feature(all_data,keyword_dict)"
   ]
  },
  {
   "cell_type": "code",
   "execution_count": 278,
   "metadata": {},
   "outputs": [
    {
     "data": {
      "text/plain": [
       "(3605,)"
      ]
     },
     "execution_count": 278,
     "metadata": {},
     "output_type": "execute_result"
    }
   ],
   "source": [
    "# positive_train  正樣本的index\n",
    "# unlabeled_train 未標記樣本的index\n",
    "# all_train 混合完的index\n",
    "all_data_matrix[1][all_data_matrix[1]==1].shape"
   ]
  },
  {
   "cell_type": "markdown",
   "metadata": {},
   "source": [
    "# 使用logistic regression計算他們的機率"
   ]
  },
  {
   "cell_type": "code",
   "execution_count": 279,
   "metadata": {},
   "outputs": [
    {
     "name": "stderr",
     "output_type": "stream",
     "text": [
      "C:\\Users\\zxc98\\Anaconda3\\lib\\site-packages\\sklearn\\linear_model\\logistic.py:433: FutureWarning: Default solver will be changed to 'lbfgs' in 0.22. Specify a solver to silence this warning.\n",
      "  FutureWarning)\n"
     ]
    }
   ],
   "source": [
    "# 使用一般的隨機森林算法\n",
    "from sklearn.linear_model import LogisticRegression\n",
    "\n",
    "logistic = LogisticRegression()\n",
    "\n",
    "logistic.fit(all_data_matrix[0], all_data_matrix[1])\n",
    "# 儲存次方法給定的分數\n",
    "results = pd.DataFrame({\n",
    "    'truth'      : all_data['truth'],   # 真實標籤\n",
    "    'label'      : all_data['label'],        # 預測標籤\n",
    "    'output_std' : logistic.predict_proba(all_data_matrix[0])[:,0],   # 隨機森林分數(求屬於標籤1的概率)\n",
    "}, columns = ['truth', 'label', 'output_std'])\n",
    "# print(results)"
   ]
  },
  {
   "cell_type": "markdown",
   "metadata": {},
   "source": []
  },
  {
   "cell_type": "code",
   "execution_count": null,
   "metadata": {},
   "outputs": [],
   "source": []
  },
  {
   "cell_type": "code",
   "execution_count": 280,
   "metadata": {},
   "outputs": [
    {
     "data": {
      "text/html": [
       "<div>\n",
       "<style scoped>\n",
       "    .dataframe tbody tr th:only-of-type {\n",
       "        vertical-align: middle;\n",
       "    }\n",
       "\n",
       "    .dataframe tbody tr th {\n",
       "        vertical-align: top;\n",
       "    }\n",
       "\n",
       "    .dataframe thead th {\n",
       "        text-align: right;\n",
       "    }\n",
       "</style>\n",
       "<table border=\"1\" class=\"dataframe\">\n",
       "  <thead>\n",
       "    <tr style=\"text-align: right;\">\n",
       "      <th></th>\n",
       "      <th>truth</th>\n",
       "      <th>label</th>\n",
       "      <th>output_std</th>\n",
       "    </tr>\n",
       "  </thead>\n",
       "  <tbody>\n",
       "    <tr>\n",
       "      <th>4919</th>\n",
       "      <td>1</td>\n",
       "      <td>0</td>\n",
       "      <td>0.890685</td>\n",
       "    </tr>\n",
       "    <tr>\n",
       "      <th>9331</th>\n",
       "      <td>1</td>\n",
       "      <td>0</td>\n",
       "      <td>0.288234</td>\n",
       "    </tr>\n",
       "    <tr>\n",
       "      <th>2802</th>\n",
       "      <td>1</td>\n",
       "      <td>0</td>\n",
       "      <td>0.472375</td>\n",
       "    </tr>\n",
       "    <tr>\n",
       "      <th>7662</th>\n",
       "      <td>1</td>\n",
       "      <td>0</td>\n",
       "      <td>0.547582</td>\n",
       "    </tr>\n",
       "    <tr>\n",
       "      <th>10716</th>\n",
       "      <td>1</td>\n",
       "      <td>0</td>\n",
       "      <td>0.466758</td>\n",
       "    </tr>\n",
       "  </tbody>\n",
       "</table>\n",
       "</div>"
      ],
      "text/plain": [
       "      truth label  output_std\n",
       "4919      1     0    0.890685\n",
       "9331      1     0    0.288234\n",
       "2802      1     0    0.472375\n",
       "7662      1     0    0.547582\n",
       "10716     1     0    0.466758"
      ]
     },
     "execution_count": 280,
     "metadata": {},
     "output_type": "execute_result"
    }
   ],
   "source": [
    "results.loc[sp_index[:]].head()\n"
   ]
  },
  {
   "cell_type": "code",
   "execution_count": 281,
   "metadata": {},
   "outputs": [
    {
     "data": {
      "image/png": "[encoded data removed]",
      "text/plain": [
       "<matplotlib.figure.Figure at 0x215c0f79550>"
      ]
     },
     "metadata": {},
     "output_type": "display_data"
    },
    {
     "name": "stdout",
     "output_type": "stream",
     "text": [
      "(205,)\n"
     ]
    }
   ],
   "source": [
    "from scipy import stats\n",
    "sp_data = results['output_std'].loc[sp_index[:]]\n",
    "sp_counts = len(results['output_std'].loc[sp_index[:]])\n",
    "sp_mean = results['output_std'].loc[sp_index[:]].mean()\n",
    "sp_std = results['output_std'].loc[sp_index[:]].std()\n",
    "# 绘制概率密度分布图\n",
    "x = np.arange(0, 1, 0.001)\n",
    "# PDF是概率密度函数\n",
    "y = stats.norm.pdf(x, loc=sp_mean, scale=sp_std)\n",
    "plt.plot(x, y)\n",
    "plt.hist(sp_data, bins=10, rwidth=0.9, normed=True)\n",
    "plt.show()\n",
    "print(results['output_std'].loc[sp_index[:]][results['output_std']<0.5].shape)"
   ]
  },
  {
   "cell_type": "code",
   "execution_count": null,
   "metadata": {},
   "outputs": [],
   "source": []
  },
  {
   "cell_type": "code",
   "execution_count": 282,
   "metadata": {},
   "outputs": [
    {
     "name": "stdout",
     "output_type": "stream",
     "text": [
      "(0.36766107342092813, 0.7298348160411623)\n",
      "0.8527298850574713\n",
      "(0.3600174987326765, 0.7374783907294138)\n",
      "0.8527298850574713\n",
      "(0.35202603951313916, 0.7454698499489512)\n",
      "0.8576388888888888\n",
      "(0.3436365479861676, 0.7538593414759228)\n",
      "0.8623304652180254\n",
      "(0.334787468778862, 0.7627084206832284)\n",
      "0.8669307511737089\n",
      "(0.32540199556482796, 0.7720938938972625)\n",
      "0.8736296296296296\n",
      "(0.3153824424354542, 0.7821134470266362)\n",
      "0.882529668018627\n",
      "(0.3046017236154732, 0.7928941658466171)\n",
      "0.8842041861165487\n",
      "(0.2928899369468896, 0.8046059525152007)\n",
      "0.8954810943744236\n",
      "(0.28001219984667497, 0.8174836896154154)\n",
      "0.9070935342121783\n",
      "(0.26562978498315387, 0.8318661044789365)\n",
      "0.9139612985766832\n"
     ]
    }
   ],
   "source": [
    "from scipy import stats\n",
    "ci = 0.68\n",
    "for i in range(11):\n",
    "    conf_intveral = stats.norm.interval(ci, loc=sp_mean, scale=sp_std) #數字為信賴區間\n",
    "    ci += 0.02\n",
    "    print(conf_intveral)\n",
    "    t=[]\n",
    "    t = sp_data[sp_data<conf_intveral[1]]\n",
    "    t = t[t>conf_intveral[0]]\n",
    "    RN = results\n",
    "    RN = RN[(~RN.index.isin(sp_index))] #去除U中的SP\n",
    "    RN_index = RN['output_std'][RN['output_std']>=max(t)].index\n",
    "    print(1-np.int_(RN['truth'].loc[RN_index[:]]).mean())\n",
    "    \n",
    "    \n",
    "# 函数曲线下68.268949%的面积在平均数左右的一个标准差范围内\n",
    "\n",
    "# 函数曲线下95.449974%的面积在平均数左右两个标准差的范围内\n",
    "\n",
    "# 函数曲线下99.730020%的面积在平均数左右三个标准差的范围内\n",
    "\n",
    "# 函数曲线下99.993666%的面积在平均数左右四个标准差的范围内"
   ]
  },
  {
   "cell_type": "code",
   "execution_count": 283,
   "metadata": {},
   "outputs": [
    {
     "data": {
      "text/plain": [
       "0.9393060545612129"
      ]
     },
     "execution_count": 283,
     "metadata": {},
     "output_type": "execute_result"
    }
   ],
   "source": [
    "max(sp_data)"
   ]
  },
  {
   "cell_type": "code",
   "execution_count": 284,
   "metadata": {},
   "outputs": [
    {
     "data": {
      "text/plain": [
       "0.9393060545612129"
      ]
     },
     "execution_count": 284,
     "metadata": {},
     "output_type": "execute_result"
    }
   ],
   "source": [
    "t = sp_data[sp_data<0.9680286807189155]\n",
    "t = t[t>0.538615192344655]\n",
    "max(t)"
   ]
  },
  {
   "cell_type": "code",
   "execution_count": null,
   "metadata": {},
   "outputs": [],
   "source": []
  },
  {
   "cell_type": "code",
   "execution_count": 285,
   "metadata": {},
   "outputs": [
    {
     "data": {
      "text/plain": [
       "0.9891944990176817"
      ]
     },
     "execution_count": 285,
     "metadata": {},
     "output_type": "execute_result"
    }
   ],
   "source": [
    "RN = results\n",
    "RN = RN[(~RN.index.isin(sp_index))] #去除U中的SP\n",
    "RN_index = RN['output_std'][RN['output_std']>=max(t)].index\n",
    "1-np.int_(RN['truth'].loc[RN_index[:]]).mean()"
   ]
  },
  {
   "cell_type": "code",
   "execution_count": 286,
   "metadata": {},
   "outputs": [
    {
     "data": {
      "text/plain": [
       "(3054,)"
      ]
     },
     "execution_count": 286,
     "metadata": {},
     "output_type": "execute_result"
    }
   ],
   "source": [
    "RN_index.shape"
   ]
  },
  {
   "cell_type": "markdown",
   "metadata": {},
   "source": [
    "# 下面是將test資料轉換為矩陣"
   ]
  },
  {
   "cell_type": "code",
   "execution_count": 287,
   "metadata": {},
   "outputs": [],
   "source": [
    "test_data = pd.DataFrame({\n",
    "    'text'      : test_set,   # 真實標籤\n",
    "    'label'      : testlabel,        # 預測標籤\n",
    "}, columns = ['text', 'label'])"
   ]
  },
  {
   "cell_type": "code",
   "execution_count": 288,
   "metadata": {},
   "outputs": [],
   "source": [
    "#將測試及轉為稀疏矩陣，是舊的TFIDF\n",
    "test_data_matrix = raw2feature(test_data,keyword_dict)"
   ]
  },
  {
   "cell_type": "code",
   "execution_count": 289,
   "metadata": {},
   "outputs": [
    {
     "name": "stdout",
     "output_type": "stream",
     "text": [
      "Testing Accuarcy: 78.62％ (sklearn.linear_model.logistic)\n"
     ]
    }
   ],
   "source": [
    "def test_func(test,testlabel,model):\n",
    "    Y_hat = model.predict(test)\n",
    "    n=np.size(testlabel)\n",
    "    print ('Testing Accuarcy: {:.2f}％ ({})'.format(sum(np.int_(Y_hat==testlabel))*100./n,model.__module__))\n",
    "# Test Model using testing data\n",
    "\n",
    "test_func(test_data_matrix[0],test_data_matrix[1],logistic)"
   ]
  },
  {
   "cell_type": "markdown",
   "metadata": {},
   "source": [
    "# 下面是提取RN後用P和RN重新訓練"
   ]
  },
  {
   "cell_type": "code",
   "execution_count": 290,
   "metadata": {},
   "outputs": [],
   "source": [
    "all_data.loc[positive_train]\n",
    "all_data.loc[RN_index]\n",
    "all_data['label'].loc[sp_index] = '1'\n",
    "new_all_data=[]\n",
    "new_all_data = pd.concat([all_data.loc[positive_train],all_data.loc[RN_index]])"
   ]
  },
  {
   "cell_type": "code",
   "execution_count": 291,
   "metadata": {},
   "outputs": [],
   "source": [
    "new_keyword_dict=generate_key_list(all_data, size_table, word_len_ignored) #TFIDF"
   ]
  },
  {
   "cell_type": "code",
   "execution_count": 292,
   "metadata": {},
   "outputs": [
    {
     "name": "stderr",
     "output_type": "stream",
     "text": [
      "C:\\Users\\zxc98\\Anaconda3\\lib\\site-packages\\sklearn\\linear_model\\logistic.py:433: FutureWarning: Default solver will be changed to 'lbfgs' in 0.22. Specify a solver to silence this warning.\n",
      "  FutureWarning)\n"
     ]
    },
    {
     "data": {
      "text/plain": [
       "LogisticRegression(C=1.0, class_weight=None, dual=False, fit_intercept=True,\n",
       "          intercept_scaling=1, max_iter=100, multi_class='warn',\n",
       "          n_jobs=None, penalty='l2', random_state=None, solver='warn',\n",
       "          tol=0.0001, verbose=0, warm_start=False)"
      ]
     },
     "execution_count": 292,
     "metadata": {},
     "output_type": "execute_result"
    }
   ],
   "source": [
    "new_all_data_matrix = raw2feature(new_all_data,keyword_dict)\n",
    "\n",
    "from sklearn.linear_model import LogisticRegression\n",
    "\n",
    "logisticpu = LogisticRegression()\n",
    "\n",
    "logisticpu.fit(new_all_data_matrix[0], new_all_data_matrix[1])"
   ]
  },
  {
   "cell_type": "code",
   "execution_count": 293,
   "metadata": {},
   "outputs": [
    {
     "name": "stdout",
     "output_type": "stream",
     "text": [
      "Testing Accuarcy: 86.48％ (sklearn.linear_model.logistic)\n"
     ]
    }
   ],
   "source": [
    "test_func(test_data_matrix[0],test_data_matrix[1],logisticpu)"
   ]
  },
  {
   "cell_type": "code",
   "execution_count": 235,
   "metadata": {},
   "outputs": [
    {
     "data": {
      "text/plain": [
       "(4005,)"
      ]
     },
     "execution_count": 235,
     "metadata": {},
     "output_type": "execute_result"
    }
   ],
   "source": [
    "all_data['label'][all_data['label']==\"1\"].shape"
   ]
  },
  {
   "cell_type": "code",
   "execution_count": 296,
   "metadata": {},
   "outputs": [
    {
     "data": {
      "image/png": "[encoded data removed]",
      "text/plain": [
       "<matplotlib.figure.Figure at 0x215c0a8cd30>"
      ]
     },
     "metadata": {},
     "output_type": "display_data"
    }
   ],
   "source": [
    "import matplotlib.pyplot as plt\n",
    "plt.rcParams['font.size'] = 16\n",
    "plt.rcParams['figure.figsize'] = 15, 8\n",
    "x = [400, 800, 1200, 1600,2000,2400,2800,3200]\n",
    "y_std = [0.7862, 0.6424, 0.5395, 0.5027,0.4901,0.4780,0.4735,0.4609]\n",
    "y_stdpu = [0.8648, 0.8374, 0.8383, 0.8266,0.8522,0.8733,0.8908,0.9438]\n",
    "plt.xlim(0, 4000)\n",
    "plt.ylim(0.3, 1)\n",
    "plt.plot(x, y_std, marker='', mec='b', mfc='w' ,lw = 5)\n",
    "plt.plot(x, y_stdpu, marker='', mec='b', mfc='w' ,lw = 5)\n",
    "plt.legend([\n",
    "    'supervised logistic', \n",
    "    'Spy-pu logistic'\n",
    "])  # 让图例生效\n",
    "# plt.xticks(x, names, rotation=45)\n",
    "plt.margins(0)\n",
    "plt.subplots_adjust(bottom=0.15)\n",
    "plt.xlabel(u\"Spy Positive Data\") #X轴标签\n",
    "plt.ylabel(\"Experiment Accuracy\") #Y轴标签\n",
    "plt.title(\"Performance of the two approaches\") #标题\n",
    "plt.savefig(\"classifier \")\n",
    "plt.grid()\n",
    "plt.show()"
   ]
  },
  {
   "cell_type": "code",
   "execution_count": null,
   "metadata": {},
   "outputs": [],
   "source": []
  },
  {
   "cell_type": "code",
   "execution_count": null,
   "metadata": {},
   "outputs": [],
   "source": []
  },
  {
   "cell_type": "code",
   "execution_count": null,
   "metadata": {},
   "outputs": [],
   "source": []
  }
 ],
 "metadata": {
  "kernelspec": {
   "display_name": "Python 3",
   "language": "python",
   "name": "python3"
  },
  "language_info": {
   "codemirror_mode": {
    "name": "ipython",
    "version": 3
   },
   "file_extension": ".py",
   "mimetype": "text/x-python",
   "name": "python",
   "nbconvert_exporter": "python",
   "pygments_lexer": "ipython3",
   "version": "3.6.4"
  }
 },
 "nbformat": 4,
 "nbformat_minor": 2
}
