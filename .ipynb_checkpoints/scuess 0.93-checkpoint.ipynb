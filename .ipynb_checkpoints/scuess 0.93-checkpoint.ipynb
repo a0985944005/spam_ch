{
 "cells": [
  {
   "cell_type": "code",
   "execution_count": 85,
   "metadata": {},
   "outputs": [],
   "source": [
    "import os\n",
    "for dir_name in os.listdir('./'):\n",
    "    if os.path.isdir(''):\n",
    "        f_out = open(''+'.txt','w')\n",
    "        for file_name in os.listdir(''):\n",
    "            f_out.write(open(os.path.join('',file_name),'r',encoding='utf-8').read()+'\\n')\n",
    "        f_out.close()"
   ]
  },
  {
   "cell_type": "code",
   "execution_count": 86,
   "metadata": {},
   "outputs": [
    {
     "ename": "SyntaxError",
     "evalue": "unexpected EOF while parsing (<ipython-input-86-90674bd17a6e>, line 1)",
     "output_type": "error",
     "traceback": [
      "\u001b[1;36m  File \u001b[1;32m\"<ipython-input-86-90674bd17a6e>\"\u001b[1;36m, line \u001b[1;32m1\u001b[0m\n\u001b[1;33m    with open('data/normal/'+fileName,'r',encoding='utf-8') as f:\u001b[0m\n\u001b[1;37m                                                                 ^\u001b[0m\n\u001b[1;31mSyntaxError\u001b[0m\u001b[1;31m:\u001b[0m unexpected EOF while parsing\n"
     ]
    }
   ],
   "source": [
    "with open('data/normal/'+fileName,'r',encoding='utf-8') as f:\n"
   ]
  },
  {
   "cell_type": "code",
   "execution_count": 91,
   "metadata": {},
   "outputs": [
    {
     "name": "stdout",
     "output_type": "stream",
     "text": [
      "你好，這隻是個測試\n"
     ]
    }
   ],
   "source": [
    "from hanziconv import HanziConv\n",
    "line='你好，这只是个测试'\n",
    "print(HanziConv.toTraditional(line))"
   ]
  },
  {
   "cell_type": "code",
   "execution_count": 96,
   "metadata": {},
   "outputs": [
    {
     "name": "stdout",
     "output_type": "stream",
     "text": [
      "\n",
      "\n",
      "\n",
      "\n",
      "\n",
      "\n",
      "\n",
      "\n",
      "\n",
      "\n",
      "\n",
      "\n",
      "\n",
      "\n",
      "\n",
      "\n",
      "\n",
      "\n",
      "\n",
      "\n",
      "\n",
      "\n",
      "\n",
      "\n",
      "\n",
      "會員注冊邀請書\n",
      "\n",
      "\n",
      "\n",
      "\n",
      "\n",
      "\n",
      "\n",
      "全國最低價域名空間大放送\n",
      "\n",
      "\n",
      "\n",
      "國際頂級域名注冊驚暴價元年元年連續注冊年以上\n",
      "\n",
      "國傢頂級域名元年元年連續注冊年以上\n",
      "\n",
      "推薦優惠套餐\n",
      "\n",
      "國際域名入門型虛擬主機\n",
      "個英文域名\n",
      "網站空間\n",
      "郵件空間個企業郵箱\n",
      "係統支持數據庫\n",
      "支持\n",
      "月訪問流量月\n",
      "僅售\n",
      "元年元年連續注冊年以上\n",
      "國際域名型虛擬主機\n",
      "個英文域名\n",
      "網站空間\n",
      "郵件空間個企業郵箱\n",
      "係統\n",
      "月訪問流量月\n",
      "僅售\n",
      "元年元年連續注冊年以上\n",
      "\n",
      "更多優惠套餐請訪問\n",
      "\n",
      "廣域互聯網絡中心誠徵代理\n",
      "\n",
      "本站為瞭開拓市場更好的服務用戶實現和大用戶的雙贏決定開展代理業務本站代理商分為高級會員和會員將享有不同程度的代理價格優惠更多詳情請訪問的站點新聞\n",
      "\n",
      "\n",
      "\n",
      "\n",
      "如有任何問題請及時聯係我們\n",
      "\n",
      "地址蘇州市東吳北路號蘇美中心樓座郵編\n",
      "電話傳真\n",
      "\n",
      "網址\n",
      "\n",
      "\n",
      "\n",
      "\n",
      "\n",
      "\n"
     ]
    }
   ],
   "source": [
    "#這個方法可以彈藥另外存成記事本且要編碼維UTF8\n",
    "from hanziconv import HanziConv\n",
    "with open('data/spam/'+'1.txt', 'r',encoding='utf-8') as f:\n",
    "            # 过滤掉非中文字符\n",
    "            for line in f.readlines():\n",
    "                pattern = re.compile('[^\\u4e00-\\u9fa5]')\n",
    "                line = pattern.sub(\"\", line)\n",
    "                data=line.strip()\n",
    "                print(HanziConv.toTraditional(line))\n",
    "                # 将邮件中出现的词保存到wordsList中\n",
    "               "
   ]
  },
  {
   "cell_type": "code",
   "execution_count": null,
   "metadata": {},
   "outputs": [],
   "source": []
  },
  {
   "cell_type": "code",
   "execution_count": null,
   "metadata": {},
   "outputs": [],
   "source": []
  }
 ],
 "metadata": {
  "kernelspec": {
   "display_name": "Python 3",
   "language": "python",
   "name": "python3"
  },
  "language_info": {
   "codemirror_mode": {
    "name": "ipython",
    "version": 3
   },
   "file_extension": ".py",
   "mimetype": "text/x-python",
   "name": "python",
   "nbconvert_exporter": "python",
   "pygments_lexer": "ipython3",
   "version": "3.6.4"
  }
 },
 "nbformat": 4,
 "nbformat_minor": 2
}
