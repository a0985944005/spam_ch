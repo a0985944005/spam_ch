{
 "cells": [
  {
   "cell_type": "markdown",
   "metadata": {},
   "source": [
    "# 載入一些套件與基本宣告"
   ]
  },
  {
   "cell_type": "code",
   "execution_count": 1,
   "metadata": {},
   "outputs": [
    {
     "name": "stdout",
     "output_type": "stream",
     "text": [
      "Populating the interactive namespace from numpy and matplotlib\n",
      "spam total： 7775\n",
      "ham total： 7063\n"
     ]
    }
   ],
   "source": [
    "%pylab inline\n",
    "import time\n",
    "import re\n",
    "import matplotlib.pyplot as plt\n",
    "import pandas as pd\n",
    "import string\n",
    "import codecs\n",
    "import os\n",
    "import jieba\n",
    "from sklearn.feature_extraction.text import CountVectorizer\n",
    "from wordcloud import WordCloud\n",
    "from sklearn import naive_bayes as bayes\n",
    "from sklearn.model_selection import train_test_split\n",
    "#簡轉繁\n",
    "from hanziconv import HanziConv\n",
    "\n",
    "#ham與spam的每封郵件list\n",
    "ham_text = []\n",
    "spam_text = []\n",
    "#ham與spam的數據集\n",
    "ham_data = []\n",
    "spam_data = []\n",
    "#取得目前工作目錄\n",
    "SaveDirectory = os.getcwd() \n",
    "#獲得文檔列表\n",
    "listham = os.listdir(SaveDirectory+'\\\\data\\\\normal')\n",
    "listspam = os.listdir(SaveDirectory+'\\\\data\\\\spam')\n",
    "#數據集數量\n",
    "\n",
    "print('spam total：',len(listspam))\n",
    "print('ham total：',len(listham))\n"
   ]
  },
  {
   "cell_type": "markdown",
   "metadata": {},
   "source": [
    "# 將ham文本資料轉成繁體並存成DATAFrame"
   ]
  },
  {
   "cell_type": "code",
   "execution_count": 2,
   "metadata": {},
   "outputs": [
    {
     "data": {
      "text/html": [
       "<div>\n",
       "<style scoped>\n",
       "    .dataframe tbody tr th:only-of-type {\n",
       "        vertical-align: middle;\n",
       "    }\n",
       "\n",
       "    .dataframe tbody tr th {\n",
       "        vertical-align: top;\n",
       "    }\n",
       "\n",
       "    .dataframe thead th {\n",
       "        text-align: right;\n",
       "    }\n",
       "</style>\n",
       "<table border=\"1\" class=\"dataframe\">\n",
       "  <thead>\n",
       "    <tr style=\"text-align: right;\">\n",
       "      <th></th>\n",
       "      <th>text</th>\n",
       "      <th>label</th>\n",
       "    </tr>\n",
       "  </thead>\n",
       "  <tbody>\n",
       "    <tr>\n",
       "      <th>0</th>\n",
       "      <td>這事兒還有續集 因為我姐她們買房子後來裝修的時候沒錢她婆婆他們就贊助瞭萬塊 這下一吵她婆婆就...</td>\n",
       "      <td>0</td>\n",
       "    </tr>\n",
       "    <tr>\n",
       "      <th>1</th>\n",
       "      <td>越發覺得這個姐夫不錯瞭 那萬還是趕緊還瞭吧 標題姐姐快要生孩子瞭很感慨 發信站水木社區站內 ...</td>\n",
       "      <td>0</td>\n",
       "    </tr>\n",
       "    <tr>\n",
       "      <th>2</th>\n",
       "      <td>或許某些農村吧 在一個當性彆勞動力富裕程度的地方還是可以理解的 標題姐姐快要生孩子瞭很感慨 ...</td>\n",
       "      <td>0</td>\n",
       "    </tr>\n",
       "    <tr>\n",
       "      <th>3</th>\n",
       "      <td>最近經常看到你說一些很武斷的話 所謂保胎確實是要躺在床上不能動的尤其是先兆流産有齣血的時候 ...</td>\n",
       "      <td>0</td>\n",
       "    </tr>\n",
       "    <tr>\n",
       "      <th>4</th>\n",
       "      <td>他們分手是說性格不閤 沒多久然後我們交往 還算比較愉快 當初因為他經常和聯係我曾跟他吵過多次...</td>\n",
       "      <td>0</td>\n",
       "    </tr>\n",
       "  </tbody>\n",
       "</table>\n",
       "</div>"
      ],
      "text/plain": [
       "                                                text label\n",
       "0  這事兒還有續集 因為我姐她們買房子後來裝修的時候沒錢她婆婆他們就贊助瞭萬塊 這下一吵她婆婆就...     0\n",
       "1  越發覺得這個姐夫不錯瞭 那萬還是趕緊還瞭吧 標題姐姐快要生孩子瞭很感慨 發信站水木社區站內 ...     0\n",
       "2  或許某些農村吧 在一個當性彆勞動力富裕程度的地方還是可以理解的 標題姐姐快要生孩子瞭很感慨 ...     0\n",
       "3  最近經常看到你說一些很武斷的話 所謂保胎確實是要躺在床上不能動的尤其是先兆流産有齣血的時候 ...     0\n",
       "4  他們分手是說性格不閤 沒多久然後我們交往 還算比較愉快 當初因為他經常和聯係我曾跟他吵過多次...     0"
      ]
     },
     "execution_count": 2,
     "metadata": {},
     "output_type": "execute_result"
    }
   ],
   "source": [
    "for fileName in listham:\n",
    "        with open('data/normal/'+fileName, 'r',encoding='gbk') as f:\n",
    "            #文本每一列儲存\n",
    "            text=[]\n",
    "            # 過濾非中文字符，正規化\n",
    "            for line in f.readlines():\n",
    "                pattern = re.compile('[^\\u4e00-\\u9fa5]') #正規化(去除非中文字符)\n",
    "                line = pattern.sub(\"\", line) #將其他字符取代為\"\"\n",
    "                content = line.strip().split() #去除一些空白.換行\n",
    "                text = text+content #儲存這個文本的內容\n",
    "            text = \" \".join(text) #將文本內容list加入全部文本的list\n",
    "            ham_text.append(HanziConv.toTraditional(text)) #簡轉繁\n",
    "ham_data = pd.DataFrame(ham_text,columns=['text']) #將list改成dataframe\n",
    "ham_data['label']='0' #將資料類別加上 0:ham 1:spam\n",
    "ham_data.head()\n"
   ]
  },
  {
   "cell_type": "markdown",
   "metadata": {},
   "source": [
    "# 將spam文本資料轉成繁體並存成DATAFrame"
   ]
  },
  {
   "cell_type": "code",
   "execution_count": 3,
   "metadata": {},
   "outputs": [
    {
     "data": {
      "text/html": [
       "<div>\n",
       "<style scoped>\n",
       "    .dataframe tbody tr th:only-of-type {\n",
       "        vertical-align: middle;\n",
       "    }\n",
       "\n",
       "    .dataframe tbody tr th {\n",
       "        vertical-align: top;\n",
       "    }\n",
       "\n",
       "    .dataframe thead th {\n",
       "        text-align: right;\n",
       "    }\n",
       "</style>\n",
       "<table border=\"1\" class=\"dataframe\">\n",
       "  <thead>\n",
       "    <tr style=\"text-align: right;\">\n",
       "      <th></th>\n",
       "      <th>text</th>\n",
       "      <th>label</th>\n",
       "    </tr>\n",
       "  </thead>\n",
       "  <tbody>\n",
       "    <tr>\n",
       "      <th>0</th>\n",
       "      <td>會員注冊邀請書 全國最低價域名空間大放送 國際頂級域名注冊驚暴價元年元年連續注冊年以上 國傢...</td>\n",
       "      <td>1</td>\n",
       "    </tr>\n",
       "    <tr>\n",
       "      <th>1</th>\n",
       "      <td>你好 以茶會友以茶聯誼喝茶就喝安溪鐵觀音 本廠是專業生産批發各等級鐵觀音茶葉的購買聯係 在綫...</td>\n",
       "      <td>1</td>\n",
       "    </tr>\n",
       "    <tr>\n",
       "      <th>2</th>\n",
       "      <td>尊敬的先生小姐 您好 首先感謝您抽時間查看以下信息 我公司一直緻力於研發生産銷售施工環氧樹脂...</td>\n",
       "      <td>1</td>\n",
       "    </tr>\n",
       "    <tr>\n",
       "      <th>3</th>\n",
       "      <td>先生 你好 批發麻醉藥催情藥墮胎藥避孕藥飲料型噴霧型香煙型揮發型等各類國際國內製藥企業推齣的...</td>\n",
       "      <td>1</td>\n",
       "    </tr>\n",
       "    <tr>\n",
       "      <th>4</th>\n",
       "      <td>貴公司負責人經理財務您好 我是深圳市創偉實業有限公司的我司實力雄厚有著良 好的社會關係也有部...</td>\n",
       "      <td>1</td>\n",
       "    </tr>\n",
       "  </tbody>\n",
       "</table>\n",
       "</div>"
      ],
      "text/plain": [
       "                                                text label\n",
       "0  會員注冊邀請書 全國最低價域名空間大放送 國際頂級域名注冊驚暴價元年元年連續注冊年以上 國傢...     1\n",
       "1  你好 以茶會友以茶聯誼喝茶就喝安溪鐵觀音 本廠是專業生産批發各等級鐵觀音茶葉的購買聯係 在綫...     1\n",
       "2  尊敬的先生小姐 您好 首先感謝您抽時間查看以下信息 我公司一直緻力於研發生産銷售施工環氧樹脂...     1\n",
       "3  先生 你好 批發麻醉藥催情藥墮胎藥避孕藥飲料型噴霧型香煙型揮發型等各類國際國內製藥企業推齣的...     1\n",
       "4  貴公司負責人經理財務您好 我是深圳市創偉實業有限公司的我司實力雄厚有著良 好的社會關係也有部...     1"
      ]
     },
     "execution_count": 3,
     "metadata": {},
     "output_type": "execute_result"
    }
   ],
   "source": [
    "for fileName in listspam:\n",
    "        with open('data/spam/'+fileName, 'r',encoding='gbk') as f:\n",
    "            text=[]\n",
    "            # 过滤掉非中文字符\n",
    "            for line in f.readlines():\n",
    "                pattern = re.compile('[^\\u4e00-\\u9fa5]')\n",
    "                line = pattern.sub(\"\", line)\n",
    "                content = line.strip().split()\n",
    "                text = text+content\n",
    "            text = \" \".join(text)\n",
    "            spam_text.append(HanziConv.toTraditional(text))\n",
    "spam_data = pd.DataFrame(spam_text,columns=['text'])\n",
    "spam_data['label']='1'\n",
    "spam_data.head()"
   ]
  },
  {
   "cell_type": "markdown",
   "metadata": {},
   "source": [
    "# 將ham與spam組合並打亂"
   ]
  },
  {
   "cell_type": "code",
   "execution_count": 4,
   "metadata": {},
   "outputs": [
    {
     "name": "stdout",
     "output_type": "stream",
     "text": [
      "data shape： (14838, 2)\n",
      "spams in rows： 7775\n",
      "hams in rows： 7063\n"
     ]
    },
    {
     "data": {
      "text/html": [
       "<div>\n",
       "<style scoped>\n",
       "    .dataframe tbody tr th:only-of-type {\n",
       "        vertical-align: middle;\n",
       "    }\n",
       "\n",
       "    .dataframe tbody tr th {\n",
       "        vertical-align: top;\n",
       "    }\n",
       "\n",
       "    .dataframe thead th {\n",
       "        text-align: right;\n",
       "    }\n",
       "</style>\n",
       "<table border=\"1\" class=\"dataframe\">\n",
       "  <thead>\n",
       "    <tr style=\"text-align: right;\">\n",
       "      <th></th>\n",
       "      <th>text</th>\n",
       "      <th>label</th>\n",
       "    </tr>\n",
       "  </thead>\n",
       "  <tbody>\n",
       "    <tr>\n",
       "      <th>0</th>\n",
       "      <td>最近比較疲憊 所以久未嘗到被虐的滋味瞭 標題徵人告訴我如何盡快擺脫單身生活 發信站水木社區站...</td>\n",
       "      <td>0</td>\n",
       "    </tr>\n",
       "    <tr>\n",
       "      <th>1</th>\n",
       "      <td>貴公司負責人經理財務您好 我公司是深圳市華源實業有限公司本公司實力雄厚有著良好的社會關係 因...</td>\n",
       "      <td>1</td>\n",
       "    </tr>\n",
       "    <tr>\n",
       "      <th>2</th>\n",
       "      <td>尊敬的經理 財務經理 您們好 深圳市貝利實業有限公司我公司聯閤國內設有分公司現有發票可優惠 ...</td>\n",
       "      <td>1</td>\n",
       "    </tr>\n",
       "    <tr>\n",
       "      <th>3</th>\n",
       "      <td>西部體育網祝你更健康為你提供數百個在址歡迎惠顧 中資源公司提供域名先注冊後付款主機先開通後收...</td>\n",
       "      <td>1</td>\n",
       "    </tr>\n",
       "    <tr>\n",
       "      <th>4</th>\n",
       "      <td>尊敬的公司領負責人經理財務您們好 我是深圳市佰成實業有限公司的我司實力雄厚有著艮好的社 會關...</td>\n",
       "      <td>1</td>\n",
       "    </tr>\n",
       "    <tr>\n",
       "      <th>5</th>\n",
       "      <td>邵筱昕 這種人殺無赦 什麼人嗎 把你當作什麼人瞭 她是在輕視你 最看不起這種女人 月中旬確認...</td>\n",
       "      <td>0</td>\n",
       "    </tr>\n",
       "  </tbody>\n",
       "</table>\n",
       "</div>"
      ],
      "text/plain": [
       "                                                text label\n",
       "0  最近比較疲憊 所以久未嘗到被虐的滋味瞭 標題徵人告訴我如何盡快擺脫單身生活 發信站水木社區站...     0\n",
       "1  貴公司負責人經理財務您好 我公司是深圳市華源實業有限公司本公司實力雄厚有著良好的社會關係 因...     1\n",
       "2  尊敬的經理 財務經理 您們好 深圳市貝利實業有限公司我公司聯閤國內設有分公司現有發票可優惠 ...     1\n",
       "3  西部體育網祝你更健康為你提供數百個在址歡迎惠顧 中資源公司提供域名先注冊後付款主機先開通後收...     1\n",
       "4  尊敬的公司領負責人經理財務您們好 我是深圳市佰成實業有限公司的我司實力雄厚有著艮好的社 會關...     1\n",
       "5  邵筱昕 這種人殺無赦 什麼人嗎 把你當作什麼人瞭 她是在輕視你 最看不起這種女人 月中旬確認...     0"
      ]
     },
     "execution_count": 4,
     "metadata": {},
     "output_type": "execute_result"
    }
   ],
   "source": [
    "all_data = pd.concat([spam_data,ham_data],axis=0, ignore_index=True)  #將ham lsit與spam list串起來\n",
    "all_data = all_data.sample(frac=1).reset_index(drop=True) #sample frac = 1 是把數據都打亂 resr_index是把index也重設\n",
    "print('data shape：',all_data.shape)\n",
    "print('spams in rows：',all_data.loc[all_data['label']==\"1\"].shape[0])\n",
    "print('hams in rows：',all_data.loc[all_data['label']==\"0\"].shape[0])\n",
    "all_data.head(6)"
   ]
  },
  {
   "cell_type": "markdown",
   "metadata": {},
   "source": [
    "# 載入停用詞"
   ]
  },
  {
   "cell_type": "code",
   "execution_count": 5,
   "metadata": {},
   "outputs": [],
   "source": [
    "#載入 停用詞 (stopwords) 自動過濾掉某些字或詞\n",
    "stopwords = codecs.open(os.path.join(SaveDirectory+'\\data', 'stopwords_tr.txt'), 'r', 'utf-8').read().split('\\r\\n')"
   ]
  },
  {
   "cell_type": "markdown",
   "metadata": {},
   "source": [
    "# 將文本利用Jieba斷詞、過濾停用詞"
   ]
  },
  {
   "cell_type": "code",
   "execution_count": 6,
   "metadata": {},
   "outputs": [
    {
     "name": "stderr",
     "output_type": "stream",
     "text": [
      "Building prefix dict from the default dictionary ...\n",
      "Loading model from cache C:\\Users\\zxc98\\AppData\\Local\\Temp\\jieba.cache\n",
      "Loading model cost 0.626 seconds.\n",
      "Prefix dict has been built succesfully.\n"
     ]
    },
    {
     "data": {
      "text/html": [
       "<div>\n",
       "<style scoped>\n",
       "    .dataframe tbody tr th:only-of-type {\n",
       "        vertical-align: middle;\n",
       "    }\n",
       "\n",
       "    .dataframe tbody tr th {\n",
       "        vertical-align: top;\n",
       "    }\n",
       "\n",
       "    .dataframe thead th {\n",
       "        text-align: right;\n",
       "    }\n",
       "</style>\n",
       "<table border=\"1\" class=\"dataframe\">\n",
       "  <thead>\n",
       "    <tr style=\"text-align: right;\">\n",
       "      <th></th>\n",
       "      <th>text</th>\n",
       "      <th>label</th>\n",
       "    </tr>\n",
       "  </thead>\n",
       "  <tbody>\n",
       "    <tr>\n",
       "      <th>0</th>\n",
       "      <td>最近 比較 疲憊 久 未嘗到 虐 滋味 瞭 標題 徵人 告訴 擺脫 單身 生活 發信 站 社...</td>\n",
       "      <td>0</td>\n",
       "    </tr>\n",
       "    <tr>\n",
       "      <th>1</th>\n",
       "      <td>公司 負責人 經理 財務 您好 公司 華源 實業 有限公司 公司 實力 雄厚 有著 良好 社...</td>\n",
       "      <td>1</td>\n",
       "    </tr>\n",
       "    <tr>\n",
       "      <th>2</th>\n",
       "      <td>尊敬 經理 財務 經理 好 貝利 實業 有限公司 公司 聯 閤 國內 設有 分公司 現有 發...</td>\n",
       "      <td>1</td>\n",
       "    </tr>\n",
       "    <tr>\n",
       "      <th>3</th>\n",
       "      <td>西部 體育 網祝 健康 提供 數百個 址 歡迎惠顧 中資源 公司 提供 域名 先注冊 後 付...</td>\n",
       "      <td>1</td>\n",
       "    </tr>\n",
       "    <tr>\n",
       "      <th>4</th>\n",
       "      <td>尊敬 公司 領負 責人 經理 財務 好 佰成 實業 有限公司 我司 實力 雄厚 著艮好 社 ...</td>\n",
       "      <td>1</td>\n",
       "    </tr>\n",
       "    <tr>\n",
       "      <th>5</th>\n",
       "      <td>邵筱昕 這種 人 殺 無 赦 人 當作 人 瞭 輕視 最 看不起 這種 女人 月 中旬 確認...</td>\n",
       "      <td>0</td>\n",
       "    </tr>\n",
       "  </tbody>\n",
       "</table>\n",
       "</div>"
      ],
      "text/plain": [
       "                                                text label\n",
       "0  最近 比較 疲憊 久 未嘗到 虐 滋味 瞭 標題 徵人 告訴 擺脫 單身 生活 發信 站 社...     0\n",
       "1  公司 負責人 經理 財務 您好 公司 華源 實業 有限公司 公司 實力 雄厚 有著 良好 社...     1\n",
       "2  尊敬 經理 財務 經理 好 貝利 實業 有限公司 公司 聯 閤 國內 設有 分公司 現有 發...     1\n",
       "3  西部 體育 網祝 健康 提供 數百個 址 歡迎惠顧 中資源 公司 提供 域名 先注冊 後 付...     1\n",
       "4  尊敬 公司 領負 責人 經理 財務 好 佰成 實業 有限公司 我司 實力 雄厚 著艮好 社 ...     1\n",
       "5  邵筱昕 這種 人 殺 無 赦 人 當作 人 瞭 輕視 最 看不起 這種 女人 月 中旬 確認...     0"
      ]
     },
     "execution_count": 6,
     "metadata": {},
     "output_type": "execute_result"
    }
   ],
   "source": [
    "processed_texts = []\n",
    "for text in all_data[\"text\"]:\n",
    "    words = []\n",
    "    seg_list = jieba.cut(text) #利用Jieba斷詞\n",
    "    for seg in seg_list: \n",
    "        # isalpha()檢測詞是否由字符組成，且不在停用詞的list中\n",
    "        if (seg.isalpha()) & (seg not in stopwords):\n",
    "            words.append(seg)\n",
    "    sentence = \" \".join(words)\n",
    "    processed_texts.append(sentence)\n",
    "all_data[\"text\"] = processed_texts #利用過濾且斷好的詞取代文本\n",
    "all_data.head(6)"
   ]
  },
  {
   "cell_type": "markdown",
   "metadata": {},
   "source": [
    "# 3. 計算HAM和SPAM 的 TF-IDF差異 DIFF\n",
    "## 值越大的代表他在SPAM的可能性更大\n",
    "「size_table」: 要選多少個重要的「詞」出來，等於決定特徵向量的維度數。Default:我設成200。 「ignore」: 字少於幾個以下就不要算"
   ]
  },
  {
   "cell_type": "code",
   "execution_count": 7,
   "metadata": {},
   "outputs": [],
   "source": [
    "import re\n",
    "def generate_key_list(all_data, size_table=200,ignore=2):\n",
    "    dict_spam_raw = dict()\n",
    "    dict_genuine_raw = dict()\n",
    "    dict_IDF = dict()\n",
    "\n",
    "    # 去除字母外的所有內容.\n",
    "    for i in range(all_data.shape[0]):\n",
    "        finds = all_data.iloc[i].text.split(\" \")\n",
    "        if all_data.iloc[i].label == '1':\n",
    "            for find in finds:\n",
    "                if len(find)<ignore: continue\n",
    "                try:\n",
    "                    dict_spam_raw[find] = dict_spam_raw[find] + 1\n",
    "                except:\t\n",
    "                    dict_spam_raw[find] = dict_spam_raw.get(find,1) #若是新的文字因為後面get找不到這個索引會返回逗點後面的值\n",
    "                    dict_genuine_raw[find] = dict_genuine_raw.get(find,0)\n",
    "        else:\n",
    "            for find in finds:\n",
    "                if len(find)<ignore: continue\n",
    "                try:\n",
    "                    dict_genuine_raw[find] = dict_genuine_raw[find] + 1\n",
    "                except:\t\n",
    "                    dict_genuine_raw[find] = dict_genuine_raw.get(find,1)\n",
    "                    dict_spam_raw[find] = dict_spam_raw.get(find,0)\n",
    "\n",
    "        word_set = set()\n",
    "        for find in finds:\n",
    "            if not(find in word_set):\n",
    "                if len(find)<ignore: continue\n",
    "                try:\n",
    "                    dict_IDF[find] = dict_IDF[find] + 1\n",
    "                except:\t\n",
    "                    dict_IDF[find] = dict_IDF.get(find,1)\n",
    "            word_set.add(find)\n",
    "    word_df = pd.DataFrame(list(zip(dict_genuine_raw.keys(),dict_genuine_raw.values(),dict_spam_raw.values(),dict_IDF.values())))\n",
    "    word_df.columns = ['keyword','genuine','spam','IDF']\n",
    "    word_df['genuine'] = word_df['genuine'].astype('float')/all_data[all_data['label']=='0'].shape[0]\n",
    "    word_df['spam'] = word_df['spam'].astype('float')/all_data[all_data['label']=='1'].shape[0]\n",
    "    word_df['IDF'] = np.log10(word_df.shape[0]/word_df['IDF'].astype('float'))\n",
    "    word_df['genuine_IDF'] = word_df['genuine']*word_df['IDF']\n",
    "    word_df['spam_IDF'] = word_df['spam']*word_df['IDF']\n",
    "    word_df['diff']=word_df['spam_IDF']-word_df['genuine_IDF']\n",
    "    selected_spam_key = word_df.sort_values('diff',ascending=False)  \n",
    "    keyword_dict = dict()\n",
    "    i = 0\n",
    "    for word in selected_spam_key.head(size_table).keyword:\n",
    "        keyword_dict.update({word.strip():i})\n",
    "        i+=1\n",
    "    return keyword_dict   \n",
    "# build a tabu list based on the training data\n",
    "size_table = 200               # 多少特徵維度去分類SPAM\n",
    "word_len_ignored = 2            # 忽略那些比這個還要小的字詞\n",
    "keyword_dict=generate_key_list(all_data, size_table, word_len_ignored)"
   ]
  },
  {
   "cell_type": "code",
   "execution_count": null,
   "metadata": {},
   "outputs": [],
   "source": []
  },
  {
   "cell_type": "code",
   "execution_count": 8,
   "metadata": {},
   "outputs": [
    {
     "name": "stdout",
     "output_type": "stream",
     "text": [
      "公司:0\n",
      "發票:1\n",
      "有限公司:2\n",
      "實業:3\n",
      "我司:4\n",
      "每月:5\n",
      "左右:6\n",
      "貴司:7\n",
      "銷售:8\n",
      "您好:9\n",
      "額度:10\n",
      "信息:11\n",
      "廣告:12\n",
      "增值:13\n",
      "優惠:14\n",
      "經理:15\n",
      "代理:16\n",
      "財務:17\n",
      "負責人:18\n",
      "運輸:19\n",
      "商祺:20\n",
      "順祝:21\n",
      "數量:22\n",
      "進項:23\n",
      "點數:24\n",
      "鄭重:25\n",
      "詳情:26\n",
      "網站:27\n",
      "大小:28\n",
      "分公司:29\n",
      "服務:30\n",
      "承諾:31\n",
      "優惠代開:32\n",
      "電話:33\n",
      "所用:34\n",
      "普通:35\n",
      "完成:36\n",
      "商品:37\n",
      "抵扣:38\n",
      "真票:39\n",
      "企業:40\n",
      "郵箱:41\n",
      "雄厚:42\n",
      "有效:43\n",
      "直接:44\n",
      "一部分:45\n",
      "可上:46\n",
      "實力:47\n",
      "多現:48\n",
      "郵件:49\n",
      "閤作:50\n",
      "社會關:51\n",
      "洽商:52\n",
      "廣州:53\n",
      "業務:54\n",
      "稅務局:55\n",
      "地址:56\n",
      "商討:57\n",
      "永久:58\n",
      "如須:59\n",
      "地稅:60\n",
      "付款:61\n",
      "稅電腦:62\n",
      "疑慮:63\n",
      "普通商品:64\n",
      "一步:65\n",
      "歡迎:66\n",
      "國稅:67\n",
      "客戶:68\n",
      "有著:69\n",
      "核對:70\n",
      "如貴司:71\n",
      "手機:72\n",
      "網查證:73\n",
      "現有:74\n",
      "良好:75\n",
      "低還:76\n",
      "東莞:77\n",
      "免費:78\n",
      "擔心:79\n",
      "數較:80\n",
      "作點:81\n",
      "管理:82\n",
      "銷售稅:83\n",
      "電小時:84\n",
      "提供:85\n",
      "外代:86\n",
      "注冊:87\n",
      "海關:88\n",
      "軟件:89\n",
      "繳款:90\n",
      "機會:91\n",
      "代開:92\n",
      "網絡:93\n",
      "電腦:94\n",
      "專用:95\n",
      "搜索:96\n",
      "尊敬:97\n",
      "能夠:98\n",
      "建築:99\n",
      "查詢:100\n",
      "全國:101\n",
      "先生:102\n",
      "一次:103\n",
      "售額度:104\n",
      "稅務:105\n",
      "資料:106\n",
      "金利:107\n",
      "成立:108\n",
      "嘉實業:109\n",
      "傳真:110\n",
      "中心:111\n",
      "票據:112\n",
      "使用:113\n",
      "多年:114\n",
      "支持:115\n",
      "功能:116\n",
      "各地:117\n",
      "部分:118\n",
      "名稱:119\n",
      "電子:120\n",
      "形象:121\n",
      "地坪:122\n",
      "所開:123\n",
      "發布:124\n",
      "最新:125\n",
      "網址:126\n",
      "群發:127\n",
      "你好:128\n",
      "電腦版:129\n",
      "希望:130\n",
      "代辦:131\n",
      "設計:132\n",
      "牢固:133\n",
      "建築安裝:134\n",
      "樹立:135\n",
      "以誠信:136\n",
      "服務業:137\n",
      "州市:138\n",
      "服務廣告:139\n",
      "請電:140\n",
      "來電:141\n",
      "單據:142\n",
      "進倉:143\n",
      "價格:144\n",
      "設備:145\n",
      "貿易:146\n",
      "核心思想:147\n",
      "稅率:148\n",
      "堅持:149\n",
      "設有:150\n",
      "優惠代:151\n",
      "印刷:152\n",
      "如有:153\n",
      "局驗證:154\n",
      "統計:155\n",
      "下載:156\n",
      "會員:157\n",
      "郵址:158\n",
      "防爆:159\n",
      "租賃業:160\n",
      "需要:161\n",
      "華隆源:162\n",
      "營銷:163\n",
      "謝謝:164\n",
      "刪除:165\n",
      "地區:166\n",
      "國內:167\n",
      "各類:168\n",
      "稅額:169\n",
      "打擾:170\n",
      "發送:171\n",
      "域名:172\n",
      "精美:173\n",
      "稅發票:174\n",
      "名錄:175\n",
      "開還:176\n",
      "點擊:177\n",
      "內河:178\n",
      "即可:179\n",
      "公路:180\n",
      "驗證:181\n",
      "統一銷售:182\n",
      "口業務:183\n",
      "自動:184\n",
      "服務行業:185\n",
      "源盛:186\n",
      "網查詢:187\n",
      "衡量:188\n",
      "用戶:189\n",
      "稅點:190\n",
      "神奇:191\n",
      "建築安裝定:192\n",
      "用品:193\n",
      "輸入:194\n",
      "因全國:195\n",
      "興隆:196\n",
      "額租賃:197\n",
      "國際運:198\n",
      "輸服務:199\n"
     ]
    }
   ],
   "source": [
    "#排序越前面的代表出現在SPAM的機率越大\n",
    "for key,value in keyword_dict.items():\n",
    "    print('{key}:{value}'.format(key = key, value = value))"
   ]
  },
  {
   "cell_type": "markdown",
   "metadata": {},
   "source": [
    "# 將原本斷詞好的數據轉用TFIDF所過濾出來的詞轉換成稀疏矩陣"
   ]
  },
  {
   "cell_type": "code",
   "execution_count": 9,
   "metadata": {},
   "outputs": [],
   "source": [
    "def convert_Content(text, keyword_dict):\n",
    "    #判斷是否有此特徵\n",
    "    m = len(keyword_dict) #維度數量\n",
    "    res = np.int_(np.zeros(m)) #建置一個幾維度的向量\n",
    "    finds = text.split(\" \") #將文本內容切割(類似中文斷詞)\n",
    "    for find in finds:\n",
    "        try:\n",
    "            #若比對完有此特徵則特徵改為1\n",
    "            i = keyword_dict[find] \n",
    "            res[i]=1\n",
    "        except:\n",
    "            continue\n",
    "    return res\n",
    "def raw2feature(all_data,keyword_dict):\n",
    "    n_all_data = all_data.shape[0]\n",
    "    m = len(keyword_dict)\n",
    "    X_all_data = np.zeros((n_all_data,m));\n",
    "    Y_all_data = np.int_(all_data.label=='1')\n",
    "    for i in range(n_all_data):\n",
    "        X_all_data[i,:] = convert_Content(all_data.iloc[i].text, keyword_dict)\n",
    "    return [X_all_data,Y_all_data]\n",
    "     \n",
    "all_data_matrix=raw2feature(all_data,keyword_dict)\n"
   ]
  },
  {
   "cell_type": "markdown",
   "metadata": {},
   "source": [
    "# 利用交叉驗證方式將數據切成訓練集與測試集"
   ]
  },
  {
   "cell_type": "code",
   "execution_count": 10,
   "metadata": {},
   "outputs": [],
   "source": [
    "#traindate & testdata\n",
    "train_set, test_set, trainlabel, testlabel = train_test_split(all_data_matrix[0], all_data_matrix[1], test_size = 0.15)"
   ]
  },
  {
   "cell_type": "code",
   "execution_count": 11,
   "metadata": {},
   "outputs": [
    {
     "name": "stdout",
     "output_type": "stream",
     "text": [
      "train:12612\n",
      "test:2226\n",
      "6603\n",
      "1172\n"
     ]
    }
   ],
   "source": [
    "print(\"train:\"+str(len(train_set)))\n",
    "print(\"test:\"+str(len(test_set)))\n",
    "print(sum(trainlabel))\n",
    "print(sum(testlabel))"
   ]
  },
  {
   "cell_type": "code",
   "execution_count": 12,
   "metadata": {},
   "outputs": [
    {
     "name": "stdout",
     "output_type": "stream",
     "text": [
      "Training Accuarcy NBclassifier : 90.15％\n",
      "Training Accuarcy RF: 97.60％\n"
     ]
    }
   ],
   "source": [
    "from sklearn.ensemble import RandomForestClassifier\n",
    "from sklearn.naive_bayes import GaussianNB\n",
    "def learn(train,trainlabel):\n",
    "    model_NB = GaussianNB(priors=None)\n",
    "    model_NB.fit(train_set, trainlabel)\n",
    "    Y_hat_NB = model_NB.predict(train_set)\n",
    "\n",
    "    model_RF = RandomForestClassifier(n_estimators=200, max_depth=None,\\\n",
    "                                 min_samples_split=2, random_state=0)\n",
    "    model_RF.fit(train_set, trainlabel)\n",
    "    Y_hat_RF = model_RF.predict(train_set)\n",
    "    \n",
    "    n=np.size(trainlabel)\n",
    "    print('Training Accuarcy NBclassifier : {:.2f}％'.format(sum(np.int_(Y_hat_NB==trainlabel))*100./n))\n",
    "    print('Training Accuarcy RF: {:.2f}％'.format(sum(np.int_(Y_hat_RF==trainlabel))*100./n))\n",
    "    return model_NB,model_RF\n",
    "# train the Random Forest and the Naive Bayes Model using training data\n",
    "model_NB,model_RF=learn(train_set,trainlabel)"
   ]
  },
  {
   "cell_type": "code",
   "execution_count": 13,
   "metadata": {
    "scrolled": true
   },
   "outputs": [
    {
     "name": "stdout",
     "output_type": "stream",
     "text": [
      "Testing Accuarcy: 89.58％ (sklearn.naive_bayes)\n",
      "Testing Accuarcy: 96.14％ (sklearn.ensemble.forest)\n"
     ]
    }
   ],
   "source": [
    "def test_func(test,testlabel,model):\n",
    "    Y_hat = model.predict(test)\n",
    "    n=np.size(testlabel)\n",
    "    print ('Testing Accuarcy: {:.2f}％ ({})'.format(sum(np.int_(Y_hat==testlabel))*100./n,model.__module__))\n",
    "# Test Model using testing data\n",
    "test_func(test_set,testlabel,model_NB)\n",
    "test_func(test_set,testlabel,model_RF)\n"
   ]
  },
  {
   "cell_type": "code",
   "execution_count": 14,
   "metadata": {
    "scrolled": true
   },
   "outputs": [
    {
     "data": {
      "image/png": "[encoded data removed]",
      "text/plain": [
       "<matplotlib.figure.Figure at 0x160042d45f8>"
      ]
     },
     "metadata": {},
     "output_type": "display_data"
    }
   ],
   "source": [
    "import matplotlib.pyplot as plt\n",
    "\n",
    "x = [10386, 11128, 11870, 12612,13354]\n",
    "y = [0.8949, 0.8986, 0.8962, 0.9106,0.9329]\n",
    "y1 = [0.9391, 0.9496, 0.9626, 0.9668,0.9636]\n",
    "plt.xlim(10000, 14000)\n",
    "plt.ylim(0.8, 0.99)\n",
    "plt.plot(x, y, marker='.', mec='b', mfc='w' )\n",
    "plt.plot(x, y1, marker='.', mec='b', mfc='w' )\n",
    "plt.legend([\n",
    "    'NB classifier', \n",
    "    'RF classifier'\n",
    "])  # 让图例生效\n",
    "# plt.xticks(x, names, rotation=45)\n",
    "plt.margins(0)\n",
    "plt.subplots_adjust(bottom=0.15)\n",
    "plt.xlabel(u\"Train data\") #X轴标签\n",
    "plt.ylabel(\"Accuracy\") #Y轴标签\n",
    "plt.title(\"Performance of the two approaches\") #标题\n",
    "plt.savefig(\"classifier \")\n",
    "plt.show()"
   ]
  },
  {
   "cell_type": "markdown",
   "metadata": {},
   "source": [
    "# 下面是測試PU"
   ]
  },
  {
   "cell_type": "code",
   "execution_count": 15,
   "metadata": {},
   "outputs": [],
   "source": [
    "import pandas as pd #數據處理\n",
    "import numpy as np  #隨機取數\n",
    "import matplotlib.pyplot as plt   #繪圖\n",
    "#把繪圖套入ipython中的魔法函數%\n",
    "%matplotlib inline  \n",
    "plt.rcParams['figure.figsize'] = 7,7   # 圖片大小\n",
    "plt.rcParams['font.size'] = 14         # 圖片文字大小"
   ]
  },
  {
   "cell_type": "markdown",
   "metadata": {},
   "source": [
    "## 載入上面數據集"
   ]
  },
  {
   "cell_type": "code",
   "execution_count": 16,
   "metadata": {},
   "outputs": [
    {
     "data": {
      "text/plain": [
       "6603"
      ]
     },
     "execution_count": 16,
     "metadata": {},
     "output_type": "execute_result"
    }
   ],
   "source": [
    "trainlabel_ = trainlabel.tolist()\n",
    "trainlabel_ = pd.Series(trainlabel_)\n",
    "train_set_ = train_set.tolist()\n",
    "train_set_ = pd.DataFrame(train_set_)\n",
    "sum(trainlabel_)"
   ]
  },
  {
   "cell_type": "markdown",
   "metadata": {},
   "source": [
    "## 隱藏9成的數據集"
   ]
  },
  {
   "cell_type": "code",
   "execution_count": 17,
   "metadata": {},
   "outputs": [],
   "source": [
    "# 保留原本的標籤，之後比對使用\n",
    "trainlabel_orig = trainlabel.copy()\n",
    "\n",
    "# 取消一些標記的數據\n",
    "hidden_size = 5936\n",
    "#loc可以選擇數據(把上面數量的POSTIVE DATA隱藏為UNLABELED DATA)\n",
    "trainlabel_.loc[\n",
    "    np.random.choice(\n",
    "        trainlabel_[trainlabel_ == 1].index, \n",
    "        replace = False, \n",
    "        size = hidden_size\n",
    "    )\n",
    "] = 0"
   ]
  },
  {
   "cell_type": "markdown",
   "metadata": {},
   "source": [
    "## 使用基本的監督式隨機森林法來計算概率"
   ]
  },
  {
   "cell_type": "code",
   "execution_count": 18,
   "metadata": {},
   "outputs": [],
   "source": [
    "# 使用一般的隨機森林算法\n",
    "from sklearn.ensemble import RandomForestClassifier\n",
    "rf = RandomForestClassifier(\n",
    "    n_estimators = 1000,  # 使用1000顆決策樹\n",
    "    n_jobs = -1           # 使用全部的CPU合運算\n",
    ")\n",
    "rf.fit(train_set, trainlabel_)\n",
    "\n",
    "# 儲存次方法給定的分數\n",
    "results = pd.DataFrame({\n",
    "    'truth'      : trainlabel_orig,   # 真實標籤\n",
    "    'label'      : trainlabel_,        # 預測標籤\n",
    "    'output_std' : rf.predict_proba(train_set)[:,1],   # 隨機森林分數(求屬於標籤1的概率)\n",
    "}, columns = ['truth', 'label', 'output_std'])\n",
    "# print(results)"
   ]
  },
  {
   "cell_type": "markdown",
   "metadata": {},
   "source": [
    "## PU-Bagging\n",
    "### 1.他是透過將正實例和未標記實例結合創建數據集，並進行替換\n",
    "### 2.將正數視為正實例，負數視為未標記實例\n",
    "### 3.將分類器應用於隨機樣本中未包含的人合未標記數據點，稱為OOB(out of bag)，並記錄其分數\n",
    "### 重複上面三個步驟，最後每個點OOB分數為每次分配分數的平均值\n",
    "\n",
    "#### 原本是決策樹但校果不好改隨機森林"
   ]
  },
  {
   "cell_type": "code",
   "execution_count": 26,
   "metadata": {},
   "outputs": [
    {
     "name": "stdout",
     "output_type": "stream",
     "text": [
      "       truth  label  output_std  output_bag\n",
      "0          1      0    0.156254    0.788756\n",
      "1          1      0    0.009645    0.149885\n",
      "2          0      0    0.000000    0.128354\n",
      "3          0      0    0.000000    0.001496\n",
      "4          1      0    0.002169    0.609025\n",
      "5          1      0    0.000000    0.343360\n",
      "6          1      0    0.114518    0.704081\n",
      "7          0      0    0.000000    0.013496\n",
      "8          1      1    0.666226         NaN\n",
      "9          0      0    0.009645    0.149731\n",
      "10         1      0    0.000471    0.200050\n",
      "11         0      0    0.009645    0.149776\n",
      "12         0      0    0.000000    0.036408\n",
      "13         0      0    0.009645    0.149717\n",
      "14         1      0    0.054751    0.576616\n",
      "15         0      0    0.000000    0.078459\n",
      "16         1      0    0.094656    0.699199\n",
      "17         0      0    0.000000    0.000324\n",
      "18         1      0    0.114518    0.704133\n",
      "19         1      0    0.138570    0.765435\n",
      "20         1      0    0.035212    0.516715\n",
      "21         1      0    0.108933    0.690086\n",
      "22         0      0    0.044774    0.546698\n",
      "23         1      0    0.002165    0.563792\n",
      "24         0      0    0.009645    0.149547\n",
      "25         1      0    0.032307    0.476751\n",
      "26         1      0    0.028501    0.452745\n",
      "27         1      0    0.138570    0.765663\n",
      "28         0      0    0.000000    0.009041\n",
      "29         0      0    0.000000    0.001046\n",
      "...      ...    ...         ...         ...\n",
      "12582      1      0    0.099741    0.669762\n",
      "12583      1      0    0.108933    0.690130\n",
      "12584      1      0    0.099944    0.725327\n",
      "12585      0      0    0.000000    0.028681\n",
      "12586      1      0    0.069434    0.661429\n",
      "12587      0      0    0.000333    0.022107\n",
      "12588      1      0    0.122885    0.749871\n",
      "12589      0      0    0.009645    0.149767\n",
      "12590      1      0    0.118946    0.758807\n",
      "12591      1      0    0.114518    0.703424\n",
      "12592      0      0    0.009645    0.149752\n",
      "12593      0      0    0.009645    0.149665\n",
      "12594      1      1    0.126944         NaN\n",
      "12595      0      0    0.000000    0.000002\n",
      "12596      0      0    0.000000    0.000002\n",
      "12597      0      0    0.000000    0.008275\n",
      "12598      1      0    0.000000    0.028599\n",
      "12599      1      0    0.159554    0.796446\n",
      "12600      1      0    0.090578    0.714419\n",
      "12601      1      0    0.099741    0.670111\n",
      "12602      1      0    0.011787    0.601953\n",
      "12603      0      0    0.009645    0.149730\n",
      "12604      1      0    0.122885    0.748867\n",
      "12605      1      0    0.051874    0.648797\n",
      "12606      1      0    0.000000    0.466949\n",
      "12607      0      0    0.009645    0.149679\n",
      "12608      0      0    0.000000    0.000002\n",
      "12609      0      0    0.000000    0.202782\n",
      "12610      0      0    0.000000    0.116755\n",
      "12611      1      0    0.237263    0.875512\n",
      "\n",
      "[12612 rows x 4 columns]\n"
     ]
    }
   ],
   "source": [
    "X = train_set_\n",
    "y = trainlabel_\n",
    "# 使用1000棵決策樹\n",
    "# from sklearn.tree import DecisionTreeClassifier\n",
    "nestimators = 1000\n",
    "# estimator = DecisionTreeClassifier()\n",
    "from sklearn.ensemble import RandomForestClassifier\n",
    "estimator = RandomForestClassifier(\n",
    "    n_estimators = 1000,  # 使用1000顆決策樹\n",
    "    n_jobs = -1           # 使用全部的CPU合運算\n",
    ")\n",
    "# 追蹤正實例和未標記實例的索引\n",
    "iP = y[y > 0].index\n",
    "iU = y[y <= 0].index\n",
    "\n",
    "# 對每個數據點記錄他是OOB的次數\n",
    "num_oob = pd.DataFrame(np.zeros(shape = y.shape), index = y.index)\n",
    "\n",
    "# 記錄OOB分數的總合\n",
    "sum_oob = pd.DataFrame(np.zeros(shape = y.shape), index = y.index)\n",
    "\n",
    "for _ in range(nestimators):\n",
    "    # 獲取本輪未標記點的 bootstrap sample(引導樣本)\n",
    "    ib = np.random.choice(iU, replace=True, size = len(iP))\n",
    "\n",
    "    # 找到本輪的OOB數據\n",
    "    i_oob = list(set(iU) - set(ib))\n",
    "\n",
    "    # 獲取訓練數據 (所有正實例和 bootstrap sample(未標記實例)還有建立樹\n",
    "    Xb = X[y > 0].append(X.loc[ib])\n",
    "    yb = y[y > 0].append(y.loc[ib])\n",
    "    estimator.fit(Xb, yb)\n",
    "    \n",
    "    # 紀錄本輪OOB分數還有OOB次數\n",
    "    sum_oob.loc[i_oob, 0] += estimator.predict_proba(X.loc[i_oob])[:,1]\n",
    "    num_oob.loc[i_oob, 0] += 1\n",
    "\n",
    "# 最後儲存平均的OOB分數\n",
    "results['output_bag'] = sum_oob / num_oob\n",
    "print(results)"
   ]
  },
  {
   "cell_type": "code",
   "execution_count": 27,
   "metadata": {},
   "outputs": [
    {
     "data": {
      "text/plain": [
       "(667, 200)"
      ]
     },
     "execution_count": 27,
     "metadata": {},
     "output_type": "execute_result"
    }
   ],
   "source": [
    "X.loc[ib].shape"
   ]
  },
  {
   "cell_type": "code",
   "execution_count": 28,
   "metadata": {},
   "outputs": [],
   "source": [
    "ts = range(3936, hidden_size, 100)\n",
    "y_std, y_bag, y_skb, y_stp, y_all = [], [], [], [], []\n",
    "for t in ts:\n",
    "    y_std.append(\n",
    "        results[results.label == 0].sort_values(\n",
    "            'output_std', ascending = False\n",
    "        ).head(t).truth.mean()\n",
    "    )\n",
    "    y_bag.append(\n",
    "        results[results.label == 0].sort_values(\n",
    "            'output_bag', ascending = False\n",
    "        ).head(t).truth.mean()\n",
    "    )\n",
    "#     y_skb.append(\n",
    "#         results[results.label == 0].sort_values(\n",
    "#             'output_skb', ascending = False\n",
    "#         ).head(t).truth.mean()\n",
    "#     )\n",
    "#     y_stp.append(\n",
    "#         results[results.label == 0].sort_values(\n",
    "#             'output_stp', ascending = False\n",
    "#         ).head(t).truth.mean()\n",
    "#     )\n",
    "#     y_all.append(\n",
    "#         results[results.label == 0].sort_values(\n",
    "#             'output_all', ascending = False\n",
    "#         ).head(t).truth.mean()\n",
    "#     )"
   ]
  },
  {
   "cell_type": "code",
   "execution_count": 73,
   "metadata": {},
   "outputs": [],
   "source": [
    "positiveX = results[results.label == 0].sort_values(\n",
    "            'output_std', ascending = False\n",
    "        ).index\n",
    "trainlabel_.loc[positiveX[:5936]] = 1\n",
    "from sklearn.ensemble import RandomForestClassifier\n",
    "purf = RandomForestClassifier(\n",
    "    n_estimators = 1000,  # 使用1000顆決策樹\n",
    "    n_jobs = -1           # 使用全部的CPU合運算\n",
    ")\n",
    "purf.fit(train_set, trainlabel_)\n",
    "trainlabel_.loc[positiveXpu[:5936]] = 0"
   ]
  },
  {
   "cell_type": "code",
   "execution_count": 74,
   "metadata": {},
   "outputs": [],
   "source": [
    "positiveXpu = results[results.label == 0].sort_values('output_bag', ascending = False).index\n",
    "trainlabel_.loc[positiveXpu[:5936]] = 1\n",
    "from sklearn.ensemble import RandomForestClassifier\n",
    "pubaggingrf = RandomForestClassifier(\n",
    "    n_estimators = 1000,  # 使用1000顆決策樹\n",
    "    n_jobs = -1           # 使用全部的CPU合運算\n",
    ")\n",
    "pubaggingrf.fit(train_set, trainlabel_)\n",
    "trainlabel_.loc[positiveXpu[:5936]] = 0"
   ]
  },
  {
   "cell_type": "code",
   "execution_count": 30,
   "metadata": {
    "scrolled": false
   },
   "outputs": [
    {
     "data": {
      "image/png": "[encoded data removed]",
      "text/plain": [
       "<matplotlib.figure.Figure at 0x1601265ef28>"
      ]
     },
     "metadata": {},
     "output_type": "display_data"
    }
   ],
   "source": [
    "# 效能圖\n",
    "plt.rcParams['font.size'] = 16\n",
    "plt.rcParams['figure.figsize'] = 15, 8\n",
    "\n",
    "plt.plot(\n",
    "    ts, y_std,\n",
    "    ts, y_bag,\n",
    "    #ts, y_stp,\n",
    "    #ts, y_all,\n",
    "    lw = 5\n",
    ")\n",
    "\n",
    "vals = plt.gca().get_yticks()\n",
    "plt.yticks(vals, ['%.0f%%' % (v*100) for v in vals])\n",
    "plt.xlabel('Number of unlabeled data points chosen from the top rated')\n",
    "plt.ylabel('Percent of chosen that are secretly positive')\n",
    "plt.legend([\n",
    "    'Standard classifier',\n",
    "    'PU bagging',\n",
    "])\n",
    "ylim = plt.gca().get_ylim()\n",
    "plt.title('Performance of the three approaches and of their average')\n",
    "plt.grid()\n",
    "plt.show()"
   ]
  },
  {
   "cell_type": "markdown",
   "metadata": {},
   "source": [
    "# 下面是實驗"
   ]
  },
  {
   "cell_type": "code",
   "execution_count": 75,
   "metadata": {},
   "outputs": [
    {
     "name": "stdout",
     "output_type": "stream",
     "text": [
      "Testing Accuarcy: 48.38％ (sklearn.ensemble.forest)\n",
      "Testing Accuarcy: 84.32％ (sklearn.ensemble.forest)\n",
      "Testing Accuarcy: 91.78％ (sklearn.ensemble.forest)\n"
     ]
    }
   ],
   "source": [
    "def test_func(test,testlabel,model):\n",
    "    Y_hat = model.predict(test)\n",
    "    n=np.size(testlabel)\n",
    "    print ('Testing Accuarcy: {:.2f}％ ({})'.format(sum(np.int_(Y_hat==testlabel))*100./n,model.__module__))\n",
    "# Test Model using testing data\n",
    "test_func(test_set,testlabel,rf) #傳統監督式\n",
    "test_func(test_set,testlabel,purf) #PU提出後的改良版\n",
    "test_func(test_set,testlabel,pubaggingrf)"
   ]
  },
  {
   "cell_type": "code",
   "execution_count": 34,
   "metadata": {},
   "outputs": [],
   "source": [
    "ts = range(100, hidden_size, 200)\n",
    "y_std = []\n",
    "for t in ts:\n",
    "    y_std.append(\n",
    "        results[results.label == 0].sort_values(\n",
    "            'output_std', ascending = False\n",
    "        ).head(t).truth.mean()\n",
    "    )"
   ]
  },
  {
   "cell_type": "markdown",
   "metadata": {},
   "source": [
    "# 以下是將測試集導入"
   ]
  },
  {
   "cell_type": "code",
   "execution_count": 35,
   "metadata": {},
   "outputs": [],
   "source": [
    "test_text = []\n",
    "testspam_text = []\n",
    "testham_text = []\n",
    "test_data = []\n",
    "listtest = os.listdir(SaveDirectory+'\\\\data\\\\test')"
   ]
  },
  {
   "cell_type": "code",
   "execution_count": 36,
   "metadata": {},
   "outputs": [
    {
     "data": {
      "text/html": [
       "<div>\n",
       "<style scoped>\n",
       "    .dataframe tbody tr th:only-of-type {\n",
       "        vertical-align: middle;\n",
       "    }\n",
       "\n",
       "    .dataframe tbody tr th {\n",
       "        vertical-align: top;\n",
       "    }\n",
       "\n",
       "    .dataframe thead th {\n",
       "        text-align: right;\n",
       "    }\n",
       "</style>\n",
       "<table border=\"1\" class=\"dataframe\">\n",
       "  <thead>\n",
       "    <tr style=\"text-align: right;\">\n",
       "      <th></th>\n",
       "      <th>text</th>\n",
       "      <th>label</th>\n",
       "    </tr>\n",
       "  </thead>\n",
       "  <tbody>\n",
       "    <tr>\n",
       "      <th>0</th>\n",
       "      <td>享受性的和諧和激情的愉悅是高質量完美人生的重要標誌美麗心情成人用品商城是全國最大的成人用品性...</td>\n",
       "      <td>1</td>\n",
       "    </tr>\n",
       "    <tr>\n",
       "      <th>1</th>\n",
       "      <td>你們倆像呀偶還以為自娛自樂呢 偶不這樣 標題他到底怎末瞭 發信站水木社區站內 現在還是是說他...</td>\n",
       "      <td>0</td>\n",
       "    </tr>\n",
       "    <tr>\n",
       "      <th>2</th>\n",
       "      <td>你們不要吵嘴瞭 但我真的很氣憤男生這樣如果說當有彆人喜歡他他會有猶豫還可以原諒其實也不能原諒...</td>\n",
       "      <td>0</td>\n",
       "    </tr>\n",
       "    <tr>\n",
       "      <th>3</th>\n",
       "      <td>在北戴河海邊全封閉的純英語氛圍下學習英語一個月是每個英語愛好者的夢想和追求注在這個基地內任何...</td>\n",
       "      <td>0</td>\n",
       "    </tr>\n",
       "    <tr>\n",
       "      <th>4</th>\n",
       "      <td>那是典型的非典型挖坑嗯 標題輕點灌 發信站水木社區站內 偶又沒灌 而且還仗義提醒 你逃得瞭嗎...</td>\n",
       "      <td>0</td>\n",
       "    </tr>\n",
       "  </tbody>\n",
       "</table>\n",
       "</div>"
      ],
      "text/plain": [
       "                                                text label\n",
       "0  享受性的和諧和激情的愉悅是高質量完美人生的重要標誌美麗心情成人用品商城是全國最大的成人用品性...     1\n",
       "1  你們倆像呀偶還以為自娛自樂呢 偶不這樣 標題他到底怎末瞭 發信站水木社區站內 現在還是是說他...     0\n",
       "2  你們不要吵嘴瞭 但我真的很氣憤男生這樣如果說當有彆人喜歡他他會有猶豫還可以原諒其實也不能原諒...     0\n",
       "3  在北戴河海邊全封閉的純英語氛圍下學習英語一個月是每個英語愛好者的夢想和追求注在這個基地內任何...     0\n",
       "4  那是典型的非典型挖坑嗯 標題輕點灌 發信站水木社區站內 偶又沒灌 而且還仗義提醒 你逃得瞭嗎...     0"
      ]
     },
     "execution_count": 36,
     "metadata": {},
     "output_type": "execute_result"
    }
   ],
   "source": [
    "for fileName in listtest:\n",
    "    if int(fileName)>1000:\n",
    "        with open('data/test/'+fileName, 'r',encoding='gbk') as f:\n",
    "            #文本每一列儲存\n",
    "            text=[]\n",
    "            # 過濾非中文字符，正規化\n",
    "            for line in f.readlines():\n",
    "                pattern = re.compile('[^\\u4e00-\\u9fa5]') #正規化(去除非中文字符)\n",
    "                line = pattern.sub(\"\", line) #將其他字符取代為\"\"\n",
    "                content = line.strip().split() #去除一些空白.換行\n",
    "                text = text+content #儲存這個文本的內容\n",
    "            text = \" \".join(text) #將文本內容list加入全部文本的list\n",
    "            testspam_text.append(HanziConv.toTraditional(text)) #簡轉繁\n",
    "    else:\n",
    "        with open('data/test/'+fileName, 'r',encoding='gbk') as f:\n",
    "            #文本每一列儲存\n",
    "            text=[]\n",
    "            # 過濾非中文字符，正規化\n",
    "            for line in f.readlines():\n",
    "                pattern = re.compile('[^\\u4e00-\\u9fa5]') #正規化(去除非中文字符)\n",
    "                line = pattern.sub(\"\", line) #將其他字符取代為\"\"\n",
    "                content = line.strip().split() #去除一些空白.換行\n",
    "                text = text+content #儲存這個文本的內容\n",
    "            text = \" \".join(text) #將文本內容list加入全部文本的list\n",
    "            testham_text.append(HanziConv.toTraditional(text)) #簡轉繁\n",
    "        \n",
    "            \n",
    "testspam_data = pd.DataFrame(testspam_text,columns=['text']) #將list改成dataframe\n",
    "testham_data = pd.DataFrame(testham_text,columns=['text']) #將list改成dataframe\n",
    "testspam_data['label']='1' #將資料類別加上 0:ham 1:spam\n",
    "testham_data['label']='0'\n",
    "test_data = pd.concat([testspam_data,testham_data])\n",
    "test_data = test_data.sample(frac=1).reset_index(drop=True)\n",
    "test_data.head()\n"
   ]
  },
  {
   "cell_type": "code",
   "execution_count": 37,
   "metadata": {},
   "outputs": [
    {
     "data": {
      "text/html": [
       "<div>\n",
       "<style scoped>\n",
       "    .dataframe tbody tr th:only-of-type {\n",
       "        vertical-align: middle;\n",
       "    }\n",
       "\n",
       "    .dataframe tbody tr th {\n",
       "        vertical-align: top;\n",
       "    }\n",
       "\n",
       "    .dataframe thead th {\n",
       "        text-align: right;\n",
       "    }\n",
       "</style>\n",
       "<table border=\"1\" class=\"dataframe\">\n",
       "  <thead>\n",
       "    <tr style=\"text-align: right;\">\n",
       "      <th></th>\n",
       "      <th>text</th>\n",
       "      <th>label</th>\n",
       "    </tr>\n",
       "  </thead>\n",
       "  <tbody>\n",
       "    <tr>\n",
       "      <th>0</th>\n",
       "      <td>享受性 和諧 激情 愉悅 高質量 完美 人生 重要 標誌 美麗 心情 成人 用品 商城 全國...</td>\n",
       "      <td>1</td>\n",
       "    </tr>\n",
       "    <tr>\n",
       "      <th>1</th>\n",
       "      <td>倆 偶 還以 自娛 自樂 偶 標題 怎末 瞭 發信 站 社區 站 現在 說 以前 一起 五年...</td>\n",
       "      <td>0</td>\n",
       "    </tr>\n",
       "    <tr>\n",
       "      <th>2</th>\n",
       "      <td>吵嘴 瞭 真的 很氣憤 男生 說 當有 彆 人 喜歡 猶豫還 原諒 原諒 做人 原則 裏 麵...</td>\n",
       "      <td>0</td>\n",
       "    </tr>\n",
       "    <tr>\n",
       "      <th>3</th>\n",
       "      <td>北戴河 海邊 全封閉 純英語 氛圍 下學習 英語 一個 月 每個 英語 愛好者 夢 想 追求...</td>\n",
       "      <td>0</td>\n",
       "    </tr>\n",
       "    <tr>\n",
       "      <th>4</th>\n",
       "      <td>典型 非典型 挖坑 標題 輕點 灌 發信 站 社區 站 偶 灌 還仗義 提醒 逃 瞭 發信 ...</td>\n",
       "      <td>0</td>\n",
       "    </tr>\n",
       "    <tr>\n",
       "      <th>5</th>\n",
       "      <td>人生 太短 暫 老和過 兜圈子 作 朋友 朋友 話 聊天 肯定 問題 標題 分手 後 心軟 ...</td>\n",
       "      <td>0</td>\n",
       "    </tr>\n",
       "  </tbody>\n",
       "</table>\n",
       "</div>"
      ],
      "text/plain": [
       "                                                text label\n",
       "0  享受性 和諧 激情 愉悅 高質量 完美 人生 重要 標誌 美麗 心情 成人 用品 商城 全國...     1\n",
       "1  倆 偶 還以 自娛 自樂 偶 標題 怎末 瞭 發信 站 社區 站 現在 說 以前 一起 五年...     0\n",
       "2  吵嘴 瞭 真的 很氣憤 男生 說 當有 彆 人 喜歡 猶豫還 原諒 原諒 做人 原則 裏 麵...     0\n",
       "3  北戴河 海邊 全封閉 純英語 氛圍 下學習 英語 一個 月 每個 英語 愛好者 夢 想 追求...     0\n",
       "4  典型 非典型 挖坑 標題 輕點 灌 發信 站 社區 站 偶 灌 還仗義 提醒 逃 瞭 發信 ...     0\n",
       "5  人生 太短 暫 老和過 兜圈子 作 朋友 朋友 話 聊天 肯定 問題 標題 分手 後 心軟 ...     0"
      ]
     },
     "execution_count": 37,
     "metadata": {},
     "output_type": "execute_result"
    }
   ],
   "source": [
    "processed_texts = []\n",
    "for text in test_data[\"text\"]:\n",
    "    words = []\n",
    "    seg_list = jieba.cut(text) #利用Jieba斷詞\n",
    "    for seg in seg_list: \n",
    "        # isalpha()檢測詞是否由字符組成，且不在停用詞的list中\n",
    "        if (seg.isalpha()) & (seg not in stopwords):\n",
    "            words.append(seg)\n",
    "    sentence = \" \".join(words)\n",
    "    processed_texts.append(sentence)\n",
    "test_data[\"text\"] = processed_texts #利用過濾且斷好的詞取代文本\n",
    "test_data.head(6)"
   ]
  },
  {
   "cell_type": "code",
   "execution_count": 38,
   "metadata": {},
   "outputs": [],
   "source": [
    "test_data_matrix=raw2feature(test_data,keyword_dict)\n",
    "test_testset = test_data_matrix[0]\n",
    "test_testlabel = test_data_matrix[1]"
   ]
  },
  {
   "cell_type": "code",
   "execution_count": null,
   "metadata": {},
   "outputs": [],
   "source": []
  },
  {
   "cell_type": "code",
   "execution_count": 40,
   "metadata": {},
   "outputs": [
    {
     "name": "stdout",
     "output_type": "stream",
     "text": [
      "Testing Accuarcy: 49.49％ (sklearn.ensemble.forest)\n",
      "Testing Accuarcy: 95.66％ (sklearn.ensemble.forest)\n"
     ]
    }
   ],
   "source": [
    "def test_func(test,testlabel,model):\n",
    "    Y_hat = model.predict(test)\n",
    "    n=np.size(testlabel)\n",
    "    print ('Testing Accuarcy: {:.2f}％ ({})'.format(sum(np.int_(Y_hat==testlabel))*100./n,model.__module__))\n",
    "# Test Model using testing data\n",
    "test_func(test_testset,test_testlabel,rf)\n",
    "test_func(test_testset,test_testlabel,model_RF)\n"
   ]
  },
  {
   "cell_type": "code",
   "execution_count": null,
   "metadata": {},
   "outputs": [],
   "source": []
  },
  {
   "cell_type": "code",
   "execution_count": null,
   "metadata": {},
   "outputs": [],
   "source": []
  }
 ],
 "metadata": {
  "kernelspec": {
   "display_name": "Python 3",
   "language": "python",
   "name": "python3"
  },
  "language_info": {
   "codemirror_mode": {
    "name": "ipython",
    "version": 3
   },
   "file_extension": ".py",
   "mimetype": "text/x-python",
   "name": "python",
   "nbconvert_exporter": "python",
   "pygments_lexer": "ipython3",
   "version": "3.6.4"
  }
 },
 "nbformat": 4,
 "nbformat_minor": 2
}
