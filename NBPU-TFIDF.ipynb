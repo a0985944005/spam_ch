{
 "cells": [
  {
   "cell_type": "markdown",
   "metadata": {},
   "source": [
    "# 匯入一些套件還有匯入文檔"
   ]
  },
  {
   "cell_type": "code",
   "execution_count": 1,
   "metadata": {},
   "outputs": [
    {
     "name": "stdout",
     "output_type": "stream",
     "text": [
      "Populating the interactive namespace from numpy and matplotlib\n",
      "spam total： 7775\n",
      "ham total： 7063\n"
     ]
    }
   ],
   "source": [
    "%pylab inline\n",
    "import time\n",
    "import re\n",
    "import matplotlib.pyplot as plt\n",
    "import pandas as pd\n",
    "import string\n",
    "import codecs\n",
    "import os\n",
    "import jieba\n",
    "from sklearn.feature_extraction.text import CountVectorizer\n",
    "from wordcloud import WordCloud\n",
    "from sklearn import naive_bayes as bayes\n",
    "from sklearn.model_selection import train_test_split\n",
    "#簡轉繁\n",
    "from hanziconv import HanziConv\n",
    "\n",
    "#ham與spam的每封郵件list\n",
    "ham_text = []\n",
    "spam_text = []\n",
    "#ham與spam的數據集\n",
    "ham_data = []\n",
    "spam_data = []\n",
    "#取得目前工作目錄\n",
    "SaveDirectory = os.getcwd() \n",
    "#獲得文檔列表\n",
    "listham = os.listdir(SaveDirectory+'\\\\data\\\\normal')\n",
    "listspam = os.listdir(SaveDirectory+'\\\\data\\\\spam')\n",
    "#數據集數量\n",
    "\n",
    "print('spam total：',len(listspam))\n",
    "print('ham total：',len(listham))\n"
   ]
  },
  {
   "cell_type": "markdown",
   "metadata": {},
   "source": [
    "# 先匯入HAM文檔並給予label = 0"
   ]
  },
  {
   "cell_type": "code",
   "execution_count": 2,
   "metadata": {},
   "outputs": [
    {
     "data": {
      "text/html": [
       "<div>\n",
       "<style scoped>\n",
       "    .dataframe tbody tr th:only-of-type {\n",
       "        vertical-align: middle;\n",
       "    }\n",
       "\n",
       "    .dataframe tbody tr th {\n",
       "        vertical-align: top;\n",
       "    }\n",
       "\n",
       "    .dataframe thead th {\n",
       "        text-align: right;\n",
       "    }\n",
       "</style>\n",
       "<table border=\"1\" class=\"dataframe\">\n",
       "  <thead>\n",
       "    <tr style=\"text-align: right;\">\n",
       "      <th></th>\n",
       "      <th>text</th>\n",
       "      <th>label</th>\n",
       "    </tr>\n",
       "  </thead>\n",
       "  <tbody>\n",
       "    <tr>\n",
       "      <th>0</th>\n",
       "      <td>這事兒還有續集 因為我姐她們買房子後來裝修的時候沒錢她婆婆他們就贊助瞭萬塊 這下一吵她婆婆就...</td>\n",
       "      <td>0</td>\n",
       "    </tr>\n",
       "    <tr>\n",
       "      <th>1</th>\n",
       "      <td>越發覺得這個姐夫不錯瞭 那萬還是趕緊還瞭吧 標題姐姐快要生孩子瞭很感慨 發信站水木社區站內 ...</td>\n",
       "      <td>0</td>\n",
       "    </tr>\n",
       "    <tr>\n",
       "      <th>2</th>\n",
       "      <td>或許某些農村吧 在一個當性彆勞動力富裕程度的地方還是可以理解的 標題姐姐快要生孩子瞭很感慨 ...</td>\n",
       "      <td>0</td>\n",
       "    </tr>\n",
       "    <tr>\n",
       "      <th>3</th>\n",
       "      <td>最近經常看到你說一些很武斷的話 所謂保胎確實是要躺在床上不能動的尤其是先兆流産有齣血的時候 ...</td>\n",
       "      <td>0</td>\n",
       "    </tr>\n",
       "    <tr>\n",
       "      <th>4</th>\n",
       "      <td>他們分手是說性格不閤 沒多久然後我們交往 還算比較愉快 當初因為他經常和聯係我曾跟他吵過多次...</td>\n",
       "      <td>0</td>\n",
       "    </tr>\n",
       "  </tbody>\n",
       "</table>\n",
       "</div>"
      ],
      "text/plain": [
       "                                                text label\n",
       "0  這事兒還有續集 因為我姐她們買房子後來裝修的時候沒錢她婆婆他們就贊助瞭萬塊 這下一吵她婆婆就...     0\n",
       "1  越發覺得這個姐夫不錯瞭 那萬還是趕緊還瞭吧 標題姐姐快要生孩子瞭很感慨 發信站水木社區站內 ...     0\n",
       "2  或許某些農村吧 在一個當性彆勞動力富裕程度的地方還是可以理解的 標題姐姐快要生孩子瞭很感慨 ...     0\n",
       "3  最近經常看到你說一些很武斷的話 所謂保胎確實是要躺在床上不能動的尤其是先兆流産有齣血的時候 ...     0\n",
       "4  他們分手是說性格不閤 沒多久然後我們交往 還算比較愉快 當初因為他經常和聯係我曾跟他吵過多次...     0"
      ]
     },
     "execution_count": 2,
     "metadata": {},
     "output_type": "execute_result"
    }
   ],
   "source": [
    "for fileName in listham:\n",
    "        with open('data/normal/'+fileName, 'r',encoding='gbk') as f:\n",
    "            #文本每一列儲存\n",
    "            text=[]\n",
    "            # 過濾非中文字符，正規化\n",
    "            for line in f.readlines():\n",
    "                pattern = re.compile('[^\\u4e00-\\u9fa5]') #正規化(去除非中文字符)\n",
    "                line = pattern.sub(\"\", line) #將其他字符取代為\"\"\n",
    "                content = line.strip().split() #去除一些空白.換行\n",
    "                text = text+content #儲存這個文本的內容\n",
    "            text = \" \".join(text) #將文本內容list加入全部文本的list\n",
    "            ham_text.append(HanziConv.toTraditional(text)) #簡轉繁\n",
    "ham_data = pd.DataFrame(ham_text,columns=['text']) #將list改成dataframe\n",
    "ham_data['label']='0' #將資料類別加上 0:ham 1:spam\n",
    "ham_data.head()\n"
   ]
  },
  {
   "cell_type": "markdown",
   "metadata": {},
   "source": [
    "# 先匯入SPAM文檔並給予label = 1"
   ]
  },
  {
   "cell_type": "code",
   "execution_count": 3,
   "metadata": {},
   "outputs": [
    {
     "data": {
      "text/html": [
       "<div>\n",
       "<style scoped>\n",
       "    .dataframe tbody tr th:only-of-type {\n",
       "        vertical-align: middle;\n",
       "    }\n",
       "\n",
       "    .dataframe tbody tr th {\n",
       "        vertical-align: top;\n",
       "    }\n",
       "\n",
       "    .dataframe thead th {\n",
       "        text-align: right;\n",
       "    }\n",
       "</style>\n",
       "<table border=\"1\" class=\"dataframe\">\n",
       "  <thead>\n",
       "    <tr style=\"text-align: right;\">\n",
       "      <th></th>\n",
       "      <th>text</th>\n",
       "      <th>label</th>\n",
       "    </tr>\n",
       "  </thead>\n",
       "  <tbody>\n",
       "    <tr>\n",
       "      <th>0</th>\n",
       "      <td>會員注冊邀請書 全國最低價域名空間大放送 國際頂級域名注冊驚暴價元年元年連續注冊年以上 國傢...</td>\n",
       "      <td>1</td>\n",
       "    </tr>\n",
       "    <tr>\n",
       "      <th>1</th>\n",
       "      <td>你好 以茶會友以茶聯誼喝茶就喝安溪鐵觀音 本廠是專業生産批發各等級鐵觀音茶葉的購買聯係 在綫...</td>\n",
       "      <td>1</td>\n",
       "    </tr>\n",
       "    <tr>\n",
       "      <th>2</th>\n",
       "      <td>尊敬的先生小姐 您好 首先感謝您抽時間查看以下信息 我公司一直緻力於研發生産銷售施工環氧樹脂...</td>\n",
       "      <td>1</td>\n",
       "    </tr>\n",
       "    <tr>\n",
       "      <th>3</th>\n",
       "      <td>先生 你好 批發麻醉藥催情藥墮胎藥避孕藥飲料型噴霧型香煙型揮發型等各類國際國內製藥企業推齣的...</td>\n",
       "      <td>1</td>\n",
       "    </tr>\n",
       "    <tr>\n",
       "      <th>4</th>\n",
       "      <td>貴公司負責人經理財務您好 我是深圳市創偉實業有限公司的我司實力雄厚有著良 好的社會關係也有部...</td>\n",
       "      <td>1</td>\n",
       "    </tr>\n",
       "  </tbody>\n",
       "</table>\n",
       "</div>"
      ],
      "text/plain": [
       "                                                text label\n",
       "0  會員注冊邀請書 全國最低價域名空間大放送 國際頂級域名注冊驚暴價元年元年連續注冊年以上 國傢...     1\n",
       "1  你好 以茶會友以茶聯誼喝茶就喝安溪鐵觀音 本廠是專業生産批發各等級鐵觀音茶葉的購買聯係 在綫...     1\n",
       "2  尊敬的先生小姐 您好 首先感謝您抽時間查看以下信息 我公司一直緻力於研發生産銷售施工環氧樹脂...     1\n",
       "3  先生 你好 批發麻醉藥催情藥墮胎藥避孕藥飲料型噴霧型香煙型揮發型等各類國際國內製藥企業推齣的...     1\n",
       "4  貴公司負責人經理財務您好 我是深圳市創偉實業有限公司的我司實力雄厚有著良 好的社會關係也有部...     1"
      ]
     },
     "execution_count": 3,
     "metadata": {},
     "output_type": "execute_result"
    }
   ],
   "source": [
    "for fileName in listspam:\n",
    "        with open('data/spam/'+fileName, 'r',encoding='gbk') as f:\n",
    "            text=[]\n",
    "            # 过滤掉非中文字符\n",
    "            for line in f.readlines():\n",
    "                pattern = re.compile('[^\\u4e00-\\u9fa5]')\n",
    "                line = pattern.sub(\"\", line)\n",
    "                content = line.strip().split()\n",
    "                text = text+content\n",
    "            text = \" \".join(text)\n",
    "            spam_text.append(HanziConv.toTraditional(text))\n",
    "spam_data = pd.DataFrame(spam_text,columns=['text'])\n",
    "spam_data['label']='1'\n",
    "spam_data.head()"
   ]
  },
  {
   "cell_type": "markdown",
   "metadata": {},
   "source": [
    "# 把匯入的 SPAM與HAM結合並打亂"
   ]
  },
  {
   "cell_type": "code",
   "execution_count": 4,
   "metadata": {},
   "outputs": [
    {
     "name": "stdout",
     "output_type": "stream",
     "text": [
      "data shape： (14838, 2)\n",
      "spams in rows： 7775\n",
      "hams in rows： 7063\n"
     ]
    },
    {
     "data": {
      "text/html": [
       "<div>\n",
       "<style scoped>\n",
       "    .dataframe tbody tr th:only-of-type {\n",
       "        vertical-align: middle;\n",
       "    }\n",
       "\n",
       "    .dataframe tbody tr th {\n",
       "        vertical-align: top;\n",
       "    }\n",
       "\n",
       "    .dataframe thead th {\n",
       "        text-align: right;\n",
       "    }\n",
       "</style>\n",
       "<table border=\"1\" class=\"dataframe\">\n",
       "  <thead>\n",
       "    <tr style=\"text-align: right;\">\n",
       "      <th></th>\n",
       "      <th>text</th>\n",
       "      <th>label</th>\n",
       "    </tr>\n",
       "  </thead>\n",
       "  <tbody>\n",
       "    <tr>\n",
       "      <th>0</th>\n",
       "      <td>貴公司負責人經理財務您好 我公司是深圳市如意廣告有限公司我公司實力雄厚 因我公司是定額稅額每...</td>\n",
       "      <td>1</td>\n",
       "    </tr>\n",
       "    <tr>\n",
       "      <th>1</th>\n",
       "      <td></td>\n",
       "      <td>1</td>\n",
       "    </tr>\n",
       "    <tr>\n",
       "      <th>2</th>\n",
       "      <td>我在一所很普通的工科大學讀本科現在已經在準備考研的復習尤其對這學期的計算機專業課當然上課講的...</td>\n",
       "      <td>0</td>\n",
       "    </tr>\n",
       "    <tr>\n",
       "      <th>3</th>\n",
       "      <td>不錯啦有個期限也好至少知道珍惜 俺的就乾過夢想著地久天長卻短期投機失敗的事 說實話現在感情的...</td>\n",
       "      <td>0</td>\n",
       "    </tr>\n",
       "    <tr>\n",
       "      <th>4</th>\n",
       "      <td>尊敬客戶您好 世紀是信息時代企業信息化將使企業在有限的投入中獲得最大程度的收益 我公司專業為...</td>\n",
       "      <td>1</td>\n",
       "    </tr>\n",
       "    <tr>\n",
       "      <th>5</th>\n",
       "      <td>有個朋友告訴我每個人的愛就象一杯酒你每次付齣你的愛有多少你杯中的酒就會少多少而再補充進來的就...</td>\n",
       "      <td>0</td>\n",
       "    </tr>\n",
       "  </tbody>\n",
       "</table>\n",
       "</div>"
      ],
      "text/plain": [
       "                                                text label\n",
       "0  貴公司負責人經理財務您好 我公司是深圳市如意廣告有限公司我公司實力雄厚 因我公司是定額稅額每...     1\n",
       "1                                                        1\n",
       "2  我在一所很普通的工科大學讀本科現在已經在準備考研的復習尤其對這學期的計算機專業課當然上課講的...     0\n",
       "3  不錯啦有個期限也好至少知道珍惜 俺的就乾過夢想著地久天長卻短期投機失敗的事 說實話現在感情的...     0\n",
       "4  尊敬客戶您好 世紀是信息時代企業信息化將使企業在有限的投入中獲得最大程度的收益 我公司專業為...     1\n",
       "5  有個朋友告訴我每個人的愛就象一杯酒你每次付齣你的愛有多少你杯中的酒就會少多少而再補充進來的就...     0"
      ]
     },
     "execution_count": 4,
     "metadata": {},
     "output_type": "execute_result"
    }
   ],
   "source": [
    "all_data = pd.concat([spam_data,ham_data],axis=0, ignore_index=True)  #將ham lsit與spam list串起來\n",
    "all_data = all_data.sample(frac=1).reset_index(drop=True) #sample frac = 1 是把數據都打亂 resr_index是把index也重設\n",
    "print('data shape：',all_data.shape)\n",
    "print('spams in rows：',all_data.loc[all_data['label']==\"1\"].shape[0])\n",
    "print('hams in rows：',all_data.loc[all_data['label']==\"0\"].shape[0])\n",
    "all_data.head(6)"
   ]
  },
  {
   "cell_type": "markdown",
   "metadata": {},
   "source": [
    "# 接著載入停詞表及斷詞"
   ]
  },
  {
   "cell_type": "code",
   "execution_count": 5,
   "metadata": {},
   "outputs": [
    {
     "name": "stderr",
     "output_type": "stream",
     "text": [
      "Building prefix dict from the default dictionary ...\n",
      "Loading model from cache C:\\Users\\zxc98\\AppData\\Local\\Temp\\jieba.cache\n",
      "Loading model cost 0.573 seconds.\n",
      "Prefix dict has been built succesfully.\n"
     ]
    }
   ],
   "source": [
    "#載入 停用詞 (stopwords) 自動過濾掉某些字或詞\n",
    "stopwords = codecs.open(os.path.join(SaveDirectory+'\\data', 'stopwords_tr.txt'), 'r', 'utf-8').read().split('\\r\\n')\n",
    "#下面斷詞\n",
    "processed_texts = []\n",
    "for text in all_data[\"text\"]:\n",
    "    words = []\n",
    "    seg_list = jieba.cut(text) #利用Jieba斷詞\n",
    "    for seg in seg_list: \n",
    "        # isalpha()檢測詞是否由字符組成，且不在停用詞的list中\n",
    "        if (seg.isalpha()) & (seg not in stopwords):\n",
    "            words.append(seg)\n",
    "    sentence = \" \".join(words)\n",
    "    processed_texts.append(sentence)\n",
    "all_data[\"text\"] = processed_texts #利用過濾且斷好的詞取代文本\n"
   ]
  },
  {
   "cell_type": "markdown",
   "metadata": {},
   "source": [
    "# 接著將資料切成訓練及與測試集"
   ]
  },
  {
   "cell_type": "code",
   "execution_count": 6,
   "metadata": {},
   "outputs": [],
   "source": [
    "#traindate & testdata\n",
    "train_set, test_set, trainlabel, testlabel = train_test_split(all_data[\"text\"], all_data[\"label\"], test_size = 0.15)"
   ]
  },
  {
   "cell_type": "code",
   "execution_count": 7,
   "metadata": {},
   "outputs": [
    {
     "name": "stdout",
     "output_type": "stream",
     "text": [
      "train:12612\n",
      "test:2226\n"
     ]
    },
    {
     "data": {
      "text/plain": [
       "(6621,)"
      ]
     },
     "execution_count": 7,
     "metadata": {},
     "output_type": "execute_result"
    }
   ],
   "source": [
    "print(\"train:\"+str(len(train_set)))\n",
    "print(\"test:\"+str(len(test_set)))\n",
    "trainlabel[trainlabel=='1'].shape"
   ]
  },
  {
   "cell_type": "code",
   "execution_count": 8,
   "metadata": {},
   "outputs": [
    {
     "data": {
      "text/plain": [
       "(4024,)"
      ]
     },
     "execution_count": 8,
     "metadata": {},
     "output_type": "execute_result"
    }
   ],
   "source": [
    "trainlabel_orig = trainlabel.copy()\n",
    "# 取消一些標記的數據\n",
    "unlabeled_size = 2597\n",
    "#loc可以選擇數據(把上面數量的POSTIVE DATA隱藏為UNLABELED DATA)\n",
    "trainlabel.loc[\n",
    "    np.random.choice(\n",
    "        trainlabel[trainlabel == '1'].index, \n",
    "        replace = False, \n",
    "        size = unlabeled_size\n",
    "    )\n",
    "] = '0'\n",
    "trainlabel[trainlabel=='1'].shape"
   ]
  },
  {
   "cell_type": "code",
   "execution_count": 9,
   "metadata": {},
   "outputs": [
    {
     "data": {
      "text/plain": [
       "(4024, 3)"
      ]
     },
     "execution_count": 9,
     "metadata": {},
     "output_type": "execute_result"
    }
   ],
   "source": [
    "positive_train = trainlabel[trainlabel=='1'].index\n",
    "positive_data = train_set[positive_train]\n",
    "positive_spam = pd.DataFrame(\n",
    "    {\n",
    "     'text':positive_data, \n",
    "     'label':trainlabel[positive_train],\n",
    "     'truth':trainlabel_orig[positive_train]\n",
    "    })\n",
    "positive_spam.shape\n"
   ]
  },
  {
   "cell_type": "code",
   "execution_count": 10,
   "metadata": {},
   "outputs": [],
   "source": [
    "import re\n",
    "def generate_key_list(all_data, size_table=200,ignore=2):\n",
    "    dict_spam_raw = dict()\n",
    "    dict_genuine_raw = dict()\n",
    "    dict_IDF = dict()\n",
    "\n",
    "    # 去除字母外的所有內容.\n",
    "    for i in range(all_data.shape[0]):\n",
    "        finds = all_data.iloc[i].text.split(\" \")\n",
    "        if all_data.iloc[i].label == '1':\n",
    "            for find in finds:\n",
    "                if len(find)<ignore: continue\n",
    "                try:\n",
    "                    dict_spam_raw[find] = dict_spam_raw[find] + 1\n",
    "                except:\t\n",
    "                    dict_spam_raw[find] = dict_spam_raw.get(find,1) #若是新的文字因為後面get找不到這個索引會返回逗點後面的值\n",
    "                    dict_genuine_raw[find] = dict_genuine_raw.get(find,0)\n",
    "        else:\n",
    "            for find in finds:\n",
    "                if len(find)<ignore: continue\n",
    "                try:\n",
    "                    dict_genuine_raw[find] = dict_genuine_raw[find] + 1\n",
    "                except:\t\n",
    "                    dict_genuine_raw[find] = dict_genuine_raw.get(find,1)\n",
    "                    dict_spam_raw[find] = dict_spam_raw.get(find,0)\n",
    "\n",
    "        word_set = set()\n",
    "        for find in finds:\n",
    "            if not(find in word_set):\n",
    "                if len(find)<ignore: continue\n",
    "                try:\n",
    "                    dict_IDF[find] = dict_IDF[find] + 1\n",
    "                except:\t\n",
    "                    dict_IDF[find] = dict_IDF.get(find,1)\n",
    "            word_set.add(find)\n",
    "    word_df = pd.DataFrame(list(zip(dict_genuine_raw.keys(),dict_genuine_raw.values(),dict_spam_raw.values(),dict_IDF.values())))\n",
    "    word_df.columns = ['keyword','genuine','spam','IDF']\n",
    "    word_df['genuine'] = word_df['genuine'].astype('float')/all_data[all_data['label']=='0'].shape[0]\n",
    "    word_df['spam'] = word_df['spam'].astype('float')/all_data[all_data['label']=='1'].shape[0]\n",
    "    word_df['IDF'] = np.log10(word_df.shape[0]/word_df['IDF'].astype('float'))\n",
    "    word_df['genuine_IDF'] = word_df['genuine']*word_df['IDF']\n",
    "    word_df['spam_IDF'] = word_df['spam']*word_df['IDF']\n",
    "    word_df['diff']=word_df['spam_IDF']-word_df['genuine_IDF']\n",
    "    selected_spam_key = word_df.sort_values('diff',ascending=False)  \n",
    "    keyword_dict = dict()\n",
    "    i = 0\n",
    "    for word in selected_spam_key.head(size_table).keyword:\n",
    "        keyword_dict.update({word.strip():i})\n",
    "        i+=1\n",
    "    return keyword_dict   \n",
    "# build a tabu list based on the training data\n",
    "size_table = 200               # 多少特徵維度去分類SPAM\n",
    "word_len_ignored = 2            # 忽略那些比這個還要小的字詞\n",
    "keyword_dict=generate_key_list(positive_spam, size_table, word_len_ignored)"
   ]
  },
  {
   "cell_type": "code",
   "execution_count": 11,
   "metadata": {},
   "outputs": [
    {
     "name": "stdout",
     "output_type": "stream",
     "text": [
      "公司:0\n",
      "負責人:1\n",
      "經理:2\n",
      "財務:3\n",
      "您好:4\n",
      "粵豐:5\n",
      "實業:6\n",
      "有限公司:7\n",
      "廣州:8\n",
      "東莞:9\n",
      "分公司:10\n",
      "我司:11\n",
      "實力:12\n",
      "雄厚:13\n",
      "有著:14\n",
      "良好:15\n",
      "社會關:16\n",
      "進項:17\n",
      "多現:18\n",
      "完成:19\n",
      "每月:20\n",
      "售額度:21\n",
      "一部分:22\n",
      "增值:23\n",
      "稅電腦:24\n",
      "發票:25\n",
      "左右:26\n",
      "普通商品:27\n",
      "銷售稅:28\n",
      "國稅:29\n",
      "地稅:30\n",
      "優惠代開:31\n",
      "作點:32\n",
      "數較:33\n",
      "低還:34\n",
      "數量:35\n",
      "額度:36\n",
      "大小:37\n",
      "商討:38\n",
      "優惠:39\n",
      "點數:40\n",
      "鄭重:41\n",
      "承諾:42\n",
      "所用:43\n",
      "真票:44\n",
      "希望:45\n",
      "能夠:46\n",
      "機會:47\n",
      "貴司:48\n",
      "如貴司:49\n",
      "疑慮:50\n",
      "擔心:51\n",
      "可上:52\n",
      "網查證:53\n",
      "直接:54\n",
      "稅務局:55\n",
      "抵扣:56\n",
      "核對:57\n",
      "閤作:58\n",
      "一次:59\n",
      "永久:60\n",
      "朋友:61\n",
      "信息:62\n",
      "有效:63\n",
      "如須:64\n",
      "一步:65\n",
      "洽商:66\n",
      "詳情:67\n",
      "電小時:68\n",
      "業務:69\n",
      "郵箱:70\n",
      "劉漢文:71\n",
      "順祝:72\n",
      "商祺:73\n",
      "尊敬:74\n",
      "首祝貴:75\n",
      "生意:76\n",
      "興隆:77\n",
      "財源:78\n",
      "廣進:79\n",
      "華誠實業:80\n",
      "外資:81\n",
      "企業:82\n",
      "信譽:83\n",
      "司進:84\n",
      "餘額:85\n",
      "外代:86\n",
      "稅發票:87\n",
      "稅點:88\n",
      "普通:89\n",
      "廣告:90\n",
      "運輸:91\n",
      "建築安裝:92\n",
      "所開:93\n",
      "網查詢:94\n",
      "稅務驗證:95\n",
      "歡迎:96\n",
      "電詢:97\n",
      "林先生:98\n",
      "電話:99\n",
      "手機:100\n",
      "冒昧:101\n",
      "之處:102\n",
      "敬請:103\n",
      "願諒:104\n",
      "領導:105\n",
      "現有:106\n",
      "抵帳:107\n",
      "新叉車:108\n",
      "裝載機:109\n",
      "無用:110\n",
      "現以:111\n",
      "優惠價格:112\n",
      "市場:113\n",
      "半價:114\n",
      "如貴:115\n",
      "需要:116\n",
      "請速:117\n",
      "北京:118\n",
      "偉光:119\n",
      "機械:120\n",
      "侯經理:121\n",
      "地址:122\n",
      "北京市:123\n",
      "朝陽區:124\n",
      "化工:125\n",
      "南路:126\n",
      "你好:127\n",
      "源華:128\n",
      "可代開:129\n",
      "問謝謝:130\n",
      "張偉明:131\n",
      "電子:132\n",
      "信箱:133\n",
      "惠源:134\n",
      "成立:135\n",
      "全國:136\n",
      "各大中:137\n",
      "城市:138\n",
      "業務範圍:139\n",
      "廣泛:140\n",
      "銷售:141\n",
      "閤理:142\n",
      "開代:143\n",
      "開範圍:144\n",
      "商品:145\n",
      "服務租賃:146\n",
      "建築安裝餐:147\n",
      "定額:148\n",
      "最高:149\n",
      "點及:150\n",
      "海關:151\n",
      "繳款:152\n",
      "開稅率:153\n",
      "增大:154\n",
      "衡量:155\n",
      "優惠點數:156\n",
      "下調:157\n",
      "電來:158\n",
      "作將:159\n",
      "永遠成:160\n",
      "目標:161\n",
      "有望:162\n",
      "各界人士:163\n",
      "大力支持:164\n",
      "謝謝:165\n",
      "科英達:166\n",
      "現因:167\n",
      "衝減:168\n",
      "代徵:169\n",
      "稅專用:170\n",
      "對外:171\n",
      "另有:172\n",
      "最新:173\n",
      "電腦版:174\n",
      "代開:175\n",
      "根據數:176\n",
      "目的:177\n",
      "票據:178\n",
      "驗證:179\n",
      "郵垂詢:180\n",
      "電話聯:181\n",
      "張敏:182\n",
      "州市:183\n",
      "雅信:184\n",
      "貿易:185\n",
      "因業務:186\n",
      "原因:187\n",
      "剩餘:188\n",
      "部分:189\n",
      "稅和:190\n",
      "代開點:191\n",
      "數低:192\n",
      "項方:193\n",
      "可來:194\n",
      "電谘:195\n",
      "李生:196\n",
      "順頌:197\n",
      "廣東雅信:198\n",
      "本郵件:199\n"
     ]
    }
   ],
   "source": [
    "#排序越前面的代表出現在SPAM的機率越大\n",
    "for key,value in keyword_dict.items():\n",
    "    print('{key}:{value}'.format(key = key, value = value))"
   ]
  },
  {
   "cell_type": "code",
   "execution_count": 12,
   "metadata": {},
   "outputs": [
    {
     "data": {
      "text/html": [
       "<div>\n",
       "<style scoped>\n",
       "    .dataframe tbody tr th:only-of-type {\n",
       "        vertical-align: middle;\n",
       "    }\n",
       "\n",
       "    .dataframe tbody tr th {\n",
       "        vertical-align: top;\n",
       "    }\n",
       "\n",
       "    .dataframe thead th {\n",
       "        text-align: right;\n",
       "    }\n",
       "</style>\n",
       "<table border=\"1\" class=\"dataframe\">\n",
       "  <thead>\n",
       "    <tr style=\"text-align: right;\">\n",
       "      <th></th>\n",
       "      <th>label</th>\n",
       "      <th>text</th>\n",
       "      <th>truth</th>\n",
       "    </tr>\n",
       "  </thead>\n",
       "  <tbody>\n",
       "    <tr>\n",
       "      <th>10370</th>\n",
       "      <td>0</td>\n",
       "      <td>大哥 原來 男朋友 北京 倒車 女朋友 幫買 車票 鍾 車到 瞭 北京 點多 車離京 女朋友...</td>\n",
       "      <td>0</td>\n",
       "    </tr>\n",
       "    <tr>\n",
       "      <th>5999</th>\n",
       "      <td>0</td>\n",
       "      <td>您好 德諾特 實業 有限公司 公司 現有 額外 發票 代開 詳情 公司 現有 額外 發票 增...</td>\n",
       "      <td>1</td>\n",
       "    </tr>\n",
       "    <tr>\n",
       "      <th>10358</th>\n",
       "      <td>0</td>\n",
       "      <td>以下 文字 轉載 自討論區 發信 人 吆喝 信區 標題 今天 看電視 說 一個 一個 人 隻...</td>\n",
       "      <td>0</td>\n",
       "    </tr>\n",
       "    <tr>\n",
       "      <th>8428</th>\n",
       "      <td>0</td>\n",
       "      <td>收到 過花 冰箱 裏 估計現 扔 瞭 今天 晚上 點多 纍 瞭 一整天 踉踉 蹌蹌 迴 傢 ...</td>\n",
       "      <td>0</td>\n",
       "    </tr>\n",
       "    <tr>\n",
       "      <th>5235</th>\n",
       "      <td>0</td>\n",
       "      <td>尊敬 女士 先生 您好 請 原諒 方式 給您帶 實惠 長 途電話 卡特 價郵票 優惠 好消息...</td>\n",
       "      <td>1</td>\n",
       "    </tr>\n",
       "  </tbody>\n",
       "</table>\n",
       "</div>"
      ],
      "text/plain": [
       "      label                                               text truth\n",
       "10370     0  大哥 原來 男朋友 北京 倒車 女朋友 幫買 車票 鍾 車到 瞭 北京 點多 車離京 女朋友...     0\n",
       "5999      0  您好 德諾特 實業 有限公司 公司 現有 額外 發票 代開 詳情 公司 現有 額外 發票 增...     1\n",
       "10358     0  以下 文字 轉載 自討論區 發信 人 吆喝 信區 標題 今天 看電視 說 一個 一個 人 隻...     0\n",
       "8428      0  收到 過花 冰箱 裏 估計現 扔 瞭 今天 晚上 點多 纍 瞭 一整天 踉踉 蹌蹌 迴 傢 ...     0\n",
       "5235      0  尊敬 女士 先生 您好 請 原諒 方式 給您帶 實惠 長 途電話 卡特 價郵票 優惠 好消息...     1"
      ]
     },
     "execution_count": 12,
     "metadata": {},
     "output_type": "execute_result"
    }
   ],
   "source": [
    "unlabeled_train = trainlabel[trainlabel=='0'].index\n",
    "unlabeled_data = train_set[unlabeled_train]\n",
    "unlabeled_df = pd.DataFrame(\n",
    "    {\n",
    "        'text':unlabeled_data, \n",
    "        'label':trainlabel[unlabeled_train],\n",
    "        'truth':trainlabel_orig[unlabeled_train]\n",
    "    })\n",
    "unlabeled_df.head()"
   ]
  },
  {
   "cell_type": "code",
   "execution_count": 13,
   "metadata": {},
   "outputs": [
    {
     "data": {
      "text/html": [
       "<div>\n",
       "<style scoped>\n",
       "    .dataframe tbody tr th:only-of-type {\n",
       "        vertical-align: middle;\n",
       "    }\n",
       "\n",
       "    .dataframe tbody tr th {\n",
       "        vertical-align: top;\n",
       "    }\n",
       "\n",
       "    .dataframe thead th {\n",
       "        text-align: right;\n",
       "    }\n",
       "</style>\n",
       "<table border=\"1\" class=\"dataframe\">\n",
       "  <thead>\n",
       "    <tr style=\"text-align: right;\">\n",
       "      <th></th>\n",
       "      <th>label</th>\n",
       "      <th>text</th>\n",
       "      <th>truth</th>\n",
       "    </tr>\n",
       "  </thead>\n",
       "  <tbody>\n",
       "    <tr>\n",
       "      <th>8287</th>\n",
       "      <td>0</td>\n",
       "      <td>分特 你老 媽啊 一定 先 糊嚕 走 用什麼 手段 長 痛 短痛 孩子 生完 瞭 再 接 迴...</td>\n",
       "      <td>0</td>\n",
       "    </tr>\n",
       "    <tr>\n",
       "      <th>10570</th>\n",
       "      <td>0</td>\n",
       "      <td>尊敬 先生 小姐 您好 感謝 抽 時間 查看 以下 信息 公司 一直 緻 力 研 發 生 産...</td>\n",
       "      <td>1</td>\n",
       "    </tr>\n",
       "    <tr>\n",
       "      <th>5353</th>\n",
       "      <td>1</td>\n",
       "      <td>公司 財務 經理 您好 富華 實業 有限公司 年 月經 工商局 注冊 成立 集 生 産 銷售...</td>\n",
       "      <td>1</td>\n",
       "    </tr>\n",
       "    <tr>\n",
       "      <th>7338</th>\n",
       "      <td>0</td>\n",
       "      <td>尊敬 公司 經理 財務部 你好 廣 州市 盛華 實業 有限公司 公司 普通商品 銷售 發票 ...</td>\n",
       "      <td>1</td>\n",
       "    </tr>\n",
       "    <tr>\n",
       "      <th>6308</th>\n",
       "      <td>0</td>\n",
       "      <td>知道 分析 原因 似乎 討厭 繁文 縟 節的 人 我覺 婚禮 要求 親戚 請 吃 一頓 飯 ...</td>\n",
       "      <td>0</td>\n",
       "    </tr>\n",
       "    <tr>\n",
       "      <th>14666</th>\n",
       "      <td>0</td>\n",
       "      <td>感謝 開本 郵件 祝您 工作 順利 生意 興隆 這是 一封 善意 郵件 造成 不便 敬請 原...</td>\n",
       "      <td>1</td>\n",
       "    </tr>\n",
       "    <tr>\n",
       "      <th>4616</th>\n",
       "      <td>1</td>\n",
       "      <td>公司 負責人 經理 財務 您好 達明 實業 有限公司 廣州 東莞 市 分公司 我司 實力 雄...</td>\n",
       "      <td>1</td>\n",
       "    </tr>\n",
       "    <tr>\n",
       "      <th>7157</th>\n",
       "      <td>0</td>\n",
       "      <td>說 小喜 歡變 形金剛 時要 二十 塊 錢 一個 算是 很貴 東西 瞭 一直 昨天 天津 玩...</td>\n",
       "      <td>0</td>\n",
       "    </tr>\n",
       "    <tr>\n",
       "      <th>5824</th>\n",
       "      <td>0</td>\n",
       "      <td>颱 灣 公司 傢 不錯 公司 薪水 待遇 不錯 麵 試 兩周 後 迴 復 瞭 一個 問題 原...</td>\n",
       "      <td>0</td>\n",
       "    </tr>\n",
       "    <tr>\n",
       "      <th>12372</th>\n",
       "      <td>1</td>\n",
       "      <td>使用 郵件 主題給 寫信 第一 網站 確實 好 全免 費網 站 感覺 好 請 記住 網址 一...</td>\n",
       "      <td>1</td>\n",
       "    </tr>\n",
       "  </tbody>\n",
       "</table>\n",
       "</div>"
      ],
      "text/plain": [
       "      label                                               text truth\n",
       "8287      0  分特 你老 媽啊 一定 先 糊嚕 走 用什麼 手段 長 痛 短痛 孩子 生完 瞭 再 接 迴...     0\n",
       "10570     0  尊敬 先生 小姐 您好 感謝 抽 時間 查看 以下 信息 公司 一直 緻 力 研 發 生 産...     1\n",
       "5353      1  公司 財務 經理 您好 富華 實業 有限公司 年 月經 工商局 注冊 成立 集 生 産 銷售...     1\n",
       "7338      0  尊敬 公司 經理 財務部 你好 廣 州市 盛華 實業 有限公司 公司 普通商品 銷售 發票 ...     1\n",
       "6308      0  知道 分析 原因 似乎 討厭 繁文 縟 節的 人 我覺 婚禮 要求 親戚 請 吃 一頓 飯 ...     0\n",
       "14666     0  感謝 開本 郵件 祝您 工作 順利 生意 興隆 這是 一封 善意 郵件 造成 不便 敬請 原...     1\n",
       "4616      1  公司 負責人 經理 財務 您好 達明 實業 有限公司 廣州 東莞 市 分公司 我司 實力 雄...     1\n",
       "7157      0  說 小喜 歡變 形金剛 時要 二十 塊 錢 一個 算是 很貴 東西 瞭 一直 昨天 天津 玩...     0\n",
       "5824      0  颱 灣 公司 傢 不錯 公司 薪水 待遇 不錯 麵 試 兩周 後 迴 復 瞭 一個 問題 原...     0\n",
       "12372     1  使用 郵件 主題給 寫信 第一 網站 確實 好 全免 費網 站 感覺 好 請 記住 網址 一...     1"
      ]
     },
     "execution_count": 13,
     "metadata": {},
     "output_type": "execute_result"
    }
   ],
   "source": [
    "all_data = pd.concat([positive_spam,unlabeled_df],axis=0, ignore_index=False)  #將ham lsit與spam list串起來\n",
    "all_data = all_data.sample(frac=1) #sample frac = 1 是把數據都打亂\n",
    "all_data.head(10)\n"
   ]
  },
  {
   "cell_type": "code",
   "execution_count": 14,
   "metadata": {},
   "outputs": [
    {
     "data": {
      "text/plain": [
       "(4024,)"
      ]
     },
     "execution_count": 14,
     "metadata": {},
     "output_type": "execute_result"
    }
   ],
   "source": [
    "# all_data.loc[positive_train[:]]\n",
    "all_data['truth'] = trainlabel_orig\n",
    "all_data['label'][all_data['label']==\"1\"].shape"
   ]
  },
  {
   "cell_type": "code",
   "execution_count": 15,
   "metadata": {},
   "outputs": [
    {
     "data": {
      "text/plain": [
       "(4024,)"
      ]
     },
     "execution_count": 15,
     "metadata": {},
     "output_type": "execute_result"
    }
   ],
   "source": [
    " all_data['label'][all_data['label'] == '1'].shape"
   ]
  },
  {
   "cell_type": "code",
   "execution_count": 517,
   "metadata": {},
   "outputs": [
    {
     "data": {
      "text/plain": [
       "Int64Index([12927, 14426,  4492, 14064,  2595,  8697,  1612, 13244, 13715,\n",
       "            14615,\n",
       "            ...\n",
       "             3263,  3975, 14051,  1211, 10869,  6954,  9920,  8039,  3806,\n",
       "             4587],\n",
       "           dtype='int64', length=3200)"
      ]
     },
     "execution_count": 517,
     "metadata": {},
     "output_type": "execute_result"
    }
   ],
   "source": [
    "unlabeled_size = 3200\n",
    "sp_index=[]\n",
    "sp_index = all_data['label'].loc[\n",
    "    np.random.choice(\n",
    "        all_data['label'][all_data['label'] == '1'].index, \n",
    "        replace = False, \n",
    "        size = unlabeled_size\n",
    "    )\n",
    "].index\n",
    "sp_index\n",
    "# all_data.loc[positive_train[:]]"
   ]
  },
  {
   "cell_type": "code",
   "execution_count": 518,
   "metadata": {},
   "outputs": [
    {
     "data": {
      "text/plain": [
       "(3200,)"
      ]
     },
     "execution_count": 518,
     "metadata": {},
     "output_type": "execute_result"
    }
   ],
   "source": [
    "all_data['label'].loc[sp_index[:]] = 0 #SP\n",
    "all_data['label'].loc[sp_index[:]].shape\n"
   ]
  },
  {
   "cell_type": "markdown",
   "metadata": {},
   "source": [
    "# -------------------------------SP  上面"
   ]
  },
  {
   "cell_type": "code",
   "execution_count": 519,
   "metadata": {},
   "outputs": [],
   "source": [
    "def convert_Content(text, keyword_dict):\n",
    "    #判斷是否有此特徵\n",
    "    m = len(keyword_dict) #維度數量\n",
    "    res = np.int_(np.zeros(m)) #建置一個幾維度的向量\n",
    "    finds = text.split(\" \") #將文本內容切割(類似中文斷詞)\n",
    "    for find in finds:\n",
    "        try:\n",
    "            #若比對完有此特徵則特徵改為1\n",
    "            i = keyword_dict[find] \n",
    "            res[i]=1\n",
    "        except:\n",
    "            continue\n",
    "    return res\n",
    "def raw2feature(all_data,keyword_dict):\n",
    "    n_all_data = all_data.shape[0]\n",
    "    m = len(keyword_dict)\n",
    "    X_all_data = np.zeros((n_all_data,m));\n",
    "    Y_all_data = np.int_(all_data.label=='1')\n",
    "    for i in range(n_all_data):\n",
    "        X_all_data[i,:] = convert_Content(all_data.iloc[i].text, keyword_dict)\n",
    "    return [X_all_data,Y_all_data]\n",
    "     \n",
    "all_data_matrix=raw2feature(all_data,keyword_dict)"
   ]
  },
  {
   "cell_type": "code",
   "execution_count": 520,
   "metadata": {},
   "outputs": [
    {
     "data": {
      "text/plain": [
       "(424,)"
      ]
     },
     "execution_count": 520,
     "metadata": {},
     "output_type": "execute_result"
    }
   ],
   "source": [
    "# positive_train  正樣本的index\n",
    "# unlabeled_train 未標記樣本的index\n",
    "# all_train 混合完的index\n",
    "all_data_matrix[1][all_data_matrix[1]==1].shape"
   ]
  },
  {
   "cell_type": "markdown",
   "metadata": {},
   "source": [
    "# 使用NB計算他們的機率"
   ]
  },
  {
   "cell_type": "code",
   "execution_count": 521,
   "metadata": {},
   "outputs": [],
   "source": [
    "# 使用一般的算法\n",
    "from sklearn.naive_bayes import GaussianNB\n",
    "model_NB = GaussianNB(priors=None)\n",
    "model_NB.fit(all_data_matrix[0], all_data_matrix[1])\n",
    "# 儲存次方法給定的分數\n",
    "results = pd.DataFrame({\n",
    "    'truth'      : all_data['truth'],   # 真實標籤\n",
    "    'label'      : all_data['label'],        # 預測標籤\n",
    "    'output_std' : model_NB.predict_proba(all_data_matrix[0])[:,0],   # 隨機森林分數(求屬於標籤1的概率)\n",
    "}, columns = ['truth', 'label', 'output_std'])\n",
    "# print(results)"
   ]
  },
  {
   "cell_type": "markdown",
   "metadata": {},
   "source": []
  },
  {
   "cell_type": "code",
   "execution_count": null,
   "metadata": {},
   "outputs": [],
   "source": []
  },
  {
   "cell_type": "code",
   "execution_count": 522,
   "metadata": {},
   "outputs": [
    {
     "data": {
      "text/html": [
       "<div>\n",
       "<style scoped>\n",
       "    .dataframe tbody tr th:only-of-type {\n",
       "        vertical-align: middle;\n",
       "    }\n",
       "\n",
       "    .dataframe tbody tr th {\n",
       "        vertical-align: top;\n",
       "    }\n",
       "\n",
       "    .dataframe thead th {\n",
       "        text-align: right;\n",
       "    }\n",
       "</style>\n",
       "<table border=\"1\" class=\"dataframe\">\n",
       "  <thead>\n",
       "    <tr style=\"text-align: right;\">\n",
       "      <th></th>\n",
       "      <th>truth</th>\n",
       "      <th>label</th>\n",
       "      <th>output_std</th>\n",
       "    </tr>\n",
       "  </thead>\n",
       "  <tbody>\n",
       "    <tr>\n",
       "      <th>12927</th>\n",
       "      <td>1</td>\n",
       "      <td>0</td>\n",
       "      <td>3.123374e-17</td>\n",
       "    </tr>\n",
       "    <tr>\n",
       "      <th>14426</th>\n",
       "      <td>1</td>\n",
       "      <td>0</td>\n",
       "      <td>1.368813e-44</td>\n",
       "    </tr>\n",
       "    <tr>\n",
       "      <th>4492</th>\n",
       "      <td>1</td>\n",
       "      <td>0</td>\n",
       "      <td>1.817768e-15</td>\n",
       "    </tr>\n",
       "    <tr>\n",
       "      <th>14064</th>\n",
       "      <td>1</td>\n",
       "      <td>0</td>\n",
       "      <td>5.445859e-39</td>\n",
       "    </tr>\n",
       "    <tr>\n",
       "      <th>2595</th>\n",
       "      <td>1</td>\n",
       "      <td>0</td>\n",
       "      <td>4.096991e-29</td>\n",
       "    </tr>\n",
       "  </tbody>\n",
       "</table>\n",
       "</div>"
      ],
      "text/plain": [
       "      truth label    output_std\n",
       "12927     1     0  3.123374e-17\n",
       "14426     1     0  1.368813e-44\n",
       "4492      1     0  1.817768e-15\n",
       "14064     1     0  5.445859e-39\n",
       "2595      1     0  4.096991e-29"
      ]
     },
     "execution_count": 522,
     "metadata": {},
     "output_type": "execute_result"
    }
   ],
   "source": [
    "results.loc[sp_index[:]].head()\n"
   ]
  },
  {
   "cell_type": "code",
   "execution_count": 523,
   "metadata": {},
   "outputs": [
    {
     "data": {
      "image/png": "[encoded data removed]",
      "text/plain": [
       "<matplotlib.figure.Figure at 0x16659b0c198>"
      ]
     },
     "metadata": {},
     "output_type": "display_data"
    },
    {
     "name": "stdout",
     "output_type": "stream",
     "text": [
      "(3102,)\n"
     ]
    }
   ],
   "source": [
    "from scipy import stats\n",
    "sp_data = results['output_std'].loc[sp_index[:]]\n",
    "sp_counts = len(results['output_std'].loc[sp_index[:]])\n",
    "sp_mean = results['output_std'].loc[sp_index[:]].mean()\n",
    "sp_std = results['output_std'].loc[sp_index[:]].std()\n",
    "# 绘制概率密度分布图\n",
    "x = np.arange(0, 1, 0.001)\n",
    "# PDF是概率密度函数\n",
    "y = stats.norm.pdf(x, loc=sp_mean, scale=sp_std)\n",
    "plt.plot(x, y)\n",
    "plt.hist(sp_data, bins=10, rwidth=0.9, normed=True)\n",
    "plt.show()\n",
    "print(results['output_std'].loc[sp_index[:]][results['output_std']<0.5].shape)"
   ]
  },
  {
   "cell_type": "code",
   "execution_count": null,
   "metadata": {},
   "outputs": [],
   "source": []
  },
  {
   "cell_type": "code",
   "execution_count": 524,
   "metadata": {},
   "outputs": [
    {
     "name": "stdout",
     "output_type": "stream",
     "text": [
      "(-0.14030029453422507, 0.20132222612876732)\n",
      "0.8528225806451613\n",
      "(-0.14751014147946434, 0.20853207307400654)\n",
      "0.8528225806451613\n",
      "(-0.1550481325624251, 0.2160700641569673)\n",
      "0.8528225806451613\n",
      "(-0.16296156996898523, 0.22398350156352753)\n",
      "0.8528225806451613\n",
      "(-0.1713085161679981, 0.23233044776254033)\n",
      "0.8528225806451613\n",
      "(-0.18016141918022816, 0.24118335077477038)\n",
      "0.8528225806451613\n",
      "(-0.18961242181561963, 0.25063435341016194)\n",
      "0.8528225806451613\n",
      "(-0.19978139848188972, 0.26080333007643186)\n",
      "0.8528225806451613\n",
      "(-0.2108286103925116, 0.27185054198705383)\n",
      "0.8528225806451613\n",
      "(-0.2229756119304549, 0.2839975435249971)\n",
      "0.8528225806451613\n",
      "(-0.2365419096508531, 0.2975638412453953)\n",
      "0.8528225806451613\n"
     ]
    }
   ],
   "source": [
    "from scipy import stats\n",
    "ci = 0.68\n",
    "for i in range(11):\n",
    "    conf_intveral = stats.norm.interval(ci, loc=sp_mean, scale=sp_std) #數字為信賴區間\n",
    "    ci += 0.02\n",
    "    print(conf_intveral)\n",
    "    t=[]\n",
    "    t = sp_data[sp_data<conf_intveral[1]]\n",
    "    t = t[t>conf_intveral[0]]\n",
    "    RN = results\n",
    "    RN = RN[(~RN.index.isin(sp_index))] #去除U中的SP\n",
    "    RN_index = RN['output_std'][RN['output_std']>=max(t)].index\n",
    "    print(1-np.int_(RN['truth'].loc[RN_index[:]]).mean())\n",
    "    \n",
    "    \n",
    "# 函数曲线下68.268949%的面积在平均数左右的一个标准差范围内\n",
    "\n",
    "# 函数曲线下95.449974%的面积在平均数左右两个标准差的范围内\n",
    "\n",
    "# 函数曲线下99.730020%的面积在平均数左右三个标准差的范围内\n",
    "\n",
    "# 函数曲线下99.993666%的面积在平均数左右四个标准差的范围内"
   ]
  },
  {
   "cell_type": "code",
   "execution_count": 525,
   "metadata": {},
   "outputs": [
    {
     "data": {
      "text/plain": [
       "1.0"
      ]
     },
     "execution_count": 525,
     "metadata": {},
     "output_type": "execute_result"
    }
   ],
   "source": [
    "max(sp_data)"
   ]
  },
  {
   "cell_type": "code",
   "execution_count": 526,
   "metadata": {},
   "outputs": [
    {
     "data": {
      "text/plain": [
       "0.011836508007179584"
      ]
     },
     "execution_count": 526,
     "metadata": {},
     "output_type": "execute_result"
    }
   ],
   "source": [
    "t = sp_data[sp_data<conf_intveral[1]]\n",
    "t = t[t>conf_intveral[0]]\n",
    "max(t)"
   ]
  },
  {
   "cell_type": "code",
   "execution_count": 527,
   "metadata": {},
   "outputs": [
    {
     "data": {
      "text/plain": [
       "(3200, 3)"
      ]
     },
     "execution_count": 527,
     "metadata": {},
     "output_type": "execute_result"
    }
   ],
   "source": [
    "results.loc[sp_index].shape"
   ]
  },
  {
   "cell_type": "code",
   "execution_count": 528,
   "metadata": {},
   "outputs": [
    {
     "data": {
      "text/plain": [
       "0.88125"
      ]
     },
     "execution_count": 528,
     "metadata": {},
     "output_type": "execute_result"
    }
   ],
   "source": [
    "RN = results\n",
    "RN = RN[(~RN.index.isin(positive_train))] #去除全部中的SP.P剩下U\n",
    "RN_index = RN['output_std'][RN['output_std']>=max(t)].index\n",
    "1-np.int_(RN['truth'].loc[RN_index[:]]).mean()"
   ]
  },
  {
   "cell_type": "code",
   "execution_count": 529,
   "metadata": {},
   "outputs": [
    {
     "data": {
      "text/plain": [
       "(480,)"
      ]
     },
     "execution_count": 529,
     "metadata": {},
     "output_type": "execute_result"
    }
   ],
   "source": [
    "RN_index.shape"
   ]
  },
  {
   "cell_type": "markdown",
   "metadata": {},
   "source": [
    "# 下面是將test資料轉換為矩陣"
   ]
  },
  {
   "cell_type": "code",
   "execution_count": 530,
   "metadata": {},
   "outputs": [],
   "source": [
    "test_data = pd.DataFrame({\n",
    "    'text'      : test_set,   # 真實標籤\n",
    "    'label'      : testlabel,        # 預測標籤\n",
    "}, columns = ['text', 'label'])"
   ]
  },
  {
   "cell_type": "code",
   "execution_count": 531,
   "metadata": {},
   "outputs": [],
   "source": [
    "#將測試及轉為稀疏矩陣，是舊的TFIDF\n",
    "test_data_matrix = raw2feature(test_data,keyword_dict)"
   ]
  },
  {
   "cell_type": "code",
   "execution_count": 532,
   "metadata": {},
   "outputs": [
    {
     "name": "stdout",
     "output_type": "stream",
     "text": [
      "Testing Accuarcy: 54.36％ (sklearn.naive_bayes)\n"
     ]
    }
   ],
   "source": [
    "def test_func(test,testlabel,model):\n",
    "    Y_hat = model.predict(test)\n",
    "    n=np.size(testlabel)\n",
    "    print ('Testing Accuarcy: {:.2f}％ ({})'.format(sum(np.int_(Y_hat==testlabel))*100./n,model.__module__))\n",
    "# Test Model using testing data\n",
    "\n",
    "test_func(test_data_matrix[0],test_data_matrix[1],model_NB)"
   ]
  },
  {
   "cell_type": "markdown",
   "metadata": {},
   "source": [
    "# 下面是提取RN後用P和RN重新訓練"
   ]
  },
  {
   "cell_type": "code",
   "execution_count": 533,
   "metadata": {},
   "outputs": [],
   "source": [
    "all_data.loc[positive_train]\n",
    "all_data.loc[RN_index]\n",
    "all_data['label'].loc[sp_index] = '1'\n",
    "new_all_data=[]\n",
    "new_all_data = pd.concat([all_data.loc[positive_train],all_data.loc[RN_index]])"
   ]
  },
  {
   "cell_type": "code",
   "execution_count": 534,
   "metadata": {},
   "outputs": [],
   "source": [
    "new_keyword_dict=generate_key_list(all_data, size_table, word_len_ignored) #TFIDF"
   ]
  },
  {
   "cell_type": "code",
   "execution_count": 535,
   "metadata": {},
   "outputs": [
    {
     "data": {
      "text/plain": [
       "GaussianNB(priors=None, var_smoothing=1e-09)"
      ]
     },
     "execution_count": 535,
     "metadata": {},
     "output_type": "execute_result"
    }
   ],
   "source": [
    "new_all_data_matrix = raw2feature(new_all_data,keyword_dict)\n",
    "from sklearn.naive_bayes import GaussianNB\n",
    "NBPU = GaussianNB(priors=None)\n",
    "NBPU.fit(new_all_data_matrix[0], new_all_data_matrix[1])"
   ]
  },
  {
   "cell_type": "code",
   "execution_count": 536,
   "metadata": {},
   "outputs": [
    {
     "name": "stdout",
     "output_type": "stream",
     "text": [
      "Testing Accuarcy: 74.53％ (sklearn.naive_bayes)\n"
     ]
    }
   ],
   "source": [
    "test_func(test_data_matrix[0],test_data_matrix[1],NBPU)"
   ]
  },
  {
   "cell_type": "code",
   "execution_count": 537,
   "metadata": {},
   "outputs": [
    {
     "data": {
      "text/plain": [
       "(3624,)"
      ]
     },
     "execution_count": 537,
     "metadata": {},
     "output_type": "execute_result"
    }
   ],
   "source": [
    "all_data['label'][all_data['label']==\"1\"].shape"
   ]
  },
  {
   "cell_type": "code",
   "execution_count": 538,
   "metadata": {},
   "outputs": [
    {
     "data": {
      "image/png": "[encoded data removed]",
      "text/plain": [
       "<matplotlib.figure.Figure at 0x16659f13c88>"
      ]
     },
     "metadata": {},
     "output_type": "display_data"
    }
   ],
   "source": [
    "import matplotlib.pyplot as plt\n",
    "plt.rcParams['font.size'] = 16\n",
    "plt.rcParams['figure.figsize'] = 15, 8\n",
    "x = [400, 800, 1200, 1600,2000,2400,2800,3200]\n",
    "y_std = [0.6748, 0.7668, 0.6707, 0.7336,0.6442,0.7008,0.7453,0.7808]\n",
    "y_stdpu = [0.7237, 0.7911, 0.7309, 0.7727,0.6963,0.7763,0.7790,0.8221]\n",
    "plt.xlim(0, 4000)\n",
    "plt.ylim(0.3, 1)\n",
    "plt.plot(x, y_std, marker='', mec='b', mfc='w' ,lw = 5)\n",
    "plt.plot(x, y_stdpu, marker='', mec='b', mfc='w' ,lw = 5)\n",
    "plt.legend([\n",
    "    'supervised NB', \n",
    "    'Spy-pu NB'\n",
    "])  # 让图例生效\n",
    "# plt.xticks(x, names, rotation=45)\n",
    "plt.margins(0)\n",
    "plt.subplots_adjust(bottom=0.15)\n",
    "plt.xlabel(u\"Spy Positive Data\") #X轴标签\n",
    "plt.ylabel(\"Experiment Accuracy\") #Y轴标签\n",
    "plt.title(\"Performance of the two approaches\") #标题\n",
    "plt.savefig(\"classifier \")\n",
    "plt.grid()\n",
    "plt.show()"
   ]
  },
  {
   "cell_type": "code",
   "execution_count": null,
   "metadata": {},
   "outputs": [],
   "source": [
    "\n"
   ]
  },
  {
   "cell_type": "code",
   "execution_count": null,
   "metadata": {},
   "outputs": [],
   "source": []
  },
  {
   "cell_type": "code",
   "execution_count": null,
   "metadata": {},
   "outputs": [],
   "source": []
  },
  {
   "cell_type": "code",
   "execution_count": null,
   "metadata": {},
   "outputs": [],
   "source": []
  }
 ],
 "metadata": {
  "kernelspec": {
   "display_name": "Python 3",
   "language": "python",
   "name": "python3"
  },
  "language_info": {
   "codemirror_mode": {
    "name": "ipython",
    "version": 3
   },
   "file_extension": ".py",
   "mimetype": "text/x-python",
   "name": "python",
   "nbconvert_exporter": "python",
   "pygments_lexer": "ipython3",
   "version": "3.6.4"
  }
 },
 "nbformat": 4,
 "nbformat_minor": 2
}
