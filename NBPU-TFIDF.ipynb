{
 "cells": [
  {
   "cell_type": "markdown",
   "metadata": {},
   "source": [
    "# 匯入一些套件還有匯入文檔"
   ]
  },
  {
   "cell_type": "code",
   "execution_count": 61,
   "metadata": {},
   "outputs": [
    {
     "name": "stdout",
     "output_type": "stream",
     "text": [
      "Populating the interactive namespace from numpy and matplotlib\n",
      "spam total： 7775\n",
      "ham total： 7063\n"
     ]
    },
    {
     "name": "stderr",
     "output_type": "stream",
     "text": [
      "C:\\Users\\zxc98\\Anaconda3\\lib\\site-packages\\IPython\\core\\magics\\pylab.py:160: UserWarning: pylab import has clobbered these variables: ['text', 'f']\n",
      "`%matplotlib` prevents importing * from pylab and numpy\n",
      "  \"\\n`%matplotlib` prevents importing * from pylab and numpy\"\n"
     ]
    }
   ],
   "source": [
    "%pylab inline\n",
    "import time\n",
    "import re\n",
    "import matplotlib.pyplot as plt\n",
    "import pandas as pd\n",
    "import string\n",
    "import codecs\n",
    "import os\n",
    "import jieba\n",
    "from sklearn.feature_extraction.text import CountVectorizer\n",
    "from wordcloud import WordCloud\n",
    "from sklearn import naive_bayes as bayes\n",
    "from sklearn.model_selection import train_test_split\n",
    "#簡轉繁\n",
    "from hanziconv import HanziConv\n",
    "\n",
    "#ham與spam的每封郵件list\n",
    "ham_text = []\n",
    "spam_text = []\n",
    "#ham與spam的數據集\n",
    "ham_data = []\n",
    "spam_data = []\n",
    "#取得目前工作目錄\n",
    "SaveDirectory = os.getcwd() \n",
    "#獲得文檔列表\n",
    "listham = os.listdir(SaveDirectory+'\\\\data\\\\normal')\n",
    "listspam = os.listdir(SaveDirectory+'\\\\data\\\\spam')\n",
    "#數據集數量\n",
    "\n",
    "print('spam total：',len(listspam))\n",
    "print('ham total：',len(listham))\n"
   ]
  },
  {
   "cell_type": "markdown",
   "metadata": {},
   "source": [
    "# 先匯入HAM文檔並給予label = 0"
   ]
  },
  {
   "cell_type": "code",
   "execution_count": 62,
   "metadata": {},
   "outputs": [
    {
     "data": {
      "text/html": [
       "<div>\n",
       "<style scoped>\n",
       "    .dataframe tbody tr th:only-of-type {\n",
       "        vertical-align: middle;\n",
       "    }\n",
       "\n",
       "    .dataframe tbody tr th {\n",
       "        vertical-align: top;\n",
       "    }\n",
       "\n",
       "    .dataframe thead th {\n",
       "        text-align: right;\n",
       "    }\n",
       "</style>\n",
       "<table border=\"1\" class=\"dataframe\">\n",
       "  <thead>\n",
       "    <tr style=\"text-align: right;\">\n",
       "      <th></th>\n",
       "      <th>text</th>\n",
       "      <th>label</th>\n",
       "    </tr>\n",
       "  </thead>\n",
       "  <tbody>\n",
       "    <tr>\n",
       "      <th>0</th>\n",
       "      <td>這事兒還有續集 因為我姐她們買房子後來裝修的時候沒錢她婆婆他們就贊助瞭萬塊 這下一吵她婆婆就...</td>\n",
       "      <td>0</td>\n",
       "    </tr>\n",
       "    <tr>\n",
       "      <th>1</th>\n",
       "      <td>越發覺得這個姐夫不錯瞭 那萬還是趕緊還瞭吧 標題姐姐快要生孩子瞭很感慨 發信站水木社區站內 ...</td>\n",
       "      <td>0</td>\n",
       "    </tr>\n",
       "    <tr>\n",
       "      <th>2</th>\n",
       "      <td>或許某些農村吧 在一個當性彆勞動力富裕程度的地方還是可以理解的 標題姐姐快要生孩子瞭很感慨 ...</td>\n",
       "      <td>0</td>\n",
       "    </tr>\n",
       "    <tr>\n",
       "      <th>3</th>\n",
       "      <td>最近經常看到你說一些很武斷的話 所謂保胎確實是要躺在床上不能動的尤其是先兆流産有齣血的時候 ...</td>\n",
       "      <td>0</td>\n",
       "    </tr>\n",
       "    <tr>\n",
       "      <th>4</th>\n",
       "      <td>他們分手是說性格不閤 沒多久然後我們交往 還算比較愉快 當初因為他經常和聯係我曾跟他吵過多次...</td>\n",
       "      <td>0</td>\n",
       "    </tr>\n",
       "  </tbody>\n",
       "</table>\n",
       "</div>"
      ],
      "text/plain": [
       "                                                text label\n",
       "0  這事兒還有續集 因為我姐她們買房子後來裝修的時候沒錢她婆婆他們就贊助瞭萬塊 這下一吵她婆婆就...     0\n",
       "1  越發覺得這個姐夫不錯瞭 那萬還是趕緊還瞭吧 標題姐姐快要生孩子瞭很感慨 發信站水木社區站內 ...     0\n",
       "2  或許某些農村吧 在一個當性彆勞動力富裕程度的地方還是可以理解的 標題姐姐快要生孩子瞭很感慨 ...     0\n",
       "3  最近經常看到你說一些很武斷的話 所謂保胎確實是要躺在床上不能動的尤其是先兆流産有齣血的時候 ...     0\n",
       "4  他們分手是說性格不閤 沒多久然後我們交往 還算比較愉快 當初因為他經常和聯係我曾跟他吵過多次...     0"
      ]
     },
     "execution_count": 62,
     "metadata": {},
     "output_type": "execute_result"
    }
   ],
   "source": [
    "for fileName in listham:\n",
    "        with open('data/normal/'+fileName, 'r',encoding='gbk') as f:\n",
    "            #文本每一列儲存\n",
    "            text=[]\n",
    "            # 過濾非中文字符，正規化\n",
    "            for line in f.readlines():\n",
    "                pattern = re.compile('[^\\u4e00-\\u9fa5]') #正規化(去除非中文字符)\n",
    "                line = pattern.sub(\"\", line) #將其他字符取代為\"\"\n",
    "                content = line.strip().split() #去除一些空白.換行\n",
    "                text = text+content #儲存這個文本的內容\n",
    "            text = \" \".join(text) #將文本內容list加入全部文本的list\n",
    "            ham_text.append(HanziConv.toTraditional(text)) #簡轉繁\n",
    "ham_data = pd.DataFrame(ham_text,columns=['text']) #將list改成dataframe\n",
    "ham_data['label']='0' #將資料類別加上 0:ham 1:spam\n",
    "ham_data.head()\n"
   ]
  },
  {
   "cell_type": "markdown",
   "metadata": {},
   "source": [
    "# 先匯入SPAM文檔並給予label = 1"
   ]
  },
  {
   "cell_type": "code",
   "execution_count": 63,
   "metadata": {},
   "outputs": [
    {
     "data": {
      "text/html": [
       "<div>\n",
       "<style scoped>\n",
       "    .dataframe tbody tr th:only-of-type {\n",
       "        vertical-align: middle;\n",
       "    }\n",
       "\n",
       "    .dataframe tbody tr th {\n",
       "        vertical-align: top;\n",
       "    }\n",
       "\n",
       "    .dataframe thead th {\n",
       "        text-align: right;\n",
       "    }\n",
       "</style>\n",
       "<table border=\"1\" class=\"dataframe\">\n",
       "  <thead>\n",
       "    <tr style=\"text-align: right;\">\n",
       "      <th></th>\n",
       "      <th>text</th>\n",
       "      <th>label</th>\n",
       "    </tr>\n",
       "  </thead>\n",
       "  <tbody>\n",
       "    <tr>\n",
       "      <th>0</th>\n",
       "      <td>會員注冊邀請書 全國最低價域名空間大放送 國際頂級域名注冊驚暴價元年元年連續注冊年以上 國傢...</td>\n",
       "      <td>1</td>\n",
       "    </tr>\n",
       "    <tr>\n",
       "      <th>1</th>\n",
       "      <td>你好 以茶會友以茶聯誼喝茶就喝安溪鐵觀音 本廠是專業生産批發各等級鐵觀音茶葉的購買聯係 在綫...</td>\n",
       "      <td>1</td>\n",
       "    </tr>\n",
       "    <tr>\n",
       "      <th>2</th>\n",
       "      <td>尊敬的先生小姐 您好 首先感謝您抽時間查看以下信息 我公司一直緻力於研發生産銷售施工環氧樹脂...</td>\n",
       "      <td>1</td>\n",
       "    </tr>\n",
       "    <tr>\n",
       "      <th>3</th>\n",
       "      <td>先生 你好 批發麻醉藥催情藥墮胎藥避孕藥飲料型噴霧型香煙型揮發型等各類國際國內製藥企業推齣的...</td>\n",
       "      <td>1</td>\n",
       "    </tr>\n",
       "    <tr>\n",
       "      <th>4</th>\n",
       "      <td>貴公司負責人經理財務您好 我是深圳市創偉實業有限公司的我司實力雄厚有著良 好的社會關係也有部...</td>\n",
       "      <td>1</td>\n",
       "    </tr>\n",
       "  </tbody>\n",
       "</table>\n",
       "</div>"
      ],
      "text/plain": [
       "                                                text label\n",
       "0  會員注冊邀請書 全國最低價域名空間大放送 國際頂級域名注冊驚暴價元年元年連續注冊年以上 國傢...     1\n",
       "1  你好 以茶會友以茶聯誼喝茶就喝安溪鐵觀音 本廠是專業生産批發各等級鐵觀音茶葉的購買聯係 在綫...     1\n",
       "2  尊敬的先生小姐 您好 首先感謝您抽時間查看以下信息 我公司一直緻力於研發生産銷售施工環氧樹脂...     1\n",
       "3  先生 你好 批發麻醉藥催情藥墮胎藥避孕藥飲料型噴霧型香煙型揮發型等各類國際國內製藥企業推齣的...     1\n",
       "4  貴公司負責人經理財務您好 我是深圳市創偉實業有限公司的我司實力雄厚有著良 好的社會關係也有部...     1"
      ]
     },
     "execution_count": 63,
     "metadata": {},
     "output_type": "execute_result"
    }
   ],
   "source": [
    "for fileName in listspam:\n",
    "        with open('data/spam/'+fileName, 'r',encoding='gbk') as f:\n",
    "            text=[]\n",
    "            # 过滤掉非中文字符\n",
    "            for line in f.readlines():\n",
    "                pattern = re.compile('[^\\u4e00-\\u9fa5]')\n",
    "                line = pattern.sub(\"\", line)\n",
    "                content = line.strip().split()\n",
    "                text = text+content\n",
    "            text = \" \".join(text)\n",
    "            spam_text.append(HanziConv.toTraditional(text))\n",
    "spam_data = pd.DataFrame(spam_text,columns=['text'])\n",
    "spam_data['label']='1'\n",
    "spam_data.head()"
   ]
  },
  {
   "cell_type": "markdown",
   "metadata": {},
   "source": [
    "# 把匯入的 SPAM與HAM結合並打亂"
   ]
  },
  {
   "cell_type": "code",
   "execution_count": 64,
   "metadata": {},
   "outputs": [
    {
     "name": "stdout",
     "output_type": "stream",
     "text": [
      "data shape： (14838, 2)\n",
      "spams in rows： 7775\n",
      "hams in rows： 7063\n"
     ]
    },
    {
     "data": {
      "text/html": [
       "<div>\n",
       "<style scoped>\n",
       "    .dataframe tbody tr th:only-of-type {\n",
       "        vertical-align: middle;\n",
       "    }\n",
       "\n",
       "    .dataframe tbody tr th {\n",
       "        vertical-align: top;\n",
       "    }\n",
       "\n",
       "    .dataframe thead th {\n",
       "        text-align: right;\n",
       "    }\n",
       "</style>\n",
       "<table border=\"1\" class=\"dataframe\">\n",
       "  <thead>\n",
       "    <tr style=\"text-align: right;\">\n",
       "      <th></th>\n",
       "      <th>text</th>\n",
       "      <th>label</th>\n",
       "    </tr>\n",
       "  </thead>\n",
       "  <tbody>\n",
       "    <tr>\n",
       "      <th>0</th>\n",
       "      <td>貴公司負責人經理財務您好 我是深圳市金利嘉實業有限公司因全國各地分公司的進項較多現完成不瞭每...</td>\n",
       "      <td>1</td>\n",
       "    </tr>\n",
       "    <tr>\n",
       "      <th>1</th>\n",
       "      <td>貴公司負責人經理財務您好 深圳市昌隆有限公司受多傢公司委托嚮外低點代開部分增值稅電腦發票左右...</td>\n",
       "      <td>1</td>\n",
       "    </tr>\n",
       "    <tr>\n",
       "      <th>2</th>\n",
       "      <td>年最新暢銷圖書特書幾百個品種一律特價書銷售歡迎全國各書商來電來函 索取書目 注明暢銷書 北京...</td>\n",
       "      <td>1</td>\n",
       "    </tr>\n",
       "    <tr>\n",
       "      <th>3</th>\n",
       "      <td>以下文字轉載自討論區 發信人命中注定信區 標題請問這是推遲截稿時間嗎 發信站水木社區站內 請...</td>\n",
       "      <td>0</td>\n",
       "    </tr>\n",
       "    <tr>\n",
       "      <th>4</th>\n",
       "      <td>不同意 孔雀是我看過的最好的國産片之一 這種電影是需要細細體味的你可以說他情節瑣碎但這就是生...</td>\n",
       "      <td>0</td>\n",
       "    </tr>\n",
       "    <tr>\n",
       "      <th>5</th>\n",
       "      <td>這首歌不錯 彌漫的煙霧中我看到你那張憂鬱的臉 你說齣什麼樣的理由啊你與我告彆 是朋友啊是戀人...</td>\n",
       "      <td>0</td>\n",
       "    </tr>\n",
       "  </tbody>\n",
       "</table>\n",
       "</div>"
      ],
      "text/plain": [
       "                                                text label\n",
       "0  貴公司負責人經理財務您好 我是深圳市金利嘉實業有限公司因全國各地分公司的進項較多現完成不瞭每...     1\n",
       "1  貴公司負責人經理財務您好 深圳市昌隆有限公司受多傢公司委托嚮外低點代開部分增值稅電腦發票左右...     1\n",
       "2  年最新暢銷圖書特書幾百個品種一律特價書銷售歡迎全國各書商來電來函 索取書目 注明暢銷書 北京...     1\n",
       "3  以下文字轉載自討論區 發信人命中注定信區 標題請問這是推遲截稿時間嗎 發信站水木社區站內 請...     0\n",
       "4  不同意 孔雀是我看過的最好的國産片之一 這種電影是需要細細體味的你可以說他情節瑣碎但這就是生...     0\n",
       "5  這首歌不錯 彌漫的煙霧中我看到你那張憂鬱的臉 你說齣什麼樣的理由啊你與我告彆 是朋友啊是戀人...     0"
      ]
     },
     "execution_count": 64,
     "metadata": {},
     "output_type": "execute_result"
    }
   ],
   "source": [
    "all_data = pd.concat([spam_data,ham_data],axis=0, ignore_index=True)  #將ham lsit與spam list串起來\n",
    "all_data = all_data.sample(frac=1).reset_index(drop=True) #sample frac = 1 是把數據都打亂 resr_index是把index也重設\n",
    "print('data shape：',all_data.shape)\n",
    "print('spams in rows：',all_data.loc[all_data['label']==\"1\"].shape[0])\n",
    "print('hams in rows：',all_data.loc[all_data['label']==\"0\"].shape[0])\n",
    "all_data.head(6)"
   ]
  },
  {
   "cell_type": "markdown",
   "metadata": {},
   "source": [
    "# 接著載入停詞表及斷詞"
   ]
  },
  {
   "cell_type": "code",
   "execution_count": 65,
   "metadata": {},
   "outputs": [],
   "source": [
    "#載入 停用詞 (stopwords) 自動過濾掉某些字或詞\n",
    "stopwords = codecs.open(os.path.join(SaveDirectory+'\\data', 'stopwords_tr.txt'), 'r', 'utf-8').read().split('\\r\\n')\n",
    "#下面斷詞\n",
    "processed_texts = []\n",
    "for text in all_data[\"text\"]:\n",
    "    words = []\n",
    "    seg_list = jieba.cut(text) #利用Jieba斷詞\n",
    "    for seg in seg_list: \n",
    "        # isalpha()檢測詞是否由字符組成，且不在停用詞的list中\n",
    "        if (seg.isalpha()) & (seg not in stopwords):\n",
    "            words.append(seg)\n",
    "    sentence = \" \".join(words)\n",
    "    processed_texts.append(sentence)\n",
    "all_data[\"text\"] = processed_texts #利用過濾且斷好的詞取代文本\n"
   ]
  },
  {
   "cell_type": "markdown",
   "metadata": {},
   "source": [
    "# 接著將資料切成訓練及與測試集"
   ]
  },
  {
   "cell_type": "code",
   "execution_count": 66,
   "metadata": {},
   "outputs": [],
   "source": [
    "#traindate & testdata\n",
    "train_set, test_set, trainlabel, testlabel = train_test_split(all_data[\"text\"], all_data[\"label\"], test_size = 0.15)"
   ]
  },
  {
   "cell_type": "code",
   "execution_count": 67,
   "metadata": {},
   "outputs": [
    {
     "name": "stdout",
     "output_type": "stream",
     "text": [
      "train:12612\n",
      "test:2226\n"
     ]
    },
    {
     "data": {
      "text/plain": [
       "(6561,)"
      ]
     },
     "execution_count": 67,
     "metadata": {},
     "output_type": "execute_result"
    }
   ],
   "source": [
    "print(\"train:\"+str(len(train_set)))\n",
    "print(\"test:\"+str(len(test_set)))\n",
    "trainlabel[trainlabel=='1'].shape"
   ]
  },
  {
   "cell_type": "code",
   "execution_count": 68,
   "metadata": {},
   "outputs": [
    {
     "data": {
      "text/plain": [
       "(3964,)"
      ]
     },
     "execution_count": 68,
     "metadata": {},
     "output_type": "execute_result"
    }
   ],
   "source": [
    "trainlabel_orig = trainlabel.copy()\n",
    "# 取消一些標記的數據\n",
    "unlabeled_size = 2597\n",
    "#loc可以選擇數據(把上面數量的POSTIVE DATA隱藏為UNLABELED DATA)\n",
    "trainlabel.loc[\n",
    "    np.random.choice(\n",
    "        trainlabel[trainlabel == '1'].index, \n",
    "        replace = False, \n",
    "        size = unlabeled_size\n",
    "    )\n",
    "] = '0'\n",
    "trainlabel[trainlabel=='1'].shape"
   ]
  },
  {
   "cell_type": "code",
   "execution_count": 69,
   "metadata": {},
   "outputs": [
    {
     "data": {
      "text/plain": [
       "(3964, 3)"
      ]
     },
     "execution_count": 69,
     "metadata": {},
     "output_type": "execute_result"
    }
   ],
   "source": [
    "positive_train = trainlabel[trainlabel=='1'].index\n",
    "positive_data = train_set[positive_train]\n",
    "positive_spam = pd.DataFrame(\n",
    "    {\n",
    "     'text':positive_data, \n",
    "     'label':trainlabel[positive_train],\n",
    "     'truth':trainlabel_orig[positive_train]\n",
    "    })\n",
    "positive_spam.shape\n"
   ]
  },
  {
   "cell_type": "code",
   "execution_count": 70,
   "metadata": {},
   "outputs": [],
   "source": [
    "import re\n",
    "def generate_key_list(all_data, size_table=200,ignore=2):\n",
    "    dict_spam_raw = dict()\n",
    "    dict_genuine_raw = dict()\n",
    "    dict_IDF = dict()\n",
    "\n",
    "    # 去除字母外的所有內容.\n",
    "    for i in range(all_data.shape[0]):\n",
    "        finds = all_data.iloc[i].text.split(\" \")\n",
    "        if all_data.iloc[i].label == '1':\n",
    "            for find in finds:\n",
    "                if len(find)<ignore: continue\n",
    "                try:\n",
    "                    dict_spam_raw[find] = dict_spam_raw[find] + 1\n",
    "                except:\t\n",
    "                    dict_spam_raw[find] = dict_spam_raw.get(find,1) #若是新的文字因為後面get找不到這個索引會返回逗點後面的值\n",
    "                    dict_genuine_raw[find] = dict_genuine_raw.get(find,0)\n",
    "        else:\n",
    "            for find in finds:\n",
    "                if len(find)<ignore: continue\n",
    "                try:\n",
    "                    dict_genuine_raw[find] = dict_genuine_raw[find] + 1\n",
    "                except:\t\n",
    "                    dict_genuine_raw[find] = dict_genuine_raw.get(find,1)\n",
    "                    dict_spam_raw[find] = dict_spam_raw.get(find,0)\n",
    "\n",
    "        word_set = set()\n",
    "        for find in finds:\n",
    "            if not(find in word_set):\n",
    "                if len(find)<ignore: continue\n",
    "                try:\n",
    "                    dict_IDF[find] = dict_IDF[find] + 1\n",
    "                except:\t\n",
    "                    dict_IDF[find] = dict_IDF.get(find,1)\n",
    "            word_set.add(find)\n",
    "    word_df = pd.DataFrame(list(zip(dict_genuine_raw.keys(),dict_genuine_raw.values(),dict_spam_raw.values(),dict_IDF.values())))\n",
    "    word_df.columns = ['keyword','genuine','spam','IDF']\n",
    "    word_df['genuine'] = word_df['genuine'].astype('float')/all_data[all_data['label']=='0'].shape[0]\n",
    "    word_df['spam'] = word_df['spam'].astype('float')/all_data[all_data['label']=='1'].shape[0]\n",
    "    word_df['IDF'] = np.log10(word_df.shape[0]/word_df['IDF'].astype('float'))\n",
    "    word_df['genuine_IDF'] = word_df['genuine']*word_df['IDF']\n",
    "    word_df['spam_IDF'] = word_df['spam']*word_df['IDF']\n",
    "    word_df['diff']=word_df['spam_IDF']-word_df['genuine_IDF']\n",
    "    selected_spam_key = word_df.sort_values('diff',ascending=False)  \n",
    "    keyword_dict = dict()\n",
    "    i = 0\n",
    "    for word in selected_spam_key.head(size_table).keyword:\n",
    "        keyword_dict.update({word.strip():i})\n",
    "        i+=1\n",
    "    return keyword_dict   \n",
    "# build a tabu list based on the training data\n",
    "size_table = 200               # 多少特徵維度去分類SPAM\n",
    "word_len_ignored = 2            # 忽略那些比這個還要小的字詞\n",
    "keyword_dict=generate_key_list(positive_spam, size_table, word_len_ignored)"
   ]
  },
  {
   "cell_type": "code",
   "execution_count": 71,
   "metadata": {},
   "outputs": [
    {
     "name": "stdout",
     "output_type": "stream",
     "text": [
      "加密:0\n",
      "一個:1\n",
      "窗口:2\n",
      "是否:3\n",
      "接受:4\n",
      "安全:5\n",
      "證書點擊:6\n",
      "直銷:7\n",
      "精雕:8\n",
      "油泥:9\n",
      "泥六層:10\n",
      "英泥:11\n",
      "模具:12\n",
      "雕塑:13\n",
      "羥基:14\n",
      "矽油:15\n",
      "二甲基:16\n",
      "水溶性:17\n",
      "常溫:18\n",
      "下質:19\n",
      "堅硬:20\n",
      "細琢適:21\n",
      "精品:22\n",
      "原型:23\n",
      "工業:24\n",
      "設計:25\n",
      "模型:26\n",
      "敏感:27\n",
      "微溫:28\n",
      "軟化:29\n",
      "塑形:30\n",
      "修補:31\n",
      "薄片:32\n",
      "泥土:33\n",
      "手溫:34\n",
      "即可:35\n",
      "簡便適:36\n",
      "教室:37\n",
      "教學:38\n",
      "習作:39\n",
      "沾手:40\n",
      "不收縮:41\n",
      "比目:42\n",
      "結土:43\n",
      "乾淨:44\n",
      "精密:45\n",
      "精密度:46\n",
      "高是:47\n",
      "工藝:48\n",
      "品業:49\n",
      "材料:50\n",
      "規格:51\n",
      "包裝:52\n",
      "片片:53\n",
      "實用:54\n",
      "技術:55\n",
      "轉讓:56\n",
      "沙岩:57\n",
      "列技術:58\n",
      "軟陶:59\n",
      "雕像:60\n",
      "免水:61\n",
      "洗手:62\n",
      "劑技術:63\n",
      "樹脂:64\n",
      "雕花:65\n",
      "成型:66\n",
      "肥皂:67\n",
      "公司:68\n",
      "網站:69\n",
      "人謝:70\n",
      "小姐:71\n",
      "電話:72\n",
      "傳真:73\n",
      "郵箱:74\n",
      "業務:75\n",
      "負責人:76\n",
      "經理:77\n",
      "財務:78\n",
      "您好:79\n",
      "華隆源:80\n",
      "實業:81\n",
      "有限公司:82\n",
      "廣州:83\n",
      "東莞:84\n",
      "分公司:85\n",
      "我司:86\n",
      "實力:87\n",
      "雄厚:88\n",
      "有著:89\n",
      "良好:90\n",
      "社會關:91\n",
      "進項:92\n",
      "多現:93\n",
      "完成:94\n",
      "每月:95\n",
      "售額度:96\n",
      "一部分:97\n",
      "增值:98\n",
      "稅電腦:99\n",
      "發票:100\n",
      "海關:101\n",
      "繳款:102\n",
      "左右:103\n",
      "普通商品:104\n",
      "銷售稅:105\n",
      "電腦:106\n",
      "運輸:107\n",
      "廣告:108\n",
      "租賃業:109\n",
      "服務業:110\n",
      "優惠代開:111\n",
      "作點:112\n",
      "數較:113\n",
      "低還:114\n",
      "數量:115\n",
      "額度:116\n",
      "大小:117\n",
      "商討優:118\n",
      "點數:119\n",
      "成立:120\n",
      "多年:121\n",
      "一直:122\n",
      "堅持:123\n",
      "以誠信:124\n",
      "中心:125\n",
      "核心思想:126\n",
      "牢固:127\n",
      "樹立:128\n",
      "形象:129\n",
      "真正:130\n",
      "做到:131\n",
      "閤作:132\n",
      "一次:133\n",
      "永久:134\n",
      "朋友:135\n",
      "鄭重:136\n",
      "承諾:137\n",
      "所用:138\n",
      "真票:139\n",
      "希望:140\n",
      "能夠:141\n",
      "機會:142\n",
      "貴司:143\n",
      "如貴司:144\n",
      "疑慮:145\n",
      "擔心:146\n",
      "可上:147\n",
      "網查證:148\n",
      "直接:149\n",
      "稅務局:150\n",
      "抵扣:151\n",
      "核對:152\n",
      "信息:153\n",
      "有效:154\n",
      "如須:155\n",
      "一步:156\n",
      "洽商:157\n",
      "詳情:158\n",
      "電小時:159\n",
      "人林振國:160\n",
      "順祝:161\n",
      "商祺:162\n",
      "金利:163\n",
      "嘉實業:164\n",
      "因全國:165\n",
      "各地:166\n",
      "銷售:167\n",
      "現有:168\n",
      "普通:169\n",
      "地方:170\n",
      "商品:171\n",
      "統一銷售:172\n",
      "電腦版:173\n",
      "公路:174\n",
      "內河:175\n",
      "國際運:176\n",
      "輸服務:177\n",
      "建築安裝定:178\n",
      "額租賃:179\n",
      "專用:180\n",
      "優惠代:181\n",
      "開還:182\n",
      "所開:183\n",
      "商討:184\n",
      "優惠:185\n",
      "謝謝:186\n",
      "稅務:187\n",
      "局驗證:188\n",
      "人林錦龍:189\n",
      "手機:190\n",
      "迪嘉實業:191\n",
      "本司:192\n",
      "全國:193\n",
      "設有:194\n",
      "如廣州:195\n",
      "等市:196\n",
      "最新:197\n",
      "版本:198\n",
      "服務廣告:199\n"
     ]
    }
   ],
   "source": [
    "#排序越前面的代表出現在SPAM的機率越大\n",
    "for key,value in keyword_dict.items():\n",
    "    print('{key}:{value}'.format(key = key, value = value))"
   ]
  },
  {
   "cell_type": "code",
   "execution_count": 72,
   "metadata": {},
   "outputs": [
    {
     "data": {
      "text/html": [
       "<div>\n",
       "<style scoped>\n",
       "    .dataframe tbody tr th:only-of-type {\n",
       "        vertical-align: middle;\n",
       "    }\n",
       "\n",
       "    .dataframe tbody tr th {\n",
       "        vertical-align: top;\n",
       "    }\n",
       "\n",
       "    .dataframe thead th {\n",
       "        text-align: right;\n",
       "    }\n",
       "</style>\n",
       "<table border=\"1\" class=\"dataframe\">\n",
       "  <thead>\n",
       "    <tr style=\"text-align: right;\">\n",
       "      <th></th>\n",
       "      <th>label</th>\n",
       "      <th>text</th>\n",
       "      <th>truth</th>\n",
       "    </tr>\n",
       "  </thead>\n",
       "  <tbody>\n",
       "    <tr>\n",
       "      <th>9795</th>\n",
       "      <td>0</td>\n",
       "      <td>放棄 月相 識然 後 算是 一見 鍾 情 瞭 後 月 裏 暗示 隱約 明示 大聲 錶 排斥 ...</td>\n",
       "      <td>0</td>\n",
       "    </tr>\n",
       "    <tr>\n",
       "      <th>1789</th>\n",
       "      <td>0</td>\n",
       "      <td>姐夫 拍桌子 瞭 姐 還梗 胎兒 超 男的誤 判成 女 女的誤 判成 男 原因 超看 第一性...</td>\n",
       "      <td>0</td>\n",
       "    </tr>\n",
       "    <tr>\n",
       "      <th>1787</th>\n",
       "      <td>0</td>\n",
       "      <td>背景 參考 問下 錶 拒絕 是不是 瞭 發信 人 小 小 信區 標題 問下 錶 拒絕 是不是...</td>\n",
       "      <td>0</td>\n",
       "    </tr>\n",
       "    <tr>\n",
       "      <th>12967</th>\n",
       "      <td>0</td>\n",
       "      <td>項目 管理者 聯盟 招聘 內容 編輯 一名 歡迎 傢 幫忙 推薦 工作 地點 北京市 德勝門...</td>\n",
       "      <td>0</td>\n",
       "    </tr>\n",
       "    <tr>\n",
       "      <th>5867</th>\n",
       "      <td>0</td>\n",
       "      <td>企業 短信 群發適 閤 慶典 通告 商品 促銷彈 指間將 信息 發到 數萬 客戶 手機 快捷...</td>\n",
       "      <td>1</td>\n",
       "    </tr>\n",
       "  </tbody>\n",
       "</table>\n",
       "</div>"
      ],
      "text/plain": [
       "      label                                               text truth\n",
       "9795      0  放棄 月相 識然 後 算是 一見 鍾 情 瞭 後 月 裏 暗示 隱約 明示 大聲 錶 排斥 ...     0\n",
       "1789      0  姐夫 拍桌子 瞭 姐 還梗 胎兒 超 男的誤 判成 女 女的誤 判成 男 原因 超看 第一性...     0\n",
       "1787      0  背景 參考 問下 錶 拒絕 是不是 瞭 發信 人 小 小 信區 標題 問下 錶 拒絕 是不是...     0\n",
       "12967     0  項目 管理者 聯盟 招聘 內容 編輯 一名 歡迎 傢 幫忙 推薦 工作 地點 北京市 德勝門...     0\n",
       "5867      0  企業 短信 群發適 閤 慶典 通告 商品 促銷彈 指間將 信息 發到 數萬 客戶 手機 快捷...     1"
      ]
     },
     "execution_count": 72,
     "metadata": {},
     "output_type": "execute_result"
    }
   ],
   "source": [
    "unlabeled_train = trainlabel[trainlabel=='0'].index\n",
    "unlabeled_data = train_set[unlabeled_train]\n",
    "unlabeled_df = pd.DataFrame(\n",
    "    {\n",
    "        'text':unlabeled_data, \n",
    "        'label':trainlabel[unlabeled_train],\n",
    "        'truth':trainlabel_orig[unlabeled_train]\n",
    "    })\n",
    "unlabeled_df.head()"
   ]
  },
  {
   "cell_type": "code",
   "execution_count": 73,
   "metadata": {},
   "outputs": [
    {
     "data": {
      "text/html": [
       "<div>\n",
       "<style scoped>\n",
       "    .dataframe tbody tr th:only-of-type {\n",
       "        vertical-align: middle;\n",
       "    }\n",
       "\n",
       "    .dataframe tbody tr th {\n",
       "        vertical-align: top;\n",
       "    }\n",
       "\n",
       "    .dataframe thead th {\n",
       "        text-align: right;\n",
       "    }\n",
       "</style>\n",
       "<table border=\"1\" class=\"dataframe\">\n",
       "  <thead>\n",
       "    <tr style=\"text-align: right;\">\n",
       "      <th></th>\n",
       "      <th>label</th>\n",
       "      <th>text</th>\n",
       "      <th>truth</th>\n",
       "    </tr>\n",
       "  </thead>\n",
       "  <tbody>\n",
       "    <tr>\n",
       "      <th>13844</th>\n",
       "      <td>0</td>\n",
       "      <td>您好 是廣 州市 實達 貿易 有限公司 現有 剩餘廣告 運輸 服務 商品 普通 發票 代開 ...</td>\n",
       "      <td>1</td>\n",
       "    </tr>\n",
       "    <tr>\n",
       "      <th>878</th>\n",
       "      <td>0</td>\n",
       "      <td>姑姑 是不是 奶奶 生 姑姑 孝順 媽媽關 係 好 好象 很小 知道 瞭 教育 問題 同學 ...</td>\n",
       "      <td>0</td>\n",
       "    </tr>\n",
       "    <tr>\n",
       "      <th>9718</th>\n",
       "      <td>1</td>\n",
       "      <td>專營 外貿 品牌 服飾 每一件 品牌 服飾 眼光 下 挑 選質量 保證 如有 質量 問題 包...</td>\n",
       "      <td>1</td>\n",
       "    </tr>\n",
       "    <tr>\n",
       "      <th>14510</th>\n",
       "      <td>0</td>\n",
       "      <td>公司 負責人 經理 財務 您好 昌隆 實業 有限公司 國內 部分 省市 設有 分公司 我司 ...</td>\n",
       "      <td>1</td>\n",
       "    </tr>\n",
       "    <tr>\n",
       "      <th>14793</th>\n",
       "      <td>1</td>\n",
       "      <td>緻 公司 負責人 財務 經理 您好 公司 受多 傢 公司 委托 可代開 手 寫 電腦 發票 ...</td>\n",
       "      <td>1</td>\n",
       "    </tr>\n",
       "    <tr>\n",
       "      <th>14070</th>\n",
       "      <td>1</td>\n",
       "      <td>尊敬 客戶 您好 方便 企事業 單位 公司 長 期承辦 以下 業務 需要 請聯 係 暫時 需...</td>\n",
       "      <td>1</td>\n",
       "    </tr>\n",
       "    <tr>\n",
       "      <th>5632</th>\n",
       "      <td>1</td>\n",
       "      <td>公司 負責人 經理 財務 您好 源順 實業 有限公司 廣州 東莞 市 分公司 我司 實力 雄...</td>\n",
       "      <td>1</td>\n",
       "    </tr>\n",
       "    <tr>\n",
       "      <th>6908</th>\n",
       "      <td>1</td>\n",
       "      <td>金屬 加工 刀具 夾具 應用 調 查 韆 人 統 計 結 果 金屬 加工 刀具 夾具 調查 ...</td>\n",
       "      <td>1</td>\n",
       "    </tr>\n",
       "    <tr>\n",
       "      <th>10244</th>\n",
       "      <td>0</td>\n",
       "      <td>推理 發現 整天 加班 工作 浪費 生命 標題 越來 越 發現 談戀 愛無 聊得 很浪費 生...</td>\n",
       "      <td>0</td>\n",
       "    </tr>\n",
       "    <tr>\n",
       "      <th>14555</th>\n",
       "      <td>1</td>\n",
       "      <td>激情 光盤 精美 包裝 清純 美少女 激情 床上 秀 熱血沸騰 無限暇 想 泰國 少男少女 ...</td>\n",
       "      <td>1</td>\n",
       "    </tr>\n",
       "  </tbody>\n",
       "</table>\n",
       "</div>"
      ],
      "text/plain": [
       "      label                                               text truth\n",
       "13844     0  您好 是廣 州市 實達 貿易 有限公司 現有 剩餘廣告 運輸 服務 商品 普通 發票 代開 ...     1\n",
       "878       0  姑姑 是不是 奶奶 生 姑姑 孝順 媽媽關 係 好 好象 很小 知道 瞭 教育 問題 同學 ...     0\n",
       "9718      1  專營 外貿 品牌 服飾 每一件 品牌 服飾 眼光 下 挑 選質量 保證 如有 質量 問題 包...     1\n",
       "14510     0  公司 負責人 經理 財務 您好 昌隆 實業 有限公司 國內 部分 省市 設有 分公司 我司 ...     1\n",
       "14793     1  緻 公司 負責人 財務 經理 您好 公司 受多 傢 公司 委托 可代開 手 寫 電腦 發票 ...     1\n",
       "14070     1  尊敬 客戶 您好 方便 企事業 單位 公司 長 期承辦 以下 業務 需要 請聯 係 暫時 需...     1\n",
       "5632      1  公司 負責人 經理 財務 您好 源順 實業 有限公司 廣州 東莞 市 分公司 我司 實力 雄...     1\n",
       "6908      1  金屬 加工 刀具 夾具 應用 調 查 韆 人 統 計 結 果 金屬 加工 刀具 夾具 調查 ...     1\n",
       "10244     0  推理 發現 整天 加班 工作 浪費 生命 標題 越來 越 發現 談戀 愛無 聊得 很浪費 生...     0\n",
       "14555     1  激情 光盤 精美 包裝 清純 美少女 激情 床上 秀 熱血沸騰 無限暇 想 泰國 少男少女 ...     1"
      ]
     },
     "execution_count": 73,
     "metadata": {},
     "output_type": "execute_result"
    }
   ],
   "source": [
    "all_data = pd.concat([positive_spam,unlabeled_df],axis=0, ignore_index=False)  #將ham lsit與spam list串起來\n",
    "all_data = all_data.sample(frac=1) #sample frac = 1 是把數據都打亂\n",
    "all_data.head(10)\n"
   ]
  },
  {
   "cell_type": "code",
   "execution_count": 74,
   "metadata": {},
   "outputs": [
    {
     "data": {
      "text/plain": [
       "(3964,)"
      ]
     },
     "execution_count": 74,
     "metadata": {},
     "output_type": "execute_result"
    }
   ],
   "source": [
    "# all_data.loc[positive_train[:]]\n",
    "all_data['truth'] = trainlabel_orig\n",
    "all_data['label'][all_data['label']==\"1\"].shape"
   ]
  },
  {
   "cell_type": "code",
   "execution_count": 75,
   "metadata": {},
   "outputs": [
    {
     "data": {
      "text/plain": [
       "(3964,)"
      ]
     },
     "execution_count": 75,
     "metadata": {},
     "output_type": "execute_result"
    }
   ],
   "source": [
    " all_data['label'][all_data['label'] == '1'].shape"
   ]
  },
  {
   "cell_type": "code",
   "execution_count": 76,
   "metadata": {},
   "outputs": [
    {
     "data": {
      "text/plain": [
       "Int64Index([14552,  4418,  9739,  4647, 11665,  7380,  8290,  3365, 11960,\n",
       "             4857,\n",
       "            ...\n",
       "             1634,  9915,  5527,  7353,  5158, 12763, 14327,  4066,  4739,\n",
       "             2464],\n",
       "           dtype='int64', length=1200)"
      ]
     },
     "execution_count": 76,
     "metadata": {},
     "output_type": "execute_result"
    }
   ],
   "source": [
    "unlabeled_size = 1200\n",
    "sp_index=[]\n",
    "sp_index = all_data['label'].loc[\n",
    "    np.random.choice(\n",
    "        all_data['label'][all_data['label'] == '1'].index, \n",
    "        replace = False, \n",
    "        size = unlabeled_size\n",
    "    )\n",
    "].index\n",
    "sp_index\n",
    "# all_data.loc[positive_train[:]]"
   ]
  },
  {
   "cell_type": "code",
   "execution_count": 77,
   "metadata": {},
   "outputs": [
    {
     "data": {
      "text/plain": [
       "(1200,)"
      ]
     },
     "execution_count": 77,
     "metadata": {},
     "output_type": "execute_result"
    }
   ],
   "source": [
    "all_data['label'].loc[sp_index[:]] = 0 #SP\n",
    "all_data['label'].loc[sp_index[:]].shape\n"
   ]
  },
  {
   "cell_type": "markdown",
   "metadata": {},
   "source": [
    "# -------------------------------SP  上面"
   ]
  },
  {
   "cell_type": "code",
   "execution_count": 78,
   "metadata": {},
   "outputs": [],
   "source": [
    "def convert_Content(text, keyword_dict):\n",
    "    #判斷是否有此特徵\n",
    "    m = len(keyword_dict) #維度數量\n",
    "    res = np.int_(np.zeros(m)) #建置一個幾維度的向量\n",
    "    finds = text.split(\" \") #將文本內容切割(類似中文斷詞)\n",
    "    for find in finds:\n",
    "        try:\n",
    "            #若比對完有此特徵則特徵改為1\n",
    "            i = keyword_dict[find] \n",
    "            res[i]=1\n",
    "        except:\n",
    "            continue\n",
    "    return res\n",
    "def raw2feature(all_data,keyword_dict):\n",
    "    n_all_data = all_data.shape[0]\n",
    "    m = len(keyword_dict)\n",
    "    X_all_data = np.zeros((n_all_data,m));\n",
    "    Y_all_data = np.int_(all_data.label=='1')\n",
    "    for i in range(n_all_data):\n",
    "        X_all_data[i,:] = convert_Content(all_data.iloc[i].text, keyword_dict)\n",
    "    return [X_all_data,Y_all_data]\n",
    "     \n",
    "all_data_matrix=raw2feature(all_data,keyword_dict)"
   ]
  },
  {
   "cell_type": "code",
   "execution_count": 79,
   "metadata": {},
   "outputs": [
    {
     "data": {
      "text/plain": [
       "(2764,)"
      ]
     },
     "execution_count": 79,
     "metadata": {},
     "output_type": "execute_result"
    }
   ],
   "source": [
    "# positive_train  正樣本的index\n",
    "# unlabeled_train 未標記樣本的index\n",
    "# all_train 混合完的index\n",
    "all_data_matrix[1][all_data_matrix[1]==1].shape"
   ]
  },
  {
   "cell_type": "markdown",
   "metadata": {},
   "source": [
    "# 使用NB計算他們的機率"
   ]
  },
  {
   "cell_type": "code",
   "execution_count": 80,
   "metadata": {},
   "outputs": [],
   "source": [
    "# 使用一般的算法\n",
    "from sklearn.naive_bayes import GaussianNB\n",
    "model_NB = GaussianNB(priors=None)\n",
    "model_NB.fit(all_data_matrix[0], all_data_matrix[1])\n",
    "# 儲存次方法給定的分數\n",
    "results = pd.DataFrame({\n",
    "    'truth'      : all_data['truth'],   # 真實標籤\n",
    "    'label'      : all_data['label'],        # 預測標籤\n",
    "    'output_std' : model_NB.predict_proba(all_data_matrix[0])[:,0],   # 隨機森林分數(求屬於標籤1的概率)\n",
    "}, columns = ['truth', 'label', 'output_std'])\n",
    "# print(results)"
   ]
  },
  {
   "cell_type": "markdown",
   "metadata": {},
   "source": []
  },
  {
   "cell_type": "code",
   "execution_count": null,
   "metadata": {},
   "outputs": [],
   "source": []
  },
  {
   "cell_type": "code",
   "execution_count": 81,
   "metadata": {},
   "outputs": [
    {
     "data": {
      "text/html": [
       "<div>\n",
       "<style scoped>\n",
       "    .dataframe tbody tr th:only-of-type {\n",
       "        vertical-align: middle;\n",
       "    }\n",
       "\n",
       "    .dataframe tbody tr th {\n",
       "        vertical-align: top;\n",
       "    }\n",
       "\n",
       "    .dataframe thead th {\n",
       "        text-align: right;\n",
       "    }\n",
       "</style>\n",
       "<table border=\"1\" class=\"dataframe\">\n",
       "  <thead>\n",
       "    <tr style=\"text-align: right;\">\n",
       "      <th></th>\n",
       "      <th>truth</th>\n",
       "      <th>label</th>\n",
       "      <th>output_std</th>\n",
       "    </tr>\n",
       "  </thead>\n",
       "  <tbody>\n",
       "    <tr>\n",
       "      <th>14552</th>\n",
       "      <td>1</td>\n",
       "      <td>0</td>\n",
       "      <td>7.295797e-03</td>\n",
       "    </tr>\n",
       "    <tr>\n",
       "      <th>4418</th>\n",
       "      <td>1</td>\n",
       "      <td>0</td>\n",
       "      <td>1.000000e+00</td>\n",
       "    </tr>\n",
       "    <tr>\n",
       "      <th>9739</th>\n",
       "      <td>1</td>\n",
       "      <td>0</td>\n",
       "      <td>1.000000e+00</td>\n",
       "    </tr>\n",
       "    <tr>\n",
       "      <th>4647</th>\n",
       "      <td>1</td>\n",
       "      <td>0</td>\n",
       "      <td>1.495599e-96</td>\n",
       "    </tr>\n",
       "    <tr>\n",
       "      <th>11665</th>\n",
       "      <td>1</td>\n",
       "      <td>0</td>\n",
       "      <td>1.000000e+00</td>\n",
       "    </tr>\n",
       "  </tbody>\n",
       "</table>\n",
       "</div>"
      ],
      "text/plain": [
       "      truth label    output_std\n",
       "14552     1     0  7.295797e-03\n",
       "4418      1     0  1.000000e+00\n",
       "9739      1     0  1.000000e+00\n",
       "4647      1     0  1.495599e-96\n",
       "11665     1     0  1.000000e+00"
      ]
     },
     "execution_count": 81,
     "metadata": {},
     "output_type": "execute_result"
    }
   ],
   "source": [
    "results.loc[sp_index[:]].head()\n"
   ]
  },
  {
   "cell_type": "code",
   "execution_count": 82,
   "metadata": {},
   "outputs": [
    {
     "data": {
      "image/png": "[encoded data removed]",
      "text/plain": [
       "<matplotlib.figure.Figure at 0x13431d0a390>"
      ]
     },
     "metadata": {},
     "output_type": "display_data"
    },
    {
     "name": "stdout",
     "output_type": "stream",
     "text": [
      "(398,)\n"
     ]
    }
   ],
   "source": [
    "from scipy import stats\n",
    "sp_data = results['output_std'].loc[sp_index[:]]\n",
    "sp_counts = len(results['output_std'].loc[sp_index[:]])\n",
    "sp_mean = results['output_std'].loc[sp_index[:]].mean()\n",
    "sp_std = results['output_std'].loc[sp_index[:]].std()\n",
    "# 绘制概率密度分布图\n",
    "x = np.arange(0, 1, 0.001)\n",
    "# PDF是概率密度函数\n",
    "y = stats.norm.pdf(x, loc=sp_mean, scale=sp_std)\n",
    "plt.plot(x, y)\n",
    "plt.hist(sp_data, bins=10, rwidth=0.9, normed=True)\n",
    "plt.show()\n",
    "print(results['output_std'].loc[sp_index[:]][results['output_std']<0.5].shape)"
   ]
  },
  {
   "cell_type": "code",
   "execution_count": null,
   "metadata": {},
   "outputs": [],
   "source": []
  },
  {
   "cell_type": "code",
   "execution_count": 83,
   "metadata": {},
   "outputs": [
    {
     "name": "stdout",
     "output_type": "stream",
     "text": [
      "(0.20121484061077144, 1.1318614997187866)\n",
      "0.6682986536107711\n",
      "(0.18157380535570344, 1.1515025349738544)\n",
      "0.6682986536107711\n",
      "(0.16103884119664003, 1.1720374991329179)\n",
      "0.6682986536107711\n",
      "(0.13948108771427903, 1.193595252615279)\n",
      "0.6682986536107711\n",
      "(0.11674237137090071, 1.2163339689586574)\n",
      "0.6682986536107711\n",
      "(0.09262532956771463, 1.2404510107618434)\n",
      "0.6682986536107711\n",
      "(0.0668789472426311, 1.266197393086927)\n",
      "0.6682986536107711\n",
      "(0.03917666302950251, 1.2938996773000553)\n",
      "0.6682986536107711\n",
      "(0.009081893992830326, 1.3239944463367277)\n",
      "0.6682986536107711\n",
      "(-0.024008917401944996, 1.357085257731503)\n",
      "0.6682986536107711\n",
      "(-0.06096616959202583, 1.3940425099215836)\n",
      "0.6682986536107711\n"
     ]
    }
   ],
   "source": [
    "from scipy import stats\n",
    "ci = 0.68\n",
    "for i in range(11):\n",
    "    conf_intveral = stats.norm.interval(ci, loc=sp_mean, scale=sp_std) #數字為信賴區間\n",
    "    ci += 0.02\n",
    "    print(conf_intveral)\n",
    "    t=[]\n",
    "    t = sp_data[sp_data<conf_intveral[1]]\n",
    "    t = t[t>conf_intveral[0]]\n",
    "    RN = results\n",
    "    RN = RN[(~RN.index.isin(sp_index))] #去除U中的SP\n",
    "    RN_index = RN['output_std'][RN['output_std']>=max(t)].index\n",
    "    print(1-np.int_(RN['truth'].loc[RN_index[:]]).mean())\n",
    "    \n",
    "    \n",
    "# 函数曲线下68.268949%的面积在平均数左右的一个标准差范围内\n",
    "\n",
    "# 函数曲线下95.449974%的面积在平均数左右两个标准差的范围内\n",
    "\n",
    "# 函数曲线下99.730020%的面积在平均数左右三个标准差的范围内\n",
    "\n",
    "# 函数曲线下99.993666%的面积在平均数左右四个标准差的范围内"
   ]
  },
  {
   "cell_type": "code",
   "execution_count": 84,
   "metadata": {},
   "outputs": [
    {
     "data": {
      "text/plain": [
       "1.0"
      ]
     },
     "execution_count": 84,
     "metadata": {},
     "output_type": "execute_result"
    }
   ],
   "source": [
    "max(sp_data)"
   ]
  },
  {
   "cell_type": "code",
   "execution_count": 85,
   "metadata": {},
   "outputs": [
    {
     "data": {
      "text/plain": [
       "1.0"
      ]
     },
     "execution_count": 85,
     "metadata": {},
     "output_type": "execute_result"
    }
   ],
   "source": [
    "t = sp_data[sp_data<conf_intveral[1]]\n",
    "t = t[t>conf_intveral[0]]\n",
    "max(t)"
   ]
  },
  {
   "cell_type": "code",
   "execution_count": 86,
   "metadata": {},
   "outputs": [
    {
     "data": {
      "text/plain": [
       "(1200, 3)"
      ]
     },
     "execution_count": 86,
     "metadata": {},
     "output_type": "execute_result"
    }
   ],
   "source": [
    "results.loc[sp_index].shape"
   ]
  },
  {
   "cell_type": "code",
   "execution_count": 87,
   "metadata": {},
   "outputs": [
    {
     "data": {
      "text/plain": [
       "0.8070411179790379"
      ]
     },
     "execution_count": 87,
     "metadata": {},
     "output_type": "execute_result"
    }
   ],
   "source": [
    "RN = results\n",
    "RN = RN[(~RN.index.isin(positive_train))] #去除全部中的SP.P剩下U\n",
    "RN_index = RN['output_std'][RN['output_std']>=max(t)].index\n",
    "1-np.int_(RN['truth'].loc[RN_index[:]]).mean()"
   ]
  },
  {
   "cell_type": "code",
   "execution_count": 88,
   "metadata": {},
   "outputs": [
    {
     "data": {
      "text/plain": [
       "(7442,)"
      ]
     },
     "execution_count": 88,
     "metadata": {},
     "output_type": "execute_result"
    }
   ],
   "source": [
    "RN_index.shape"
   ]
  },
  {
   "cell_type": "markdown",
   "metadata": {},
   "source": [
    "# 下面是將test資料轉換為矩陣"
   ]
  },
  {
   "cell_type": "code",
   "execution_count": 89,
   "metadata": {},
   "outputs": [],
   "source": [
    "test_data = pd.DataFrame({\n",
    "    'text'      : test_set,   # 真實標籤\n",
    "    'label'      : testlabel,        # 預測標籤\n",
    "}, columns = ['text', 'label'])"
   ]
  },
  {
   "cell_type": "code",
   "execution_count": 90,
   "metadata": {},
   "outputs": [],
   "source": [
    "#將測試及轉為稀疏矩陣，是舊的TFIDF\n",
    "test_data_matrix = raw2feature(test_data,keyword_dict)"
   ]
  },
  {
   "cell_type": "code",
   "execution_count": 91,
   "metadata": {},
   "outputs": [
    {
     "name": "stdout",
     "output_type": "stream",
     "text": [
      "Testing Accuarcy: 63.97％ (sklearn.naive_bayes)\n"
     ]
    }
   ],
   "source": [
    "def test_func(test,testlabel,model):\n",
    "    Y_hat = model.predict(test)\n",
    "    n=np.size(testlabel)\n",
    "    print ('Testing Accuarcy: {:.2f}％ ({})'.format(sum(np.int_(Y_hat==testlabel))*100./n,model.__module__))\n",
    "# Test Model using testing data\n",
    "\n",
    "test_func(test_data_matrix[0],test_data_matrix[1],model_NB)"
   ]
  },
  {
   "cell_type": "markdown",
   "metadata": {},
   "source": [
    "# 下面是提取RN後用P和RN重新訓練"
   ]
  },
  {
   "cell_type": "code",
   "execution_count": 92,
   "metadata": {},
   "outputs": [],
   "source": [
    "all_data.loc[positive_train]\n",
    "all_data.loc[RN_index]\n",
    "all_data['label'].loc[sp_index] = '1'\n",
    "new_all_data=[]\n",
    "new_all_data = pd.concat([all_data.loc[positive_train],all_data.loc[RN_index]])"
   ]
  },
  {
   "cell_type": "code",
   "execution_count": 93,
   "metadata": {},
   "outputs": [],
   "source": [
    "new_keyword_dict=generate_key_list(all_data, size_table, word_len_ignored) #TFIDF"
   ]
  },
  {
   "cell_type": "code",
   "execution_count": 94,
   "metadata": {},
   "outputs": [
    {
     "data": {
      "text/plain": [
       "GaussianNB(priors=None, var_smoothing=1e-09)"
      ]
     },
     "execution_count": 94,
     "metadata": {},
     "output_type": "execute_result"
    }
   ],
   "source": [
    "new_all_data_matrix = raw2feature(new_all_data,keyword_dict)\n",
    "from sklearn.naive_bayes import GaussianNB\n",
    "NBPU = GaussianNB(priors=None)\n",
    "NBPU.fit(new_all_data_matrix[0], new_all_data_matrix[1])"
   ]
  },
  {
   "cell_type": "code",
   "execution_count": 95,
   "metadata": {},
   "outputs": [
    {
     "name": "stdout",
     "output_type": "stream",
     "text": [
      "Testing Accuarcy: 70.71％ (sklearn.naive_bayes)\n"
     ]
    }
   ],
   "source": [
    "test_func(test_data_matrix[0],test_data_matrix[1],NBPU)"
   ]
  },
  {
   "cell_type": "code",
   "execution_count": 96,
   "metadata": {},
   "outputs": [
    {
     "data": {
      "text/plain": [
       "(3964,)"
      ]
     },
     "execution_count": 96,
     "metadata": {},
     "output_type": "execute_result"
    }
   ],
   "source": [
    "all_data['label'][all_data['label']==\"1\"].shape"
   ]
  },
  {
   "cell_type": "code",
   "execution_count": 99,
   "metadata": {},
   "outputs": [
    {
     "data": {
      "image/png": "[encoded data removed]",
      "text/plain": [
       "<matplotlib.figure.Figure at 0x134341851d0>"
      ]
     },
     "metadata": {},
     "output_type": "display_data"
    }
   ],
   "source": [
    "import matplotlib.pyplot as plt\n",
    "plt.rcParams['font.size'] = 16\n",
    "plt.rcParams['figure.figsize'] = 15, 8\n",
    "x = [400, 800, 1200, 1600,2000,2400,2800,3200]\n",
    "y_std = [0.7453, 0.7134, 0.6397, 0.6995,0.6891,0.5611,0.6069,0.5436]\n",
    "y_stdpu = [0.7803, 0.7799, 0.7071, 0.7767,0.7794,0.7278,0.8028,0.7453]\n",
    "plt.xlim(0, 4000)\n",
    "plt.ylim(0.3, 1)\n",
    "plt.plot(x, y_std, marker='', mec='b', mfc='w' ,lw = 5)\n",
    "plt.plot(x, y_stdpu, marker='', mec='b', mfc='w' ,lw = 5)\n",
    "plt.legend([\n",
    "    'supervised NB', \n",
    "    'Spy-pu NB'\n",
    "])  # 让图例生效\n",
    "# plt.xticks(x, names, rotation=45)\n",
    "plt.margins(0)\n",
    "plt.subplots_adjust(bottom=0.15)\n",
    "plt.xlabel(u\"Spy Positive Data\") #X轴标签\n",
    "plt.ylabel(\"Experiment Accuracy\") #Y轴标签\n",
    "plt.title(\"Performance of the two approaches\") #标题\n",
    "plt.savefig(\"NBPU \")\n",
    "plt.grid()\n",
    "plt.show()"
   ]
  },
  {
   "cell_type": "code",
   "execution_count": null,
   "metadata": {},
   "outputs": [],
   "source": []
  },
  {
   "cell_type": "code",
   "execution_count": null,
   "metadata": {},
   "outputs": [],
   "source": []
  },
  {
   "cell_type": "code",
   "execution_count": null,
   "metadata": {},
   "outputs": [],
   "source": []
  },
  {
   "cell_type": "code",
   "execution_count": null,
   "metadata": {},
   "outputs": [],
   "source": []
  },
  {
   "cell_type": "code",
   "execution_count": null,
   "metadata": {},
   "outputs": [],
   "source": []
  },
  {
   "cell_type": "code",
   "execution_count": null,
   "metadata": {},
   "outputs": [],
   "source": []
  },
  {
   "cell_type": "code",
   "execution_count": null,
   "metadata": {},
   "outputs": [],
   "source": []
  },
  {
   "cell_type": "code",
   "execution_count": null,
   "metadata": {},
   "outputs": [],
   "source": []
  }
 ],
 "metadata": {
  "kernelspec": {
   "display_name": "Python 3",
   "language": "python",
   "name": "python3"
  },
  "language_info": {
   "codemirror_mode": {
    "name": "ipython",
    "version": 3
   },
   "file_extension": ".py",
   "mimetype": "text/x-python",
   "name": "python",
   "nbconvert_exporter": "python",
   "pygments_lexer": "ipython3",
   "version": "3.6.4"
  }
 },
 "nbformat": 4,
 "nbformat_minor": 2
}
